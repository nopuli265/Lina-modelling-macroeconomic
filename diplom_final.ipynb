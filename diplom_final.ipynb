{
 "cells": [
  {
   "cell_type": "markdown",
   "id": "e7b407f7",
   "metadata": {},
   "source": [
    "# Тема: «Моделирование взаимосвязей макроэкономических процессов в странах мира»"
   ]
  },
  {
   "cell_type": "code",
   "execution_count": 1,
   "id": "22231ca6",
   "metadata": {
    "scrolled": false
   },
   "outputs": [],
   "source": [
    "#Importing the required python libraries\n",
    "#Импорт необходимых библиотек Python\n",
    "import pandas as pd\n",
    "import matplotlib as mpl\n",
    "import matplotlib.pyplot as plt\n",
    "import plotly\n",
    "import plotly.express as px\n",
    "import plotly.offline as offline\n",
    "from plotly.subplots import make_subplots\n",
    "import plotly.graph_objects as go\n",
    "import numpy as np\n",
    "import seaborn as sns\n",
    "mpl.style.use(['ggplot'])\n",
    "pd.set_option('display.max_rows',220)\n",
    "pd.set_option('display.max_columns',25)\n",
    "import wbgapi as wb\n",
    "from ipywidgets import widgets, interact, interactive, fixed, interact_manual\n",
    "from sklearn.metrics import mean_squared_error\n",
    "import warnings\n",
    "warnings.filterwarnings('ignore')\n",
    "from sklearn.linear_model import LinearRegression\n",
    "\n"
   ]
  },
  {
   "cell_type": "markdown",
   "id": "59d534eb",
   "metadata": {},
   "source": [
    "## I- Get Data"
   ]
  },
  {
   "cell_type": "markdown",
   "id": "d1406f48",
   "metadata": {},
   "source": [
    "### 1- страны и регионы по всему миру"
   ]
  },
  {
   "cell_type": "code",
   "execution_count": 2,
   "id": "b6776e54",
   "metadata": {
    "scrolled": false
   },
   "outputs": [],
   "source": [
    "# использовала библиотеку wbgapi для получения данных с сайта группы Всемирного банка\n",
    "countries=wb.economy.DataFrame(labels=True)"
   ]
  },
  {
   "cell_type": "code",
   "execution_count": 3,
   "id": "4b003953",
   "metadata": {
    "scrolled": false
   },
   "outputs": [
    {
     "data": {
      "text/html": [
       "<div>\n",
       "<style scoped>\n",
       "    .dataframe tbody tr th:only-of-type {\n",
       "        vertical-align: middle;\n",
       "    }\n",
       "\n",
       "    .dataframe tbody tr th {\n",
       "        vertical-align: top;\n",
       "    }\n",
       "\n",
       "    .dataframe thead th {\n",
       "        text-align: right;\n",
       "    }\n",
       "</style>\n",
       "<table border=\"1\" class=\"dataframe\">\n",
       "  <thead>\n",
       "    <tr style=\"text-align: right;\">\n",
       "      <th></th>\n",
       "      <th>name</th>\n",
       "      <th>aggregate</th>\n",
       "      <th>longitude</th>\n",
       "      <th>latitude</th>\n",
       "      <th>region</th>\n",
       "      <th>adminregion</th>\n",
       "      <th>lendingType</th>\n",
       "      <th>incomeLevel</th>\n",
       "      <th>capitalCity</th>\n",
       "    </tr>\n",
       "    <tr>\n",
       "      <th>id</th>\n",
       "      <th></th>\n",
       "      <th></th>\n",
       "      <th></th>\n",
       "      <th></th>\n",
       "      <th></th>\n",
       "      <th></th>\n",
       "      <th></th>\n",
       "      <th></th>\n",
       "      <th></th>\n",
       "    </tr>\n",
       "  </thead>\n",
       "  <tbody>\n",
       "    <tr>\n",
       "      <th>ABW</th>\n",
       "      <td>Aruba</td>\n",
       "      <td>False</td>\n",
       "      <td>-70.0167</td>\n",
       "      <td>12.51670</td>\n",
       "      <td>Latin America &amp; Caribbean</td>\n",
       "      <td>None</td>\n",
       "      <td>Not classified</td>\n",
       "      <td>High income</td>\n",
       "      <td>Oranjestad</td>\n",
       "    </tr>\n",
       "    <tr>\n",
       "      <th>AFE</th>\n",
       "      <td>Africa Eastern and Southern</td>\n",
       "      <td>True</td>\n",
       "      <td>NaN</td>\n",
       "      <td>NaN</td>\n",
       "      <td>None</td>\n",
       "      <td>None</td>\n",
       "      <td>None</td>\n",
       "      <td>None</td>\n",
       "      <td></td>\n",
       "    </tr>\n",
       "    <tr>\n",
       "      <th>AFG</th>\n",
       "      <td>Afghanistan</td>\n",
       "      <td>False</td>\n",
       "      <td>69.1761</td>\n",
       "      <td>34.52280</td>\n",
       "      <td>South Asia</td>\n",
       "      <td>South Asia</td>\n",
       "      <td>IDA</td>\n",
       "      <td>Low income</td>\n",
       "      <td>Kabul</td>\n",
       "    </tr>\n",
       "    <tr>\n",
       "      <th>AFW</th>\n",
       "      <td>Africa Western and Central</td>\n",
       "      <td>True</td>\n",
       "      <td>NaN</td>\n",
       "      <td>NaN</td>\n",
       "      <td>None</td>\n",
       "      <td>None</td>\n",
       "      <td>None</td>\n",
       "      <td>None</td>\n",
       "      <td></td>\n",
       "    </tr>\n",
       "    <tr>\n",
       "      <th>AGO</th>\n",
       "      <td>Angola</td>\n",
       "      <td>False</td>\n",
       "      <td>13.2420</td>\n",
       "      <td>-8.81155</td>\n",
       "      <td>Sub-Saharan Africa</td>\n",
       "      <td>Sub-Saharan Africa (excluding high income)</td>\n",
       "      <td>IBRD</td>\n",
       "      <td>Lower middle income</td>\n",
       "      <td>Luanda</td>\n",
       "    </tr>\n",
       "  </tbody>\n",
       "</table>\n",
       "</div>"
      ],
      "text/plain": [
       "                            name aggregate  longitude  latitude  \\\n",
       "id                                                                \n",
       "ABW                        Aruba     False   -70.0167  12.51670   \n",
       "AFE  Africa Eastern and Southern      True        NaN       NaN   \n",
       "AFG                  Afghanistan     False    69.1761  34.52280   \n",
       "AFW   Africa Western and Central      True        NaN       NaN   \n",
       "AGO                       Angola     False    13.2420  -8.81155   \n",
       "\n",
       "                        region                                 adminregion  \\\n",
       "id                                                                           \n",
       "ABW  Latin America & Caribbean                                        None   \n",
       "AFE                       None                                        None   \n",
       "AFG                 South Asia                                  South Asia   \n",
       "AFW                       None                                        None   \n",
       "AGO         Sub-Saharan Africa  Sub-Saharan Africa (excluding high income)   \n",
       "\n",
       "        lendingType          incomeLevel capitalCity  \n",
       "id                                                    \n",
       "ABW  Not classified          High income  Oranjestad  \n",
       "AFE            None                 None              \n",
       "AFG             IDA           Low income       Kabul  \n",
       "AFW            None                 None              \n",
       "AGO            IBRD  Lower middle income      Luanda  "
      ]
     },
     "execution_count": 3,
     "metadata": {},
     "output_type": "execute_result"
    }
   ],
   "source": [
    "countries.head()"
   ]
  },
  {
   "cell_type": "markdown",
   "id": "69cb3d3f",
   "metadata": {},
   "source": [
    "### 2- используемые макроэкономические показатели"
   ]
  },
  {
   "cell_type": "code",
   "execution_count": 4,
   "id": "71b2bb0f",
   "metadata": {
    "scrolled": false
   },
   "outputs": [],
   "source": [
    "# экономические показатели, влияющие на ВВП\n",
    "indicators={\n",
    "#     GDP\n",
    "    'NY.GDP.MKTP.CD':\"ВВП\",\n",
    "#     final consumption\n",
    "    'NE.CON.TOTL.CD':'Конечное потребление',\n",
    "#    Government final consumption\n",
    "    'NE.CON.GOVT.CD':'Конечное потребление правительства',\n",
    "#     gross capital formation\n",
    "    'NE.GDI.TOTL.CD':'Валовое накопление капитала',\n",
    "# импорт - экспорт\n",
    "    'NE.IMP.GNFS.CD':'Импорт',\n",
    "    'NE.EXP.GNFS.CD':'Экспорт',\n",
    "# уровень безработицы\n",
    "    'SL.UEM.TOTL.ZS':'Уровень безработицы',\n",
    "}"
   ]
  },
  {
   "cell_type": "markdown",
   "id": "ecbe21f5",
   "metadata": {},
   "source": [
    "### 3- Данные таблицы экономических показателей стран мира в 2020 году"
   ]
  },
  {
   "cell_type": "code",
   "execution_count": 5,
   "id": "f5fdc25e",
   "metadata": {
    "scrolled": false
   },
   "outputs": [],
   "source": [
    "df=wb.data.DataFrame(indicators.keys(),['all'], time=2020,labels=True,skipAggs=True)\n",
    "\n",
    "#добавить столбцы \"region\" во фреймы данных. регион взят из countries таблица\n",
    "df[['region']]=countries[['region']]\n",
    "\n",
    "#put region after countries\n",
    "df.insert(1,'Region',df['region']) \n",
    "\n",
    "df.drop(['region'],axis=1,inplace=True)\n",
    "\n",
    "#установить страну в качестве индекса\n",
    "df=df.reset_index().set_index('Country')\n",
    "\n",
    "df.rename(columns={i:j for i,j in zip(indicators.keys(),indicators.values())}, inplace=True)"
   ]
  },
  {
   "cell_type": "code",
   "execution_count": 6,
   "id": "0b0a3261",
   "metadata": {
    "scrolled": false
   },
   "outputs": [
    {
     "data": {
      "text/html": [
       "<div>\n",
       "<style scoped>\n",
       "    .dataframe tbody tr th:only-of-type {\n",
       "        vertical-align: middle;\n",
       "    }\n",
       "\n",
       "    .dataframe tbody tr th {\n",
       "        vertical-align: top;\n",
       "    }\n",
       "\n",
       "    .dataframe thead th {\n",
       "        text-align: right;\n",
       "    }\n",
       "</style>\n",
       "<table border=\"1\" class=\"dataframe\">\n",
       "  <thead>\n",
       "    <tr style=\"text-align: right;\">\n",
       "      <th></th>\n",
       "      <th>economy</th>\n",
       "      <th>Region</th>\n",
       "      <th>Конечное потребление правительства</th>\n",
       "      <th>Конечное потребление</th>\n",
       "      <th>Экспорт</th>\n",
       "      <th>Валовое накопление капитала</th>\n",
       "      <th>Импорт</th>\n",
       "      <th>ВВП</th>\n",
       "      <th>Уровень безработицы</th>\n",
       "    </tr>\n",
       "    <tr>\n",
       "      <th>Country</th>\n",
       "      <th></th>\n",
       "      <th></th>\n",
       "      <th></th>\n",
       "      <th></th>\n",
       "      <th></th>\n",
       "      <th></th>\n",
       "      <th></th>\n",
       "      <th></th>\n",
       "      <th></th>\n",
       "    </tr>\n",
       "  </thead>\n",
       "  <tbody>\n",
       "    <tr>\n",
       "      <th>Zimbabwe</th>\n",
       "      <td>ZWE</td>\n",
       "      <td>Sub-Saharan Africa</td>\n",
       "      <td>1.400265e+09</td>\n",
       "      <td>1.699446e+10</td>\n",
       "      <td>6.715439e+09</td>\n",
       "      <td>1.345078e+09</td>\n",
       "      <td>7.003801e+09</td>\n",
       "      <td>1.805117e+10</td>\n",
       "      <td>5.351000</td>\n",
       "    </tr>\n",
       "    <tr>\n",
       "      <th>Zambia</th>\n",
       "      <td>ZMB</td>\n",
       "      <td>Sub-Saharan Africa</td>\n",
       "      <td>2.664372e+09</td>\n",
       "      <td>9.633632e+09</td>\n",
       "      <td>8.473994e+09</td>\n",
       "      <td>5.848491e+09</td>\n",
       "      <td>5.892352e+09</td>\n",
       "      <td>1.811063e+10</td>\n",
       "      <td>12.848000</td>\n",
       "    </tr>\n",
       "    <tr>\n",
       "      <th>Yemen, Rep.</th>\n",
       "      <td>YEM</td>\n",
       "      <td>Middle East &amp; North Africa</td>\n",
       "      <td>NaN</td>\n",
       "      <td>NaN</td>\n",
       "      <td>NaN</td>\n",
       "      <td>NaN</td>\n",
       "      <td>NaN</td>\n",
       "      <td>NaN</td>\n",
       "      <td>13.391000</td>\n",
       "    </tr>\n",
       "    <tr>\n",
       "      <th>West Bank and Gaza</th>\n",
       "      <td>PSE</td>\n",
       "      <td>Middle East &amp; North Africa</td>\n",
       "      <td>3.646600e+09</td>\n",
       "      <td>1.752220e+10</td>\n",
       "      <td>2.495800e+09</td>\n",
       "      <td>3.634500e+09</td>\n",
       "      <td>7.948500e+09</td>\n",
       "      <td>1.556130e+10</td>\n",
       "      <td>25.889999</td>\n",
       "    </tr>\n",
       "    <tr>\n",
       "      <th>Virgin Islands (U.S.)</th>\n",
       "      <td>VIR</td>\n",
       "      <td>Latin America &amp; Caribbean</td>\n",
       "      <td>NaN</td>\n",
       "      <td>NaN</td>\n",
       "      <td>NaN</td>\n",
       "      <td>NaN</td>\n",
       "      <td>NaN</td>\n",
       "      <td>NaN</td>\n",
       "      <td>13.545000</td>\n",
       "    </tr>\n",
       "  </tbody>\n",
       "</table>\n",
       "</div>"
      ],
      "text/plain": [
       "                      economy                      Region  \\\n",
       "Country                                                     \n",
       "Zimbabwe                  ZWE          Sub-Saharan Africa   \n",
       "Zambia                    ZMB          Sub-Saharan Africa   \n",
       "Yemen, Rep.               YEM  Middle East & North Africa   \n",
       "West Bank and Gaza        PSE  Middle East & North Africa   \n",
       "Virgin Islands (U.S.)     VIR   Latin America & Caribbean   \n",
       "\n",
       "                       Конечное потребление правительства  \\\n",
       "Country                                                     \n",
       "Zimbabwe                                     1.400265e+09   \n",
       "Zambia                                       2.664372e+09   \n",
       "Yemen, Rep.                                           NaN   \n",
       "West Bank and Gaza                           3.646600e+09   \n",
       "Virgin Islands (U.S.)                                 NaN   \n",
       "\n",
       "                       Конечное потребление       Экспорт  \\\n",
       "Country                                                     \n",
       "Zimbabwe                       1.699446e+10  6.715439e+09   \n",
       "Zambia                         9.633632e+09  8.473994e+09   \n",
       "Yemen, Rep.                             NaN           NaN   \n",
       "West Bank and Gaza             1.752220e+10  2.495800e+09   \n",
       "Virgin Islands (U.S.)                   NaN           NaN   \n",
       "\n",
       "                       Валовое накопление капитала        Импорт  \\\n",
       "Country                                                            \n",
       "Zimbabwe                              1.345078e+09  7.003801e+09   \n",
       "Zambia                                5.848491e+09  5.892352e+09   \n",
       "Yemen, Rep.                                    NaN           NaN   \n",
       "West Bank and Gaza                    3.634500e+09  7.948500e+09   \n",
       "Virgin Islands (U.S.)                          NaN           NaN   \n",
       "\n",
       "                                ВВП  Уровень безработицы  \n",
       "Country                                                   \n",
       "Zimbabwe               1.805117e+10             5.351000  \n",
       "Zambia                 1.811063e+10            12.848000  \n",
       "Yemen, Rep.                     NaN            13.391000  \n",
       "West Bank and Gaza     1.556130e+10            25.889999  \n",
       "Virgin Islands (U.S.)           NaN            13.545000  "
      ]
     },
     "execution_count": 6,
     "metadata": {},
     "output_type": "execute_result"
    }
   ],
   "source": [
    "df.head()"
   ]
  },
  {
   "cell_type": "markdown",
   "id": "49864ed4",
   "metadata": {},
   "source": [
    "## II- data wrangling"
   ]
  },
  {
   "cell_type": "code",
   "execution_count": 7,
   "id": "41dbaf27",
   "metadata": {
    "scrolled": false
   },
   "outputs": [],
   "source": [
    "#1-удалить страны без данных\n",
    "df.dropna(inplace=True)\n",
    "\n",
    "#2-вставьте столбец значений столбца «ВВП» во 2-ю позицию таблицы данных\n",
    "#с названием GDP\n",
    "df.insert(2,\"GDP\",df[['ВВП']])\n",
    "#удалите столбец ВВП в таблице df,\n",
    "#потому что у нас есть столбец ВВП и столбец GDP с одинаковыми данными\n",
    "df.drop(['ВВП'], axis=1, inplace=True)\n",
    "#Затем мы меняем название GDP на ВВП\n",
    "df.rename(columns={'GDP':'ВВП'}, inplace=True)\n",
    "\n",
    "df['Чистый экспорт']=df['Экспорт']-df['Импорт']\n",
    "df.drop(['Экспорт','Импорт'],axis=1, inplace=True)\n",
    "\n",
    "#3- преобразовать данные из долларов в миллиарды долларов\n",
    "list_indicators=df.columns[2:]\n",
    "\n",
    "df[list_indicators]=df[list_indicators].astype(float)\n",
    "\n",
    "# игнорировать значение «уровень безработицы»\n",
    "df[list_indicators[0:4]]=df[list_indicators[0:4]]/100000000\n",
    "df[list_indicators[5]]=df[list_indicators[5]]/100000000"
   ]
  },
  {
   "cell_type": "code",
   "execution_count": 8,
   "id": "b9ee4037",
   "metadata": {
    "scrolled": false
   },
   "outputs": [
    {
     "data": {
      "text/html": [
       "<div>\n",
       "<style scoped>\n",
       "    .dataframe tbody tr th:only-of-type {\n",
       "        vertical-align: middle;\n",
       "    }\n",
       "\n",
       "    .dataframe tbody tr th {\n",
       "        vertical-align: top;\n",
       "    }\n",
       "\n",
       "    .dataframe thead th {\n",
       "        text-align: right;\n",
       "    }\n",
       "</style>\n",
       "<table border=\"1\" class=\"dataframe\">\n",
       "  <thead>\n",
       "    <tr style=\"text-align: right;\">\n",
       "      <th></th>\n",
       "      <th>economy</th>\n",
       "      <th>Region</th>\n",
       "      <th>ВВП</th>\n",
       "      <th>Конечное потребление правительства</th>\n",
       "      <th>Конечное потребление</th>\n",
       "      <th>Валовое накопление капитала</th>\n",
       "      <th>Уровень безработицы</th>\n",
       "      <th>Чистый экспорт</th>\n",
       "    </tr>\n",
       "    <tr>\n",
       "      <th>Country</th>\n",
       "      <th></th>\n",
       "      <th></th>\n",
       "      <th></th>\n",
       "      <th></th>\n",
       "      <th></th>\n",
       "      <th></th>\n",
       "      <th></th>\n",
       "      <th></th>\n",
       "    </tr>\n",
       "  </thead>\n",
       "  <tbody>\n",
       "    <tr>\n",
       "      <th>Zimbabwe</th>\n",
       "      <td>ZWE</td>\n",
       "      <td>Sub-Saharan Africa</td>\n",
       "      <td>180.511708</td>\n",
       "      <td>14.002647</td>\n",
       "      <td>169.944551</td>\n",
       "      <td>13.450775</td>\n",
       "      <td>5.351000</td>\n",
       "      <td>-2.883618</td>\n",
       "    </tr>\n",
       "    <tr>\n",
       "      <th>Zambia</th>\n",
       "      <td>ZMB</td>\n",
       "      <td>Sub-Saharan Africa</td>\n",
       "      <td>181.106314</td>\n",
       "      <td>26.643717</td>\n",
       "      <td>96.336315</td>\n",
       "      <td>58.484908</td>\n",
       "      <td>12.848000</td>\n",
       "      <td>25.816421</td>\n",
       "    </tr>\n",
       "    <tr>\n",
       "      <th>West Bank and Gaza</th>\n",
       "      <td>PSE</td>\n",
       "      <td>Middle East &amp; North Africa</td>\n",
       "      <td>155.613000</td>\n",
       "      <td>36.466000</td>\n",
       "      <td>175.222000</td>\n",
       "      <td>36.345000</td>\n",
       "      <td>25.889999</td>\n",
       "      <td>-54.527000</td>\n",
       "    </tr>\n",
       "    <tr>\n",
       "      <th>Vietnam</th>\n",
       "      <td>VNM</td>\n",
       "      <td>East Asia &amp; Pacific</td>\n",
       "      <td>2711.584424</td>\n",
       "      <td>182.025722</td>\n",
       "      <td>2021.974979</td>\n",
       "      <td>732.436239</td>\n",
       "      <td>2.390000</td>\n",
       "      <td>77.152774</td>\n",
       "    </tr>\n",
       "    <tr>\n",
       "      <th>Uzbekistan</th>\n",
       "      <td>UZB</td>\n",
       "      <td>Europe &amp; Central Asia</td>\n",
       "      <td>599.299511</td>\n",
       "      <td>101.319030</td>\n",
       "      <td>449.767702</td>\n",
       "      <td>230.108501</td>\n",
       "      <td>7.041000</td>\n",
       "      <td>-80.576680</td>\n",
       "    </tr>\n",
       "  </tbody>\n",
       "</table>\n",
       "</div>"
      ],
      "text/plain": [
       "                   economy                      Region          ВВП  \\\n",
       "Country                                                               \n",
       "Zimbabwe               ZWE          Sub-Saharan Africa   180.511708   \n",
       "Zambia                 ZMB          Sub-Saharan Africa   181.106314   \n",
       "West Bank and Gaza     PSE  Middle East & North Africa   155.613000   \n",
       "Vietnam                VNM         East Asia & Pacific  2711.584424   \n",
       "Uzbekistan             UZB       Europe & Central Asia   599.299511   \n",
       "\n",
       "                    Конечное потребление правительства  Конечное потребление  \\\n",
       "Country                                                                        \n",
       "Zimbabwe                                     14.002647            169.944551   \n",
       "Zambia                                       26.643717             96.336315   \n",
       "West Bank and Gaza                           36.466000            175.222000   \n",
       "Vietnam                                     182.025722           2021.974979   \n",
       "Uzbekistan                                  101.319030            449.767702   \n",
       "\n",
       "                    Валовое накопление капитала  Уровень безработицы  \\\n",
       "Country                                                                \n",
       "Zimbabwe                              13.450775             5.351000   \n",
       "Zambia                                58.484908            12.848000   \n",
       "West Bank and Gaza                    36.345000            25.889999   \n",
       "Vietnam                              732.436239             2.390000   \n",
       "Uzbekistan                           230.108501             7.041000   \n",
       "\n",
       "                    Чистый экспорт  \n",
       "Country                             \n",
       "Zimbabwe                 -2.883618  \n",
       "Zambia                   25.816421  \n",
       "West Bank and Gaza      -54.527000  \n",
       "Vietnam                  77.152774  \n",
       "Uzbekistan              -80.576680  "
      ]
     },
     "execution_count": 8,
     "metadata": {},
     "output_type": "execute_result"
    }
   ],
   "source": [
    "df.head()"
   ]
  },
  {
   "cell_type": "code",
   "execution_count": 9,
   "id": "b4cfdc0c",
   "metadata": {
    "scrolled": false
   },
   "outputs": [
    {
     "data": {
      "text/plain": [
       "(144, 8)"
      ]
     },
     "execution_count": 9,
     "metadata": {},
     "output_type": "execute_result"
    }
   ],
   "source": [
    "df.shape"
   ]
  },
  {
   "cell_type": "code",
   "execution_count": 10,
   "id": "5674c392",
   "metadata": {},
   "outputs": [],
   "source": [
    "import os\n",
    "if os.path.exists('data.csv'):\n",
    "    pass\n",
    "else:\n",
    "    df.to_csv('data.csv', encoding='cp1251')\n"
   ]
  },
  {
   "cell_type": "markdown",
   "id": "b5c16b81",
   "metadata": {},
   "source": [
    "## III- Исследование данных (Data Exploration)"
   ]
  },
  {
   "cell_type": "markdown",
   "id": "57d1e201",
   "metadata": {},
   "source": [
    "### 1- Распределение ВВП на карте мира в 2020 году(Distribution of GDP on the world map in 2020)"
   ]
  },
  {
   "cell_type": "code",
   "execution_count": 33,
   "id": "51b4ac06",
   "metadata": {
    "scrolled": false
   },
   "outputs": [
    {
     "data": {
      "application/vnd.plotly.v1+json": {
       "config": {
        "plotlyServerURL": "https://plotly.com"
       },
       "data": [
        {
         "coloraxis": "coloraxis",
         "geo": "geo",
         "hovertemplate": "<b>%{hovertext}</b><br><br>economy=%{location}<br>ВВП=%{z}<extra></extra>",
         "hovertext": [
          "Zimbabwe",
          "Zambia",
          "West Bank and Gaza",
          "Vietnam",
          "Uzbekistan",
          "United States",
          "United Kingdom",
          "Ukraine",
          "Uganda",
          "Turkey",
          "Tonga",
          "Togo",
          "Timor-Leste",
          "Thailand",
          "Tanzania",
          "Tajikistan",
          "Switzerland",
          "Sweden",
          "Sudan",
          "Sri Lanka",
          "Spain",
          "South Africa",
          "Slovenia",
          "Slovak Republic",
          "Singapore",
          "Sierra Leone",
          "Serbia",
          "Senegal",
          "Saudi Arabia",
          "Rwanda",
          "Russian Federation",
          "Romania",
          "Qatar",
          "Portugal",
          "Poland",
          "Philippines",
          "Peru",
          "Paraguay",
          "Panama",
          "Pakistan",
          "Oman",
          "Norway",
          "North Macedonia",
          "Nigeria",
          "Niger",
          "Nicaragua",
          "New Zealand",
          "Netherlands",
          "Nepal",
          "Namibia",
          "Morocco",
          "Montenegro",
          "Mongolia",
          "Moldova",
          "Mexico",
          "Mauritius",
          "Mauritania",
          "Malta",
          "Mali",
          "Maldives",
          "Malaysia",
          "Madagascar",
          "Macao SAR, China",
          "Luxembourg",
          "Lithuania",
          "Lebanon",
          "Latvia",
          "Kyrgyz Republic",
          "Korea, Rep.",
          "Kenya",
          "Kazakhstan",
          "Jordan",
          "Japan",
          "Jamaica",
          "Italy",
          "Israel",
          "Ireland",
          "Iran, Islamic Rep.",
          "Indonesia",
          "India",
          "Iceland",
          "Hungary",
          "Hong Kong SAR, China",
          "Honduras",
          "Haiti",
          "Guinea-Bissau",
          "Guinea",
          "Guatemala",
          "Greece",
          "Ghana",
          "Germany",
          "Georgia",
          "Gambia, The",
          "Gabon",
          "France",
          "Finland",
          "Fiji",
          "Ethiopia",
          "Eswatini",
          "Estonia",
          "Equatorial Guinea",
          "El Salvador",
          "Egypt, Arab Rep.",
          "Ecuador",
          "Dominican Republic",
          "Denmark",
          "Czech Republic",
          "Cyprus",
          "Cuba",
          "Croatia",
          "Cote d'Ivoire",
          "Costa Rica",
          "Congo, Rep.",
          "Congo, Dem. Rep.",
          "Colombia",
          "China",
          "Chile",
          "Chad",
          "Central African Republic",
          "Canada",
          "Cameroon",
          "Cambodia",
          "Cabo Verde",
          "Burundi",
          "Bulgaria",
          "Brunei Darussalam",
          "Brazil",
          "Botswana",
          "Bosnia and Herzegovina",
          "Bolivia",
          "Bhutan",
          "Benin",
          "Belize",
          "Belgium",
          "Belarus",
          "Bangladesh",
          "Bahamas, The",
          "Azerbaijan",
          "Austria",
          "Australia",
          "Armenia",
          "Argentina",
          "Angola",
          "Algeria"
         ],
         "locations": [
          "ZWE",
          "ZMB",
          "PSE",
          "VNM",
          "UZB",
          "USA",
          "GBR",
          "UKR",
          "UGA",
          "TUR",
          "TON",
          "TGO",
          "TLS",
          "THA",
          "TZA",
          "TJK",
          "CHE",
          "SWE",
          "SDN",
          "LKA",
          "ESP",
          "ZAF",
          "SVN",
          "SVK",
          "SGP",
          "SLE",
          "SRB",
          "SEN",
          "SAU",
          "RWA",
          "RUS",
          "ROU",
          "QAT",
          "PRT",
          "POL",
          "PHL",
          "PER",
          "PRY",
          "PAN",
          "PAK",
          "OMN",
          "NOR",
          "MKD",
          "NGA",
          "NER",
          "NIC",
          "NZL",
          "NLD",
          "NPL",
          "NAM",
          "MAR",
          "MNE",
          "MNG",
          "MDA",
          "MEX",
          "MUS",
          "MRT",
          "MLT",
          "MLI",
          "MDV",
          "MYS",
          "MDG",
          "MAC",
          "LUX",
          "LTU",
          "LBN",
          "LVA",
          "KGZ",
          "KOR",
          "KEN",
          "KAZ",
          "JOR",
          "JPN",
          "JAM",
          "ITA",
          "ISR",
          "IRL",
          "IRN",
          "IDN",
          "IND",
          "ISL",
          "HUN",
          "HKG",
          "HND",
          "HTI",
          "GNB",
          "GIN",
          "GTM",
          "GRC",
          "GHA",
          "DEU",
          "GEO",
          "GMB",
          "GAB",
          "FRA",
          "FIN",
          "FJI",
          "ETH",
          "SWZ",
          "EST",
          "GNQ",
          "SLV",
          "EGY",
          "ECU",
          "DOM",
          "DNK",
          "CZE",
          "CYP",
          "CUB",
          "HRV",
          "CIV",
          "CRI",
          "COG",
          "COD",
          "COL",
          "CHN",
          "CHL",
          "TCD",
          "CAF",
          "CAN",
          "CMR",
          "KHM",
          "CPV",
          "BDI",
          "BGR",
          "BRN",
          "BRA",
          "BWA",
          "BIH",
          "BOL",
          "BTN",
          "BEN",
          "BLZ",
          "BEL",
          "BLR",
          "BGD",
          "BHS",
          "AZE",
          "AUT",
          "AUS",
          "ARM",
          "ARG",
          "AGO",
          "DZA"
         ],
         "name": "",
         "type": "choropleth",
         "z": [
          180.51170798941,
          181.106313583114,
          155.613,
          2711.5844244853697,
          599.299511143598,
          209530.3,
          27598.0406183707,
          1554.98989149587,
          376.00368180939904,
          7199.548216833101,
          4.8882996407081905,
          75.7463697866173,
          19.021568,
          5016.43653514925,
          624.0970911095379,
          81.9415030178552,
          7522.4804573011,
          5412.2005945925,
          213.291095218077,
          806.76681933978,
          12814.846400435801,
          3354.42101366417,
          535.896095807099,
          1051.72564491569,
          3399.98477929985,
          40.632894495879505,
          533.350164254148,
          246.442345946566,
          7001.17873253333,
          103.339914555443,
          14834.977848676,
          2487.15551366635,
          1444.1136334526998,
          2285.39245045341,
          5966.24355719671,
          3614.8932523073104,
          2020.14363787233,
          356.703014961061,
          539.770369951729,
          2626.1000293850902,
          739.7139141742521,
          3621.9831843526,
          122.63710122764499,
          4322.93776262398,
          137.41378450136,
          126.21505382606199,
          2107.00848973509,
          9138.65395789886,
          336.57175561329,
          106.191945053543,
          1147.25065285149,
          47.6986074074074,
          133.12981594573,
          119.155472626561,
          10739.158808225,
          109.20606197692801,
          79.136802311828,
          146.47384607604,
          174.653929159153,
          37.4276996742798,
          3370.0606637326,
          130.560799823887,
          255.86111076341498,
          733.531327937076,
          565.4695747549121,
          317.352177845445,
          337.073208163036,
          77.35976272759831,
          16378.958027928998,
          1010.13726529063,
          1710.82379532988,
          436.97659295774696,
          50577.589587066395,
          138.124250365864,
          18887.0944368748,
          4071.0073659406403,
          4258.88950992003,
          2034.7130395234399,
          10584.2383834514,
          26602.4524886763,
          217.18075725205398,
          1558.08436238487,
          3465.8588150363503,
          236.622316339139,
          145.082180174032,
          14.317582429037499,
          156.81050917156298,
          776.046321705853,
          1888.3520162591,
          685.322818056722,
          38464.1392865371,
          158.464896108073,
          18.68086274822,
          153.168261915682,
          26303.1773145526,
          2695.94831987549,
          45.3388378227458,
          1076.4505431187602,
          39.7272894847088,
          306.50285471721503,
          100.218567544944,
          246.3872,
          3652.52651278852,
          988.0801,
          788.4470232907851,
          3560.84867685639,
          2453.39322066759,
          246.12646487721298,
          1073.52,
          572.037832030259,
          613.485794651017,
          618.468951207808,
          101.871223414051,
          487.169608600664,
          2714.37596293843,
          147227.306978901,
          2529.40023046007,
          108.29076801729,
          23.800877580413697,
          16454.234075683602,
          408.044497260184,
          258.085615509514,
          17.0369867669742,
          28.4178638219063,
          698.8934743343241,
          120.058257695087,
          14447.3325897165,
          150.619228016271,
          199.464965629733,
          365.727648628234,
          23.154373380880898,
          156.515453315404,
          16.3628079708056,
          5218.61292586616,
          602.582390555829,
          3230.56957972312,
          99.075,
          426.07176470588206,
          4332.58467676515,
          13278.3617106851,
          126.41209802112,
          3892.8805626532503,
          583.759762929678,
          1450.0918149062
         ]
        }
       ],
       "layout": {
        "coloraxis": {
         "colorbar": {
          "title": {
           "text": "ВВП"
          }
         },
         "colorscale": [
          [
           0,
           "rgb(254, 252, 205)"
          ],
          [
           0.09090909090909091,
           "rgb(239, 225, 156)"
          ],
          [
           0.18181818181818182,
           "rgb(221, 201, 106)"
          ],
          [
           0.2727272727272727,
           "rgb(194, 182, 59)"
          ],
          [
           0.36363636363636365,
           "rgb(157, 167, 21)"
          ],
          [
           0.45454545454545453,
           "rgb(116, 153, 5)"
          ],
          [
           0.5454545454545454,
           "rgb(75, 138, 20)"
          ],
          [
           0.6363636363636364,
           "rgb(35, 121, 36)"
          ],
          [
           0.7272727272727273,
           "rgb(11, 100, 44)"
          ],
          [
           0.8181818181818182,
           "rgb(18, 78, 43)"
          ],
          [
           0.9090909090909091,
           "rgb(25, 56, 34)"
          ],
          [
           1,
           "rgb(23, 35, 18)"
          ]
         ]
        },
        "font": {
         "color": "black"
        },
        "geo": {
         "center": {},
         "domain": {
          "x": [
           0,
           1
          ],
          "y": [
           0,
           1
          ]
         }
        },
        "legend": {
         "tracegroupgap": 0
        },
        "margin": {
         "t": 60
        },
        "template": {
         "data": {
          "bar": [
           {
            "error_x": {
             "color": "#2a3f5f"
            },
            "error_y": {
             "color": "#2a3f5f"
            },
            "marker": {
             "line": {
              "color": "#E5ECF6",
              "width": 0.5
             },
             "pattern": {
              "fillmode": "overlay",
              "size": 10,
              "solidity": 0.2
             }
            },
            "type": "bar"
           }
          ],
          "barpolar": [
           {
            "marker": {
             "line": {
              "color": "#E5ECF6",
              "width": 0.5
             },
             "pattern": {
              "fillmode": "overlay",
              "size": 10,
              "solidity": 0.2
             }
            },
            "type": "barpolar"
           }
          ],
          "carpet": [
           {
            "aaxis": {
             "endlinecolor": "#2a3f5f",
             "gridcolor": "white",
             "linecolor": "white",
             "minorgridcolor": "white",
             "startlinecolor": "#2a3f5f"
            },
            "baxis": {
             "endlinecolor": "#2a3f5f",
             "gridcolor": "white",
             "linecolor": "white",
             "minorgridcolor": "white",
             "startlinecolor": "#2a3f5f"
            },
            "type": "carpet"
           }
          ],
          "choropleth": [
           {
            "colorbar": {
             "outlinewidth": 0,
             "ticks": ""
            },
            "type": "choropleth"
           }
          ],
          "contour": [
           {
            "colorbar": {
             "outlinewidth": 0,
             "ticks": ""
            },
            "colorscale": [
             [
              0,
              "#0d0887"
             ],
             [
              0.1111111111111111,
              "#46039f"
             ],
             [
              0.2222222222222222,
              "#7201a8"
             ],
             [
              0.3333333333333333,
              "#9c179e"
             ],
             [
              0.4444444444444444,
              "#bd3786"
             ],
             [
              0.5555555555555556,
              "#d8576b"
             ],
             [
              0.6666666666666666,
              "#ed7953"
             ],
             [
              0.7777777777777778,
              "#fb9f3a"
             ],
             [
              0.8888888888888888,
              "#fdca26"
             ],
             [
              1,
              "#f0f921"
             ]
            ],
            "type": "contour"
           }
          ],
          "contourcarpet": [
           {
            "colorbar": {
             "outlinewidth": 0,
             "ticks": ""
            },
            "type": "contourcarpet"
           }
          ],
          "heatmap": [
           {
            "colorbar": {
             "outlinewidth": 0,
             "ticks": ""
            },
            "colorscale": [
             [
              0,
              "#0d0887"
             ],
             [
              0.1111111111111111,
              "#46039f"
             ],
             [
              0.2222222222222222,
              "#7201a8"
             ],
             [
              0.3333333333333333,
              "#9c179e"
             ],
             [
              0.4444444444444444,
              "#bd3786"
             ],
             [
              0.5555555555555556,
              "#d8576b"
             ],
             [
              0.6666666666666666,
              "#ed7953"
             ],
             [
              0.7777777777777778,
              "#fb9f3a"
             ],
             [
              0.8888888888888888,
              "#fdca26"
             ],
             [
              1,
              "#f0f921"
             ]
            ],
            "type": "heatmap"
           }
          ],
          "heatmapgl": [
           {
            "colorbar": {
             "outlinewidth": 0,
             "ticks": ""
            },
            "colorscale": [
             [
              0,
              "#0d0887"
             ],
             [
              0.1111111111111111,
              "#46039f"
             ],
             [
              0.2222222222222222,
              "#7201a8"
             ],
             [
              0.3333333333333333,
              "#9c179e"
             ],
             [
              0.4444444444444444,
              "#bd3786"
             ],
             [
              0.5555555555555556,
              "#d8576b"
             ],
             [
              0.6666666666666666,
              "#ed7953"
             ],
             [
              0.7777777777777778,
              "#fb9f3a"
             ],
             [
              0.8888888888888888,
              "#fdca26"
             ],
             [
              1,
              "#f0f921"
             ]
            ],
            "type": "heatmapgl"
           }
          ],
          "histogram": [
           {
            "marker": {
             "pattern": {
              "fillmode": "overlay",
              "size": 10,
              "solidity": 0.2
             }
            },
            "type": "histogram"
           }
          ],
          "histogram2d": [
           {
            "colorbar": {
             "outlinewidth": 0,
             "ticks": ""
            },
            "colorscale": [
             [
              0,
              "#0d0887"
             ],
             [
              0.1111111111111111,
              "#46039f"
             ],
             [
              0.2222222222222222,
              "#7201a8"
             ],
             [
              0.3333333333333333,
              "#9c179e"
             ],
             [
              0.4444444444444444,
              "#bd3786"
             ],
             [
              0.5555555555555556,
              "#d8576b"
             ],
             [
              0.6666666666666666,
              "#ed7953"
             ],
             [
              0.7777777777777778,
              "#fb9f3a"
             ],
             [
              0.8888888888888888,
              "#fdca26"
             ],
             [
              1,
              "#f0f921"
             ]
            ],
            "type": "histogram2d"
           }
          ],
          "histogram2dcontour": [
           {
            "colorbar": {
             "outlinewidth": 0,
             "ticks": ""
            },
            "colorscale": [
             [
              0,
              "#0d0887"
             ],
             [
              0.1111111111111111,
              "#46039f"
             ],
             [
              0.2222222222222222,
              "#7201a8"
             ],
             [
              0.3333333333333333,
              "#9c179e"
             ],
             [
              0.4444444444444444,
              "#bd3786"
             ],
             [
              0.5555555555555556,
              "#d8576b"
             ],
             [
              0.6666666666666666,
              "#ed7953"
             ],
             [
              0.7777777777777778,
              "#fb9f3a"
             ],
             [
              0.8888888888888888,
              "#fdca26"
             ],
             [
              1,
              "#f0f921"
             ]
            ],
            "type": "histogram2dcontour"
           }
          ],
          "mesh3d": [
           {
            "colorbar": {
             "outlinewidth": 0,
             "ticks": ""
            },
            "type": "mesh3d"
           }
          ],
          "parcoords": [
           {
            "line": {
             "colorbar": {
              "outlinewidth": 0,
              "ticks": ""
             }
            },
            "type": "parcoords"
           }
          ],
          "pie": [
           {
            "automargin": true,
            "type": "pie"
           }
          ],
          "scatter": [
           {
            "fillpattern": {
             "fillmode": "overlay",
             "size": 10,
             "solidity": 0.2
            },
            "type": "scatter"
           }
          ],
          "scatter3d": [
           {
            "line": {
             "colorbar": {
              "outlinewidth": 0,
              "ticks": ""
             }
            },
            "marker": {
             "colorbar": {
              "outlinewidth": 0,
              "ticks": ""
             }
            },
            "type": "scatter3d"
           }
          ],
          "scattercarpet": [
           {
            "marker": {
             "colorbar": {
              "outlinewidth": 0,
              "ticks": ""
             }
            },
            "type": "scattercarpet"
           }
          ],
          "scattergeo": [
           {
            "marker": {
             "colorbar": {
              "outlinewidth": 0,
              "ticks": ""
             }
            },
            "type": "scattergeo"
           }
          ],
          "scattergl": [
           {
            "marker": {
             "colorbar": {
              "outlinewidth": 0,
              "ticks": ""
             }
            },
            "type": "scattergl"
           }
          ],
          "scattermapbox": [
           {
            "marker": {
             "colorbar": {
              "outlinewidth": 0,
              "ticks": ""
             }
            },
            "type": "scattermapbox"
           }
          ],
          "scatterpolar": [
           {
            "marker": {
             "colorbar": {
              "outlinewidth": 0,
              "ticks": ""
             }
            },
            "type": "scatterpolar"
           }
          ],
          "scatterpolargl": [
           {
            "marker": {
             "colorbar": {
              "outlinewidth": 0,
              "ticks": ""
             }
            },
            "type": "scatterpolargl"
           }
          ],
          "scatterternary": [
           {
            "marker": {
             "colorbar": {
              "outlinewidth": 0,
              "ticks": ""
             }
            },
            "type": "scatterternary"
           }
          ],
          "surface": [
           {
            "colorbar": {
             "outlinewidth": 0,
             "ticks": ""
            },
            "colorscale": [
             [
              0,
              "#0d0887"
             ],
             [
              0.1111111111111111,
              "#46039f"
             ],
             [
              0.2222222222222222,
              "#7201a8"
             ],
             [
              0.3333333333333333,
              "#9c179e"
             ],
             [
              0.4444444444444444,
              "#bd3786"
             ],
             [
              0.5555555555555556,
              "#d8576b"
             ],
             [
              0.6666666666666666,
              "#ed7953"
             ],
             [
              0.7777777777777778,
              "#fb9f3a"
             ],
             [
              0.8888888888888888,
              "#fdca26"
             ],
             [
              1,
              "#f0f921"
             ]
            ],
            "type": "surface"
           }
          ],
          "table": [
           {
            "cells": {
             "fill": {
              "color": "#EBF0F8"
             },
             "line": {
              "color": "white"
             }
            },
            "header": {
             "fill": {
              "color": "#C8D4E3"
             },
             "line": {
              "color": "white"
             }
            },
            "type": "table"
           }
          ]
         },
         "layout": {
          "annotationdefaults": {
           "arrowcolor": "#2a3f5f",
           "arrowhead": 0,
           "arrowwidth": 1
          },
          "autotypenumbers": "strict",
          "coloraxis": {
           "colorbar": {
            "outlinewidth": 0,
            "ticks": ""
           }
          },
          "colorscale": {
           "diverging": [
            [
             0,
             "#8e0152"
            ],
            [
             0.1,
             "#c51b7d"
            ],
            [
             0.2,
             "#de77ae"
            ],
            [
             0.3,
             "#f1b6da"
            ],
            [
             0.4,
             "#fde0ef"
            ],
            [
             0.5,
             "#f7f7f7"
            ],
            [
             0.6,
             "#e6f5d0"
            ],
            [
             0.7,
             "#b8e186"
            ],
            [
             0.8,
             "#7fbc41"
            ],
            [
             0.9,
             "#4d9221"
            ],
            [
             1,
             "#276419"
            ]
           ],
           "sequential": [
            [
             0,
             "#0d0887"
            ],
            [
             0.1111111111111111,
             "#46039f"
            ],
            [
             0.2222222222222222,
             "#7201a8"
            ],
            [
             0.3333333333333333,
             "#9c179e"
            ],
            [
             0.4444444444444444,
             "#bd3786"
            ],
            [
             0.5555555555555556,
             "#d8576b"
            ],
            [
             0.6666666666666666,
             "#ed7953"
            ],
            [
             0.7777777777777778,
             "#fb9f3a"
            ],
            [
             0.8888888888888888,
             "#fdca26"
            ],
            [
             1,
             "#f0f921"
            ]
           ],
           "sequentialminus": [
            [
             0,
             "#0d0887"
            ],
            [
             0.1111111111111111,
             "#46039f"
            ],
            [
             0.2222222222222222,
             "#7201a8"
            ],
            [
             0.3333333333333333,
             "#9c179e"
            ],
            [
             0.4444444444444444,
             "#bd3786"
            ],
            [
             0.5555555555555556,
             "#d8576b"
            ],
            [
             0.6666666666666666,
             "#ed7953"
            ],
            [
             0.7777777777777778,
             "#fb9f3a"
            ],
            [
             0.8888888888888888,
             "#fdca26"
            ],
            [
             1,
             "#f0f921"
            ]
           ]
          },
          "colorway": [
           "#636efa",
           "#EF553B",
           "#00cc96",
           "#ab63fa",
           "#FFA15A",
           "#19d3f3",
           "#FF6692",
           "#B6E880",
           "#FF97FF",
           "#FECB52"
          ],
          "font": {
           "color": "#2a3f5f"
          },
          "geo": {
           "bgcolor": "white",
           "lakecolor": "white",
           "landcolor": "#E5ECF6",
           "showlakes": true,
           "showland": true,
           "subunitcolor": "white"
          },
          "hoverlabel": {
           "align": "left"
          },
          "hovermode": "closest",
          "mapbox": {
           "style": "light"
          },
          "paper_bgcolor": "white",
          "plot_bgcolor": "#E5ECF6",
          "polar": {
           "angularaxis": {
            "gridcolor": "white",
            "linecolor": "white",
            "ticks": ""
           },
           "bgcolor": "#E5ECF6",
           "radialaxis": {
            "gridcolor": "white",
            "linecolor": "white",
            "ticks": ""
           }
          },
          "scene": {
           "xaxis": {
            "backgroundcolor": "#E5ECF6",
            "gridcolor": "white",
            "gridwidth": 2,
            "linecolor": "white",
            "showbackground": true,
            "ticks": "",
            "zerolinecolor": "white"
           },
           "yaxis": {
            "backgroundcolor": "#E5ECF6",
            "gridcolor": "white",
            "gridwidth": 2,
            "linecolor": "white",
            "showbackground": true,
            "ticks": "",
            "zerolinecolor": "white"
           },
           "zaxis": {
            "backgroundcolor": "#E5ECF6",
            "gridcolor": "white",
            "gridwidth": 2,
            "linecolor": "white",
            "showbackground": true,
            "ticks": "",
            "zerolinecolor": "white"
           }
          },
          "shapedefaults": {
           "line": {
            "color": "#2a3f5f"
           }
          },
          "ternary": {
           "aaxis": {
            "gridcolor": "white",
            "linecolor": "white",
            "ticks": ""
           },
           "baxis": {
            "gridcolor": "white",
            "linecolor": "white",
            "ticks": ""
           },
           "bgcolor": "#E5ECF6",
           "caxis": {
            "gridcolor": "white",
            "linecolor": "white",
            "ticks": ""
           }
          },
          "title": {
           "x": 0.05
          },
          "xaxis": {
           "automargin": true,
           "gridcolor": "white",
           "linecolor": "white",
           "ticks": "",
           "title": {
            "standoff": 15
           },
           "zerolinecolor": "white",
           "zerolinewidth": 2
          },
          "yaxis": {
           "automargin": true,
           "gridcolor": "white",
           "linecolor": "white",
           "ticks": "",
           "title": {
            "standoff": 15
           },
           "zerolinecolor": "white",
           "zerolinewidth": 2
          }
         }
        },
        "title": {
         "font": {
          "size": 25
         },
         "text": "Распределение ВВП на карте мира в 2020 году",
         "x": 0.5
        }
       }
      },
      "text/html": [
       "<div>                            <div id=\"0fca9e9f-0fc7-403b-9c67-4d87c2dc978b\" class=\"plotly-graph-div\" style=\"height:525px; width:100%;\"></div>            <script type=\"text/javascript\">                require([\"plotly\"], function(Plotly) {                    window.PLOTLYENV=window.PLOTLYENV || {};                                    if (document.getElementById(\"0fca9e9f-0fc7-403b-9c67-4d87c2dc978b\")) {                    Plotly.newPlot(                        \"0fca9e9f-0fc7-403b-9c67-4d87c2dc978b\",                        [{\"coloraxis\":\"coloraxis\",\"geo\":\"geo\",\"hovertemplate\":\"<b>%{hovertext}</b><br><br>economy=%{location}<br>\\u0412\\u0412\\u041f=%{z}<extra></extra>\",\"hovertext\":[\"Zimbabwe\",\"Zambia\",\"West Bank and Gaza\",\"Vietnam\",\"Uzbekistan\",\"United States\",\"United Kingdom\",\"Ukraine\",\"Uganda\",\"Turkey\",\"Tonga\",\"Togo\",\"Timor-Leste\",\"Thailand\",\"Tanzania\",\"Tajikistan\",\"Switzerland\",\"Sweden\",\"Sudan\",\"Sri Lanka\",\"Spain\",\"South Africa\",\"Slovenia\",\"Slovak Republic\",\"Singapore\",\"Sierra Leone\",\"Serbia\",\"Senegal\",\"Saudi Arabia\",\"Rwanda\",\"Russian Federation\",\"Romania\",\"Qatar\",\"Portugal\",\"Poland\",\"Philippines\",\"Peru\",\"Paraguay\",\"Panama\",\"Pakistan\",\"Oman\",\"Norway\",\"North Macedonia\",\"Nigeria\",\"Niger\",\"Nicaragua\",\"New Zealand\",\"Netherlands\",\"Nepal\",\"Namibia\",\"Morocco\",\"Montenegro\",\"Mongolia\",\"Moldova\",\"Mexico\",\"Mauritius\",\"Mauritania\",\"Malta\",\"Mali\",\"Maldives\",\"Malaysia\",\"Madagascar\",\"Macao SAR, China\",\"Luxembourg\",\"Lithuania\",\"Lebanon\",\"Latvia\",\"Kyrgyz Republic\",\"Korea, Rep.\",\"Kenya\",\"Kazakhstan\",\"Jordan\",\"Japan\",\"Jamaica\",\"Italy\",\"Israel\",\"Ireland\",\"Iran, Islamic Rep.\",\"Indonesia\",\"India\",\"Iceland\",\"Hungary\",\"Hong Kong SAR, China\",\"Honduras\",\"Haiti\",\"Guinea-Bissau\",\"Guinea\",\"Guatemala\",\"Greece\",\"Ghana\",\"Germany\",\"Georgia\",\"Gambia, The\",\"Gabon\",\"France\",\"Finland\",\"Fiji\",\"Ethiopia\",\"Eswatini\",\"Estonia\",\"Equatorial Guinea\",\"El Salvador\",\"Egypt, Arab Rep.\",\"Ecuador\",\"Dominican Republic\",\"Denmark\",\"Czech Republic\",\"Cyprus\",\"Cuba\",\"Croatia\",\"Cote d'Ivoire\",\"Costa Rica\",\"Congo, Rep.\",\"Congo, Dem. Rep.\",\"Colombia\",\"China\",\"Chile\",\"Chad\",\"Central African Republic\",\"Canada\",\"Cameroon\",\"Cambodia\",\"Cabo Verde\",\"Burundi\",\"Bulgaria\",\"Brunei Darussalam\",\"Brazil\",\"Botswana\",\"Bosnia and Herzegovina\",\"Bolivia\",\"Bhutan\",\"Benin\",\"Belize\",\"Belgium\",\"Belarus\",\"Bangladesh\",\"Bahamas, The\",\"Azerbaijan\",\"Austria\",\"Australia\",\"Armenia\",\"Argentina\",\"Angola\",\"Algeria\"],\"locations\":[\"ZWE\",\"ZMB\",\"PSE\",\"VNM\",\"UZB\",\"USA\",\"GBR\",\"UKR\",\"UGA\",\"TUR\",\"TON\",\"TGO\",\"TLS\",\"THA\",\"TZA\",\"TJK\",\"CHE\",\"SWE\",\"SDN\",\"LKA\",\"ESP\",\"ZAF\",\"SVN\",\"SVK\",\"SGP\",\"SLE\",\"SRB\",\"SEN\",\"SAU\",\"RWA\",\"RUS\",\"ROU\",\"QAT\",\"PRT\",\"POL\",\"PHL\",\"PER\",\"PRY\",\"PAN\",\"PAK\",\"OMN\",\"NOR\",\"MKD\",\"NGA\",\"NER\",\"NIC\",\"NZL\",\"NLD\",\"NPL\",\"NAM\",\"MAR\",\"MNE\",\"MNG\",\"MDA\",\"MEX\",\"MUS\",\"MRT\",\"MLT\",\"MLI\",\"MDV\",\"MYS\",\"MDG\",\"MAC\",\"LUX\",\"LTU\",\"LBN\",\"LVA\",\"KGZ\",\"KOR\",\"KEN\",\"KAZ\",\"JOR\",\"JPN\",\"JAM\",\"ITA\",\"ISR\",\"IRL\",\"IRN\",\"IDN\",\"IND\",\"ISL\",\"HUN\",\"HKG\",\"HND\",\"HTI\",\"GNB\",\"GIN\",\"GTM\",\"GRC\",\"GHA\",\"DEU\",\"GEO\",\"GMB\",\"GAB\",\"FRA\",\"FIN\",\"FJI\",\"ETH\",\"SWZ\",\"EST\",\"GNQ\",\"SLV\",\"EGY\",\"ECU\",\"DOM\",\"DNK\",\"CZE\",\"CYP\",\"CUB\",\"HRV\",\"CIV\",\"CRI\",\"COG\",\"COD\",\"COL\",\"CHN\",\"CHL\",\"TCD\",\"CAF\",\"CAN\",\"CMR\",\"KHM\",\"CPV\",\"BDI\",\"BGR\",\"BRN\",\"BRA\",\"BWA\",\"BIH\",\"BOL\",\"BTN\",\"BEN\",\"BLZ\",\"BEL\",\"BLR\",\"BGD\",\"BHS\",\"AZE\",\"AUT\",\"AUS\",\"ARM\",\"ARG\",\"AGO\",\"DZA\"],\"name\":\"\",\"z\":[180.51170798941,181.106313583114,155.613,2711.5844244853697,599.299511143598,209530.3,27598.0406183707,1554.98989149587,376.00368180939904,7199.548216833101,4.8882996407081905,75.7463697866173,19.021568,5016.43653514925,624.0970911095379,81.9415030178552,7522.4804573011,5412.2005945925,213.291095218077,806.76681933978,12814.846400435801,3354.42101366417,535.896095807099,1051.72564491569,3399.98477929985,40.632894495879505,533.350164254148,246.442345946566,7001.17873253333,103.339914555443,14834.977848676,2487.15551366635,1444.1136334526998,2285.39245045341,5966.24355719671,3614.8932523073104,2020.14363787233,356.703014961061,539.770369951729,2626.1000293850902,739.7139141742521,3621.9831843526,122.63710122764499,4322.93776262398,137.41378450136,126.21505382606199,2107.00848973509,9138.65395789886,336.57175561329,106.191945053543,1147.25065285149,47.6986074074074,133.12981594573,119.155472626561,10739.158808225,109.20606197692801,79.136802311828,146.47384607604,174.653929159153,37.4276996742798,3370.0606637326,130.560799823887,255.86111076341498,733.531327937076,565.4695747549121,317.352177845445,337.073208163036,77.35976272759831,16378.958027928998,1010.13726529063,1710.82379532988,436.97659295774696,50577.589587066395,138.124250365864,18887.0944368748,4071.0073659406403,4258.88950992003,2034.7130395234399,10584.2383834514,26602.4524886763,217.18075725205398,1558.08436238487,3465.8588150363503,236.622316339139,145.082180174032,14.317582429037499,156.81050917156298,776.046321705853,1888.3520162591,685.322818056722,38464.1392865371,158.464896108073,18.68086274822,153.168261915682,26303.1773145526,2695.94831987549,45.3388378227458,1076.4505431187602,39.7272894847088,306.50285471721503,100.218567544944,246.3872,3652.52651278852,988.0801,788.4470232907851,3560.84867685639,2453.39322066759,246.12646487721298,1073.52,572.037832030259,613.485794651017,618.468951207808,101.871223414051,487.169608600664,2714.37596293843,147227.306978901,2529.40023046007,108.29076801729,23.800877580413697,16454.234075683602,408.044497260184,258.085615509514,17.0369867669742,28.4178638219063,698.8934743343241,120.058257695087,14447.3325897165,150.619228016271,199.464965629733,365.727648628234,23.154373380880898,156.515453315404,16.3628079708056,5218.61292586616,602.582390555829,3230.56957972312,99.075,426.07176470588206,4332.58467676515,13278.3617106851,126.41209802112,3892.8805626532503,583.759762929678,1450.0918149062],\"type\":\"choropleth\"}],                        {\"template\":{\"data\":{\"histogram2dcontour\":[{\"type\":\"histogram2dcontour\",\"colorbar\":{\"outlinewidth\":0,\"ticks\":\"\"},\"colorscale\":[[0.0,\"#0d0887\"],[0.1111111111111111,\"#46039f\"],[0.2222222222222222,\"#7201a8\"],[0.3333333333333333,\"#9c179e\"],[0.4444444444444444,\"#bd3786\"],[0.5555555555555556,\"#d8576b\"],[0.6666666666666666,\"#ed7953\"],[0.7777777777777778,\"#fb9f3a\"],[0.8888888888888888,\"#fdca26\"],[1.0,\"#f0f921\"]]}],\"choropleth\":[{\"type\":\"choropleth\",\"colorbar\":{\"outlinewidth\":0,\"ticks\":\"\"}}],\"histogram2d\":[{\"type\":\"histogram2d\",\"colorbar\":{\"outlinewidth\":0,\"ticks\":\"\"},\"colorscale\":[[0.0,\"#0d0887\"],[0.1111111111111111,\"#46039f\"],[0.2222222222222222,\"#7201a8\"],[0.3333333333333333,\"#9c179e\"],[0.4444444444444444,\"#bd3786\"],[0.5555555555555556,\"#d8576b\"],[0.6666666666666666,\"#ed7953\"],[0.7777777777777778,\"#fb9f3a\"],[0.8888888888888888,\"#fdca26\"],[1.0,\"#f0f921\"]]}],\"heatmap\":[{\"type\":\"heatmap\",\"colorbar\":{\"outlinewidth\":0,\"ticks\":\"\"},\"colorscale\":[[0.0,\"#0d0887\"],[0.1111111111111111,\"#46039f\"],[0.2222222222222222,\"#7201a8\"],[0.3333333333333333,\"#9c179e\"],[0.4444444444444444,\"#bd3786\"],[0.5555555555555556,\"#d8576b\"],[0.6666666666666666,\"#ed7953\"],[0.7777777777777778,\"#fb9f3a\"],[0.8888888888888888,\"#fdca26\"],[1.0,\"#f0f921\"]]}],\"heatmapgl\":[{\"type\":\"heatmapgl\",\"colorbar\":{\"outlinewidth\":0,\"ticks\":\"\"},\"colorscale\":[[0.0,\"#0d0887\"],[0.1111111111111111,\"#46039f\"],[0.2222222222222222,\"#7201a8\"],[0.3333333333333333,\"#9c179e\"],[0.4444444444444444,\"#bd3786\"],[0.5555555555555556,\"#d8576b\"],[0.6666666666666666,\"#ed7953\"],[0.7777777777777778,\"#fb9f3a\"],[0.8888888888888888,\"#fdca26\"],[1.0,\"#f0f921\"]]}],\"contourcarpet\":[{\"type\":\"contourcarpet\",\"colorbar\":{\"outlinewidth\":0,\"ticks\":\"\"}}],\"contour\":[{\"type\":\"contour\",\"colorbar\":{\"outlinewidth\":0,\"ticks\":\"\"},\"colorscale\":[[0.0,\"#0d0887\"],[0.1111111111111111,\"#46039f\"],[0.2222222222222222,\"#7201a8\"],[0.3333333333333333,\"#9c179e\"],[0.4444444444444444,\"#bd3786\"],[0.5555555555555556,\"#d8576b\"],[0.6666666666666666,\"#ed7953\"],[0.7777777777777778,\"#fb9f3a\"],[0.8888888888888888,\"#fdca26\"],[1.0,\"#f0f921\"]]}],\"surface\":[{\"type\":\"surface\",\"colorbar\":{\"outlinewidth\":0,\"ticks\":\"\"},\"colorscale\":[[0.0,\"#0d0887\"],[0.1111111111111111,\"#46039f\"],[0.2222222222222222,\"#7201a8\"],[0.3333333333333333,\"#9c179e\"],[0.4444444444444444,\"#bd3786\"],[0.5555555555555556,\"#d8576b\"],[0.6666666666666666,\"#ed7953\"],[0.7777777777777778,\"#fb9f3a\"],[0.8888888888888888,\"#fdca26\"],[1.0,\"#f0f921\"]]}],\"mesh3d\":[{\"type\":\"mesh3d\",\"colorbar\":{\"outlinewidth\":0,\"ticks\":\"\"}}],\"scatter\":[{\"fillpattern\":{\"fillmode\":\"overlay\",\"size\":10,\"solidity\":0.2},\"type\":\"scatter\"}],\"parcoords\":[{\"type\":\"parcoords\",\"line\":{\"colorbar\":{\"outlinewidth\":0,\"ticks\":\"\"}}}],\"scatterpolargl\":[{\"type\":\"scatterpolargl\",\"marker\":{\"colorbar\":{\"outlinewidth\":0,\"ticks\":\"\"}}}],\"bar\":[{\"error_x\":{\"color\":\"#2a3f5f\"},\"error_y\":{\"color\":\"#2a3f5f\"},\"marker\":{\"line\":{\"color\":\"#E5ECF6\",\"width\":0.5},\"pattern\":{\"fillmode\":\"overlay\",\"size\":10,\"solidity\":0.2}},\"type\":\"bar\"}],\"scattergeo\":[{\"type\":\"scattergeo\",\"marker\":{\"colorbar\":{\"outlinewidth\":0,\"ticks\":\"\"}}}],\"scatterpolar\":[{\"type\":\"scatterpolar\",\"marker\":{\"colorbar\":{\"outlinewidth\":0,\"ticks\":\"\"}}}],\"histogram\":[{\"marker\":{\"pattern\":{\"fillmode\":\"overlay\",\"size\":10,\"solidity\":0.2}},\"type\":\"histogram\"}],\"scattergl\":[{\"type\":\"scattergl\",\"marker\":{\"colorbar\":{\"outlinewidth\":0,\"ticks\":\"\"}}}],\"scatter3d\":[{\"type\":\"scatter3d\",\"line\":{\"colorbar\":{\"outlinewidth\":0,\"ticks\":\"\"}},\"marker\":{\"colorbar\":{\"outlinewidth\":0,\"ticks\":\"\"}}}],\"scattermapbox\":[{\"type\":\"scattermapbox\",\"marker\":{\"colorbar\":{\"outlinewidth\":0,\"ticks\":\"\"}}}],\"scatterternary\":[{\"type\":\"scatterternary\",\"marker\":{\"colorbar\":{\"outlinewidth\":0,\"ticks\":\"\"}}}],\"scattercarpet\":[{\"type\":\"scattercarpet\",\"marker\":{\"colorbar\":{\"outlinewidth\":0,\"ticks\":\"\"}}}],\"carpet\":[{\"aaxis\":{\"endlinecolor\":\"#2a3f5f\",\"gridcolor\":\"white\",\"linecolor\":\"white\",\"minorgridcolor\":\"white\",\"startlinecolor\":\"#2a3f5f\"},\"baxis\":{\"endlinecolor\":\"#2a3f5f\",\"gridcolor\":\"white\",\"linecolor\":\"white\",\"minorgridcolor\":\"white\",\"startlinecolor\":\"#2a3f5f\"},\"type\":\"carpet\"}],\"table\":[{\"cells\":{\"fill\":{\"color\":\"#EBF0F8\"},\"line\":{\"color\":\"white\"}},\"header\":{\"fill\":{\"color\":\"#C8D4E3\"},\"line\":{\"color\":\"white\"}},\"type\":\"table\"}],\"barpolar\":[{\"marker\":{\"line\":{\"color\":\"#E5ECF6\",\"width\":0.5},\"pattern\":{\"fillmode\":\"overlay\",\"size\":10,\"solidity\":0.2}},\"type\":\"barpolar\"}],\"pie\":[{\"automargin\":true,\"type\":\"pie\"}]},\"layout\":{\"autotypenumbers\":\"strict\",\"colorway\":[\"#636efa\",\"#EF553B\",\"#00cc96\",\"#ab63fa\",\"#FFA15A\",\"#19d3f3\",\"#FF6692\",\"#B6E880\",\"#FF97FF\",\"#FECB52\"],\"font\":{\"color\":\"#2a3f5f\"},\"hovermode\":\"closest\",\"hoverlabel\":{\"align\":\"left\"},\"paper_bgcolor\":\"white\",\"plot_bgcolor\":\"#E5ECF6\",\"polar\":{\"bgcolor\":\"#E5ECF6\",\"angularaxis\":{\"gridcolor\":\"white\",\"linecolor\":\"white\",\"ticks\":\"\"},\"radialaxis\":{\"gridcolor\":\"white\",\"linecolor\":\"white\",\"ticks\":\"\"}},\"ternary\":{\"bgcolor\":\"#E5ECF6\",\"aaxis\":{\"gridcolor\":\"white\",\"linecolor\":\"white\",\"ticks\":\"\"},\"baxis\":{\"gridcolor\":\"white\",\"linecolor\":\"white\",\"ticks\":\"\"},\"caxis\":{\"gridcolor\":\"white\",\"linecolor\":\"white\",\"ticks\":\"\"}},\"coloraxis\":{\"colorbar\":{\"outlinewidth\":0,\"ticks\":\"\"}},\"colorscale\":{\"sequential\":[[0.0,\"#0d0887\"],[0.1111111111111111,\"#46039f\"],[0.2222222222222222,\"#7201a8\"],[0.3333333333333333,\"#9c179e\"],[0.4444444444444444,\"#bd3786\"],[0.5555555555555556,\"#d8576b\"],[0.6666666666666666,\"#ed7953\"],[0.7777777777777778,\"#fb9f3a\"],[0.8888888888888888,\"#fdca26\"],[1.0,\"#f0f921\"]],\"sequentialminus\":[[0.0,\"#0d0887\"],[0.1111111111111111,\"#46039f\"],[0.2222222222222222,\"#7201a8\"],[0.3333333333333333,\"#9c179e\"],[0.4444444444444444,\"#bd3786\"],[0.5555555555555556,\"#d8576b\"],[0.6666666666666666,\"#ed7953\"],[0.7777777777777778,\"#fb9f3a\"],[0.8888888888888888,\"#fdca26\"],[1.0,\"#f0f921\"]],\"diverging\":[[0,\"#8e0152\"],[0.1,\"#c51b7d\"],[0.2,\"#de77ae\"],[0.3,\"#f1b6da\"],[0.4,\"#fde0ef\"],[0.5,\"#f7f7f7\"],[0.6,\"#e6f5d0\"],[0.7,\"#b8e186\"],[0.8,\"#7fbc41\"],[0.9,\"#4d9221\"],[1,\"#276419\"]]},\"xaxis\":{\"gridcolor\":\"white\",\"linecolor\":\"white\",\"ticks\":\"\",\"title\":{\"standoff\":15},\"zerolinecolor\":\"white\",\"automargin\":true,\"zerolinewidth\":2},\"yaxis\":{\"gridcolor\":\"white\",\"linecolor\":\"white\",\"ticks\":\"\",\"title\":{\"standoff\":15},\"zerolinecolor\":\"white\",\"automargin\":true,\"zerolinewidth\":2},\"scene\":{\"xaxis\":{\"backgroundcolor\":\"#E5ECF6\",\"gridcolor\":\"white\",\"linecolor\":\"white\",\"showbackground\":true,\"ticks\":\"\",\"zerolinecolor\":\"white\",\"gridwidth\":2},\"yaxis\":{\"backgroundcolor\":\"#E5ECF6\",\"gridcolor\":\"white\",\"linecolor\":\"white\",\"showbackground\":true,\"ticks\":\"\",\"zerolinecolor\":\"white\",\"gridwidth\":2},\"zaxis\":{\"backgroundcolor\":\"#E5ECF6\",\"gridcolor\":\"white\",\"linecolor\":\"white\",\"showbackground\":true,\"ticks\":\"\",\"zerolinecolor\":\"white\",\"gridwidth\":2}},\"shapedefaults\":{\"line\":{\"color\":\"#2a3f5f\"}},\"annotationdefaults\":{\"arrowcolor\":\"#2a3f5f\",\"arrowhead\":0,\"arrowwidth\":1},\"geo\":{\"bgcolor\":\"white\",\"landcolor\":\"#E5ECF6\",\"subunitcolor\":\"white\",\"showland\":true,\"showlakes\":true,\"lakecolor\":\"white\"},\"title\":{\"x\":0.05},\"mapbox\":{\"style\":\"light\"}}},\"geo\":{\"domain\":{\"x\":[0.0,1.0],\"y\":[0.0,1.0]},\"center\":{}},\"coloraxis\":{\"colorbar\":{\"title\":{\"text\":\"\\u0412\\u0412\\u041f\"}},\"colorscale\":[[0.0,\"rgb(254, 252, 205)\"],[0.09090909090909091,\"rgb(239, 225, 156)\"],[0.18181818181818182,\"rgb(221, 201, 106)\"],[0.2727272727272727,\"rgb(194, 182, 59)\"],[0.36363636363636365,\"rgb(157, 167, 21)\"],[0.45454545454545453,\"rgb(116, 153, 5)\"],[0.5454545454545454,\"rgb(75, 138, 20)\"],[0.6363636363636364,\"rgb(35, 121, 36)\"],[0.7272727272727273,\"rgb(11, 100, 44)\"],[0.8181818181818182,\"rgb(18, 78, 43)\"],[0.9090909090909091,\"rgb(25, 56, 34)\"],[1.0,\"rgb(23, 35, 18)\"]]},\"legend\":{\"tracegroupgap\":0},\"margin\":{\"t\":60},\"title\":{\"font\":{\"size\":25},\"text\":\"\\u0420\\u0430\\u0441\\u043f\\u0440\\u0435\\u0434\\u0435\\u043b\\u0435\\u043d\\u0438\\u0435 \\u0412\\u0412\\u041f \\u043d\\u0430 \\u043a\\u0430\\u0440\\u0442\\u0435 \\u043c\\u0438\\u0440\\u0430 \\u0432 2020 \\u0433\\u043e\\u0434\\u0443\",\"x\":0.5},\"font\":{\"color\":\"black\"}},                        {\"responsive\": true}                    ).then(function(){\n",
       "                            \n",
       "var gd = document.getElementById('0fca9e9f-0fc7-403b-9c67-4d87c2dc978b');\n",
       "var x = new MutationObserver(function (mutations, observer) {{\n",
       "        var display = window.getComputedStyle(gd).display;\n",
       "        if (!display || display === 'none') {{\n",
       "            console.log([gd, 'removed!']);\n",
       "            Plotly.purge(gd);\n",
       "            observer.disconnect();\n",
       "        }}\n",
       "}});\n",
       "\n",
       "// Listen for the removal of the full notebook cells\n",
       "var notebookContainer = gd.closest('#notebook-container');\n",
       "if (notebookContainer) {{\n",
       "    x.observe(notebookContainer, {childList: true});\n",
       "}}\n",
       "\n",
       "// Listen for the clearing of the current output cell\n",
       "var outputEl = gd.closest('.output');\n",
       "if (outputEl) {{\n",
       "    x.observe(outputEl, {childList: true});\n",
       "}}\n",
       "\n",
       "                        })                };                });            </script>        </div>"
      ]
     },
     "metadata": {},
     "output_type": "display_data"
    }
   ],
   "source": [
    "dft=df.reset_index()\n",
    "# показать значение ВВП всех стран на карте мира. Шкала значений изменяется по цвету.\n",
    "fig1= px.choropleth(dft, \n",
    "                    locations='economy',\n",
    "                    color='ВВП',\n",
    "                    hover_name='Country',\n",
    "                    color_continuous_scale=px.colors.sequential.speed)\n",
    "fig1.update_layout(\n",
    "    title_text = 'Распределение ВВП на карте мира в 2020 году',\n",
    "    title_x=0.5,\n",
    "    title_font_size=25, font_color='black',\n",
    "   )\n",
    "fig1.show()\n",
    "#  paper_bgcolor='#AEDBCE'"
   ]
  },
  {
   "cell_type": "markdown",
   "id": "8db854ea",
   "metadata": {},
   "source": [
    "### 2-  ВВП регионов и стран мира в 2020 году (GDP of regions and countries in the world in 2020)"
   ]
  },
  {
   "cell_type": "code",
   "execution_count": 35,
   "id": "8a3b1f10",
   "metadata": {
    "scrolled": false
   },
   "outputs": [
    {
     "data": {
      "application/vnd.plotly.v1+json": {
       "config": {
        "plotlyServerURL": "https://plotly.com"
       },
       "data": [
        {
         "branchvalues": "total",
         "customdata": [
          [
           1450.0918149062
          ],
          [
           583.759762929678
          ],
          [
           3892.8805626532503
          ],
          [
           126.41209802112
          ],
          [
           13278.3617106851
          ],
          [
           4332.58467676515
          ],
          [
           426.07176470588206
          ],
          [
           99.075
          ],
          [
           3230.56957972312
          ],
          [
           602.582390555829
          ],
          [
           5218.61292586616
          ],
          [
           16.3628079708056
          ],
          [
           156.515453315404
          ],
          [
           23.154373380880898
          ],
          [
           365.72764862823396
          ],
          [
           199.46496562973303
          ],
          [
           150.619228016271
          ],
          [
           14447.3325897165
          ],
          [
           120.058257695087
          ],
          [
           698.8934743343241
          ],
          [
           28.4178638219063
          ],
          [
           17.0369867669742
          ],
          [
           258.085615509514
          ],
          [
           408.0444972601841
          ],
          [
           16454.234075683602
          ],
          [
           23.800877580413697
          ],
          [
           108.29076801729
          ],
          [
           2529.40023046007
          ],
          [
           147227.306978901
          ],
          [
           2714.37596293843
          ],
          [
           487.169608600664
          ],
          [
           101.871223414051
          ],
          [
           618.468951207808
          ],
          [
           613.485794651017
          ],
          [
           572.037832030259
          ],
          [
           1073.52
          ],
          [
           246.12646487721298
          ],
          [
           2453.39322066759
          ],
          [
           3560.8486768563894
          ],
          [
           788.4470232907851
          ],
          [
           988.0801
          ],
          [
           3652.52651278852
          ],
          [
           246.3872
          ],
          [
           100.218567544944
          ],
          [
           306.50285471721503
          ],
          [
           39.7272894847088
          ],
          [
           1076.4505431187602
          ],
          [
           45.3388378227458
          ],
          [
           2695.94831987549
          ],
          [
           26303.1773145526
          ],
          [
           153.168261915682
          ],
          [
           18.68086274822
          ],
          [
           158.464896108073
          ],
          [
           38464.1392865371
          ],
          [
           685.322818056722
          ],
          [
           1888.3520162591
          ],
          [
           776.046321705853
          ],
          [
           156.81050917156298
          ],
          [
           14.317582429037499
          ],
          [
           145.082180174032
          ],
          [
           236.622316339139
          ],
          [
           3465.8588150363503
          ],
          [
           1558.0843623848698
          ],
          [
           217.18075725205398
          ],
          [
           26602.4524886763
          ],
          [
           10584.2383834514
          ],
          [
           2034.7130395234399
          ],
          [
           4258.88950992003
          ],
          [
           4071.0073659406403
          ],
          [
           18887.0944368748
          ],
          [
           138.124250365864
          ],
          [
           50577.589587066395
          ],
          [
           436.97659295774696
          ],
          [
           1710.82379532988
          ],
          [
           1010.13726529063
          ],
          [
           16378.958027928998
          ],
          [
           77.35976272759831
          ],
          [
           337.073208163036
          ],
          [
           317.352177845445
          ],
          [
           565.4695747549121
          ],
          [
           733.531327937076
          ],
          [
           255.86111076341498
          ],
          [
           130.560799823887
          ],
          [
           3370.0606637325996
          ],
          [
           37.4276996742798
          ],
          [
           174.653929159153
          ],
          [
           146.47384607604
          ],
          [
           79.136802311828
          ],
          [
           109.20606197692801
          ],
          [
           10739.158808225
          ],
          [
           119.155472626561
          ],
          [
           133.12981594573
          ],
          [
           47.6986074074074
          ],
          [
           1147.25065285149
          ],
          [
           106.191945053543
          ],
          [
           336.57175561329
          ],
          [
           9138.65395789886
          ],
          [
           2107.00848973509
          ],
          [
           126.21505382606199
          ],
          [
           137.41378450136
          ],
          [
           4322.93776262398
          ],
          [
           122.63710122764499
          ],
          [
           3621.9831843526
          ],
          [
           739.7139141742521
          ],
          [
           2626.1000293850902
          ],
          [
           539.770369951729
          ],
          [
           356.703014961061
          ],
          [
           2020.14363787233
          ],
          [
           3614.8932523073104
          ],
          [
           5966.24355719671
          ],
          [
           2285.39245045341
          ],
          [
           1444.1136334526998
          ],
          [
           2487.15551366635
          ],
          [
           14834.977848676
          ],
          [
           103.339914555443
          ],
          [
           7001.17873253333
          ],
          [
           246.442345946566
          ],
          [
           533.350164254148
          ],
          [
           40.632894495879505
          ],
          [
           3399.98477929985
          ],
          [
           1051.72564491569
          ],
          [
           535.896095807099
          ],
          [
           3354.42101366417
          ],
          [
           12814.846400435801
          ],
          [
           806.7668193397801
          ],
          [
           213.291095218077
          ],
          [
           5412.2005945925
          ],
          [
           7522.4804573011
          ],
          [
           81.9415030178552
          ],
          [
           624.0970911095379
          ],
          [
           5016.43653514925
          ],
          [
           19.021568
          ],
          [
           75.7463697866173
          ],
          [
           4.8882996407081905
          ],
          [
           7199.548216833101
          ],
          [
           376.00368180939904
          ],
          [
           1554.98989149587
          ],
          [
           27598.0406183707
          ],
          [
           209530.3
          ],
          [
           599.299511143598
          ],
          [
           2711.5844244853697
          ],
          [
           155.613
          ],
          [
           181.10631358311403
          ],
          [
           180.51170798941
          ],
          [
           94739.80465415955
          ],
          [
           18450.749050733753
          ],
          [
           8435.464206827399
          ],
          [
           3958.9099953035216
          ],
          [
           195472.17519900433
          ],
          [
           21560.42622979863
          ],
          [
           2114.6004563297115
          ]
         ],
         "domain": {
          "x": [
           0,
           1
          ],
          "y": [
           0,
           1
          ]
         },
         "hovertemplate": "labels=%{label}<br>ВВП_sum=%{value}<br>parent=%{parent}<br>id=%{id}<br>ВВП=%{color}<extra></extra>",
         "ids": [
          "Middle East & North Africa/Algeria",
          "Sub-Saharan Africa/Angola",
          "Latin America & Caribbean/Argentina",
          "Europe & Central Asia/Armenia",
          "East Asia & Pacific/Australia",
          "Europe & Central Asia/Austria",
          "Europe & Central Asia/Azerbaijan",
          "Latin America & Caribbean/Bahamas, The",
          "South Asia/Bangladesh",
          "Europe & Central Asia/Belarus",
          "Europe & Central Asia/Belgium",
          "Latin America & Caribbean/Belize",
          "Sub-Saharan Africa/Benin",
          "South Asia/Bhutan",
          "Latin America & Caribbean/Bolivia",
          "Europe & Central Asia/Bosnia and Herzegovina",
          "Sub-Saharan Africa/Botswana",
          "Latin America & Caribbean/Brazil",
          "East Asia & Pacific/Brunei Darussalam",
          "Europe & Central Asia/Bulgaria",
          "Sub-Saharan Africa/Burundi",
          "Sub-Saharan Africa/Cabo Verde",
          "East Asia & Pacific/Cambodia",
          "Sub-Saharan Africa/Cameroon",
          "North America/Canada",
          "Sub-Saharan Africa/Central African Republic",
          "Sub-Saharan Africa/Chad",
          "Latin America & Caribbean/Chile",
          "East Asia & Pacific/China",
          "Latin America & Caribbean/Colombia",
          "Sub-Saharan Africa/Congo, Dem. Rep.",
          "Sub-Saharan Africa/Congo, Rep.",
          "Latin America & Caribbean/Costa Rica",
          "Sub-Saharan Africa/Cote d'Ivoire",
          "Europe & Central Asia/Croatia",
          "Latin America & Caribbean/Cuba",
          "Europe & Central Asia/Cyprus",
          "Europe & Central Asia/Czech Republic",
          "Europe & Central Asia/Denmark",
          "Latin America & Caribbean/Dominican Republic",
          "Latin America & Caribbean/Ecuador",
          "Middle East & North Africa/Egypt, Arab Rep.",
          "Latin America & Caribbean/El Salvador",
          "Sub-Saharan Africa/Equatorial Guinea",
          "Europe & Central Asia/Estonia",
          "Sub-Saharan Africa/Eswatini",
          "Sub-Saharan Africa/Ethiopia",
          "East Asia & Pacific/Fiji",
          "Europe & Central Asia/Finland",
          "Europe & Central Asia/France",
          "Sub-Saharan Africa/Gabon",
          "Sub-Saharan Africa/Gambia, The",
          "Europe & Central Asia/Georgia",
          "Europe & Central Asia/Germany",
          "Sub-Saharan Africa/Ghana",
          "Europe & Central Asia/Greece",
          "Latin America & Caribbean/Guatemala",
          "Sub-Saharan Africa/Guinea",
          "Sub-Saharan Africa/Guinea-Bissau",
          "Latin America & Caribbean/Haiti",
          "Latin America & Caribbean/Honduras",
          "East Asia & Pacific/Hong Kong SAR, China",
          "Europe & Central Asia/Hungary",
          "Europe & Central Asia/Iceland",
          "South Asia/India",
          "East Asia & Pacific/Indonesia",
          "Middle East & North Africa/Iran, Islamic Rep.",
          "Europe & Central Asia/Ireland",
          "Middle East & North Africa/Israel",
          "Europe & Central Asia/Italy",
          "Latin America & Caribbean/Jamaica",
          "East Asia & Pacific/Japan",
          "Middle East & North Africa/Jordan",
          "Europe & Central Asia/Kazakhstan",
          "Sub-Saharan Africa/Kenya",
          "East Asia & Pacific/Korea, Rep.",
          "Europe & Central Asia/Kyrgyz Republic",
          "Europe & Central Asia/Latvia",
          "Middle East & North Africa/Lebanon",
          "Europe & Central Asia/Lithuania",
          "Europe & Central Asia/Luxembourg",
          "East Asia & Pacific/Macao SAR, China",
          "Sub-Saharan Africa/Madagascar",
          "East Asia & Pacific/Malaysia",
          "South Asia/Maldives",
          "Sub-Saharan Africa/Mali",
          "Middle East & North Africa/Malta",
          "Sub-Saharan Africa/Mauritania",
          "Sub-Saharan Africa/Mauritius",
          "Latin America & Caribbean/Mexico",
          "Europe & Central Asia/Moldova",
          "East Asia & Pacific/Mongolia",
          "Europe & Central Asia/Montenegro",
          "Middle East & North Africa/Morocco",
          "Sub-Saharan Africa/Namibia",
          "South Asia/Nepal",
          "Europe & Central Asia/Netherlands",
          "East Asia & Pacific/New Zealand",
          "Latin America & Caribbean/Nicaragua",
          "Sub-Saharan Africa/Niger",
          "Sub-Saharan Africa/Nigeria",
          "Europe & Central Asia/North Macedonia",
          "Europe & Central Asia/Norway",
          "Middle East & North Africa/Oman",
          "South Asia/Pakistan",
          "Latin America & Caribbean/Panama",
          "Latin America & Caribbean/Paraguay",
          "Latin America & Caribbean/Peru",
          "East Asia & Pacific/Philippines",
          "Europe & Central Asia/Poland",
          "Europe & Central Asia/Portugal",
          "Middle East & North Africa/Qatar",
          "Europe & Central Asia/Romania",
          "Europe & Central Asia/Russian Federation",
          "Sub-Saharan Africa/Rwanda",
          "Middle East & North Africa/Saudi Arabia",
          "Sub-Saharan Africa/Senegal",
          "Europe & Central Asia/Serbia",
          "Sub-Saharan Africa/Sierra Leone",
          "East Asia & Pacific/Singapore",
          "Europe & Central Asia/Slovak Republic",
          "Europe & Central Asia/Slovenia",
          "Sub-Saharan Africa/South Africa",
          "Europe & Central Asia/Spain",
          "South Asia/Sri Lanka",
          "Sub-Saharan Africa/Sudan",
          "Europe & Central Asia/Sweden",
          "Europe & Central Asia/Switzerland",
          "Europe & Central Asia/Tajikistan",
          "Sub-Saharan Africa/Tanzania",
          "East Asia & Pacific/Thailand",
          "East Asia & Pacific/Timor-Leste",
          "Sub-Saharan Africa/Togo",
          "East Asia & Pacific/Tonga",
          "Europe & Central Asia/Turkey",
          "Sub-Saharan Africa/Uganda",
          "Europe & Central Asia/Ukraine",
          "Europe & Central Asia/United Kingdom",
          "North America/United States",
          "Europe & Central Asia/Uzbekistan",
          "East Asia & Pacific/Vietnam",
          "Middle East & North Africa/West Bank and Gaza",
          "Sub-Saharan Africa/Zambia",
          "Sub-Saharan Africa/Zimbabwe",
          "East Asia & Pacific",
          "Europe & Central Asia",
          "Latin America & Caribbean",
          "Middle East & North Africa",
          "North America",
          "South Asia",
          "Sub-Saharan Africa"
         ],
         "labels": [
          "Algeria",
          "Angola",
          "Argentina",
          "Armenia",
          "Australia",
          "Austria",
          "Azerbaijan",
          "Bahamas, The",
          "Bangladesh",
          "Belarus",
          "Belgium",
          "Belize",
          "Benin",
          "Bhutan",
          "Bolivia",
          "Bosnia and Herzegovina",
          "Botswana",
          "Brazil",
          "Brunei Darussalam",
          "Bulgaria",
          "Burundi",
          "Cabo Verde",
          "Cambodia",
          "Cameroon",
          "Canada",
          "Central African Republic",
          "Chad",
          "Chile",
          "China",
          "Colombia",
          "Congo, Dem. Rep.",
          "Congo, Rep.",
          "Costa Rica",
          "Cote d'Ivoire",
          "Croatia",
          "Cuba",
          "Cyprus",
          "Czech Republic",
          "Denmark",
          "Dominican Republic",
          "Ecuador",
          "Egypt, Arab Rep.",
          "El Salvador",
          "Equatorial Guinea",
          "Estonia",
          "Eswatini",
          "Ethiopia",
          "Fiji",
          "Finland",
          "France",
          "Gabon",
          "Gambia, The",
          "Georgia",
          "Germany",
          "Ghana",
          "Greece",
          "Guatemala",
          "Guinea",
          "Guinea-Bissau",
          "Haiti",
          "Honduras",
          "Hong Kong SAR, China",
          "Hungary",
          "Iceland",
          "India",
          "Indonesia",
          "Iran, Islamic Rep.",
          "Ireland",
          "Israel",
          "Italy",
          "Jamaica",
          "Japan",
          "Jordan",
          "Kazakhstan",
          "Kenya",
          "Korea, Rep.",
          "Kyrgyz Republic",
          "Latvia",
          "Lebanon",
          "Lithuania",
          "Luxembourg",
          "Macao SAR, China",
          "Madagascar",
          "Malaysia",
          "Maldives",
          "Mali",
          "Malta",
          "Mauritania",
          "Mauritius",
          "Mexico",
          "Moldova",
          "Mongolia",
          "Montenegro",
          "Morocco",
          "Namibia",
          "Nepal",
          "Netherlands",
          "New Zealand",
          "Nicaragua",
          "Niger",
          "Nigeria",
          "North Macedonia",
          "Norway",
          "Oman",
          "Pakistan",
          "Panama",
          "Paraguay",
          "Peru",
          "Philippines",
          "Poland",
          "Portugal",
          "Qatar",
          "Romania",
          "Russian Federation",
          "Rwanda",
          "Saudi Arabia",
          "Senegal",
          "Serbia",
          "Sierra Leone",
          "Singapore",
          "Slovak Republic",
          "Slovenia",
          "South Africa",
          "Spain",
          "Sri Lanka",
          "Sudan",
          "Sweden",
          "Switzerland",
          "Tajikistan",
          "Tanzania",
          "Thailand",
          "Timor-Leste",
          "Togo",
          "Tonga",
          "Turkey",
          "Uganda",
          "Ukraine",
          "United Kingdom",
          "United States",
          "Uzbekistan",
          "Vietnam",
          "West Bank and Gaza",
          "Zambia",
          "Zimbabwe",
          "East Asia & Pacific",
          "Europe & Central Asia",
          "Latin America & Caribbean",
          "Middle East & North Africa",
          "North America",
          "South Asia",
          "Sub-Saharan Africa"
         ],
         "marker": {
          "coloraxis": "coloraxis",
          "colors": [
           1450.0918149062,
           583.759762929678,
           3892.8805626532503,
           126.41209802112,
           13278.3617106851,
           4332.58467676515,
           426.07176470588206,
           99.075,
           3230.56957972312,
           602.582390555829,
           5218.61292586616,
           16.3628079708056,
           156.515453315404,
           23.154373380880898,
           365.72764862823396,
           199.46496562973303,
           150.619228016271,
           14447.3325897165,
           120.058257695087,
           698.8934743343241,
           28.4178638219063,
           17.0369867669742,
           258.085615509514,
           408.0444972601841,
           16454.234075683602,
           23.800877580413697,
           108.29076801729,
           2529.40023046007,
           147227.306978901,
           2714.37596293843,
           487.169608600664,
           101.871223414051,
           618.468951207808,
           613.485794651017,
           572.037832030259,
           1073.52,
           246.12646487721298,
           2453.39322066759,
           3560.8486768563894,
           788.4470232907851,
           988.0801,
           3652.52651278852,
           246.3872,
           100.218567544944,
           306.50285471721503,
           39.7272894847088,
           1076.4505431187602,
           45.3388378227458,
           2695.94831987549,
           26303.1773145526,
           153.168261915682,
           18.68086274822,
           158.464896108073,
           38464.1392865371,
           685.322818056722,
           1888.3520162591,
           776.046321705853,
           156.81050917156298,
           14.317582429037499,
           145.082180174032,
           236.622316339139,
           3465.8588150363503,
           1558.0843623848698,
           217.18075725205398,
           26602.4524886763,
           10584.2383834514,
           2034.7130395234399,
           4258.88950992003,
           4071.0073659406403,
           18887.0944368748,
           138.124250365864,
           50577.589587066395,
           436.97659295774696,
           1710.82379532988,
           1010.13726529063,
           16378.958027928998,
           77.35976272759831,
           337.073208163036,
           317.352177845445,
           565.4695747549121,
           733.531327937076,
           255.86111076341498,
           130.560799823887,
           3370.0606637325996,
           37.4276996742798,
           174.653929159153,
           146.47384607604,
           79.136802311828,
           109.20606197692801,
           10739.158808225,
           119.155472626561,
           133.12981594573,
           47.6986074074074,
           1147.25065285149,
           106.191945053543,
           336.57175561329,
           9138.65395789886,
           2107.00848973509,
           126.21505382606199,
           137.41378450136,
           4322.93776262398,
           122.63710122764499,
           3621.9831843526,
           739.7139141742521,
           2626.1000293850902,
           539.770369951729,
           356.703014961061,
           2020.14363787233,
           3614.8932523073104,
           5966.24355719671,
           2285.39245045341,
           1444.1136334526998,
           2487.15551366635,
           14834.977848676,
           103.339914555443,
           7001.17873253333,
           246.442345946566,
           533.350164254148,
           40.632894495879505,
           3399.98477929985,
           1051.72564491569,
           535.896095807099,
           3354.42101366417,
           12814.846400435801,
           806.7668193397801,
           213.291095218077,
           5412.2005945925,
           7522.4804573011,
           81.9415030178552,
           624.0970911095379,
           5016.43653514925,
           19.021568,
           75.7463697866173,
           4.8882996407081905,
           7199.548216833101,
           376.00368180939904,
           1554.98989149587,
           27598.0406183707,
           209530.3,
           599.299511143598,
           2711.5844244853697,
           155.613,
           181.10631358311403,
           180.51170798941,
           94739.80465415955,
           18450.749050733753,
           8435.464206827399,
           3958.9099953035216,
           195472.17519900433,
           21560.42622979863,
           2114.6004563297115
          ]
         },
         "name": "",
         "parents": [
          "Middle East & North Africa",
          "Sub-Saharan Africa",
          "Latin America & Caribbean",
          "Europe & Central Asia",
          "East Asia & Pacific",
          "Europe & Central Asia",
          "Europe & Central Asia",
          "Latin America & Caribbean",
          "South Asia",
          "Europe & Central Asia",
          "Europe & Central Asia",
          "Latin America & Caribbean",
          "Sub-Saharan Africa",
          "South Asia",
          "Latin America & Caribbean",
          "Europe & Central Asia",
          "Sub-Saharan Africa",
          "Latin America & Caribbean",
          "East Asia & Pacific",
          "Europe & Central Asia",
          "Sub-Saharan Africa",
          "Sub-Saharan Africa",
          "East Asia & Pacific",
          "Sub-Saharan Africa",
          "North America",
          "Sub-Saharan Africa",
          "Sub-Saharan Africa",
          "Latin America & Caribbean",
          "East Asia & Pacific",
          "Latin America & Caribbean",
          "Sub-Saharan Africa",
          "Sub-Saharan Africa",
          "Latin America & Caribbean",
          "Sub-Saharan Africa",
          "Europe & Central Asia",
          "Latin America & Caribbean",
          "Europe & Central Asia",
          "Europe & Central Asia",
          "Europe & Central Asia",
          "Latin America & Caribbean",
          "Latin America & Caribbean",
          "Middle East & North Africa",
          "Latin America & Caribbean",
          "Sub-Saharan Africa",
          "Europe & Central Asia",
          "Sub-Saharan Africa",
          "Sub-Saharan Africa",
          "East Asia & Pacific",
          "Europe & Central Asia",
          "Europe & Central Asia",
          "Sub-Saharan Africa",
          "Sub-Saharan Africa",
          "Europe & Central Asia",
          "Europe & Central Asia",
          "Sub-Saharan Africa",
          "Europe & Central Asia",
          "Latin America & Caribbean",
          "Sub-Saharan Africa",
          "Sub-Saharan Africa",
          "Latin America & Caribbean",
          "Latin America & Caribbean",
          "East Asia & Pacific",
          "Europe & Central Asia",
          "Europe & Central Asia",
          "South Asia",
          "East Asia & Pacific",
          "Middle East & North Africa",
          "Europe & Central Asia",
          "Middle East & North Africa",
          "Europe & Central Asia",
          "Latin America & Caribbean",
          "East Asia & Pacific",
          "Middle East & North Africa",
          "Europe & Central Asia",
          "Sub-Saharan Africa",
          "East Asia & Pacific",
          "Europe & Central Asia",
          "Europe & Central Asia",
          "Middle East & North Africa",
          "Europe & Central Asia",
          "Europe & Central Asia",
          "East Asia & Pacific",
          "Sub-Saharan Africa",
          "East Asia & Pacific",
          "South Asia",
          "Sub-Saharan Africa",
          "Middle East & North Africa",
          "Sub-Saharan Africa",
          "Sub-Saharan Africa",
          "Latin America & Caribbean",
          "Europe & Central Asia",
          "East Asia & Pacific",
          "Europe & Central Asia",
          "Middle East & North Africa",
          "Sub-Saharan Africa",
          "South Asia",
          "Europe & Central Asia",
          "East Asia & Pacific",
          "Latin America & Caribbean",
          "Sub-Saharan Africa",
          "Sub-Saharan Africa",
          "Europe & Central Asia",
          "Europe & Central Asia",
          "Middle East & North Africa",
          "South Asia",
          "Latin America & Caribbean",
          "Latin America & Caribbean",
          "Latin America & Caribbean",
          "East Asia & Pacific",
          "Europe & Central Asia",
          "Europe & Central Asia",
          "Middle East & North Africa",
          "Europe & Central Asia",
          "Europe & Central Asia",
          "Sub-Saharan Africa",
          "Middle East & North Africa",
          "Sub-Saharan Africa",
          "Europe & Central Asia",
          "Sub-Saharan Africa",
          "East Asia & Pacific",
          "Europe & Central Asia",
          "Europe & Central Asia",
          "Sub-Saharan Africa",
          "Europe & Central Asia",
          "South Asia",
          "Sub-Saharan Africa",
          "Europe & Central Asia",
          "Europe & Central Asia",
          "Europe & Central Asia",
          "Sub-Saharan Africa",
          "East Asia & Pacific",
          "East Asia & Pacific",
          "Sub-Saharan Africa",
          "East Asia & Pacific",
          "Europe & Central Asia",
          "Sub-Saharan Africa",
          "Europe & Central Asia",
          "Europe & Central Asia",
          "North America",
          "Europe & Central Asia",
          "East Asia & Pacific",
          "Middle East & North Africa",
          "Sub-Saharan Africa",
          "Sub-Saharan Africa",
          "",
          "",
          "",
          "",
          "",
          "",
          ""
         ],
         "type": "sunburst",
         "values": [
          1450.0918149062,
          583.759762929678,
          3892.8805626532503,
          126.41209802112,
          13278.3617106851,
          4332.58467676515,
          426.07176470588206,
          99.075,
          3230.56957972312,
          602.582390555829,
          5218.61292586616,
          16.3628079708056,
          156.515453315404,
          23.154373380880898,
          365.727648628234,
          199.464965629733,
          150.619228016271,
          14447.3325897165,
          120.058257695087,
          698.8934743343241,
          28.4178638219063,
          17.0369867669742,
          258.085615509514,
          408.044497260184,
          16454.234075683602,
          23.800877580413697,
          108.29076801729,
          2529.40023046007,
          147227.306978901,
          2714.37596293843,
          487.169608600664,
          101.871223414051,
          618.468951207808,
          613.485794651017,
          572.037832030259,
          1073.52,
          246.12646487721298,
          2453.39322066759,
          3560.84867685639,
          788.4470232907851,
          988.0801,
          3652.52651278852,
          246.3872,
          100.218567544944,
          306.50285471721503,
          39.7272894847088,
          1076.4505431187602,
          45.3388378227458,
          2695.94831987549,
          26303.1773145526,
          153.168261915682,
          18.68086274822,
          158.464896108073,
          38464.1392865371,
          685.322818056722,
          1888.3520162591,
          776.046321705853,
          156.81050917156298,
          14.317582429037499,
          145.082180174032,
          236.622316339139,
          3465.8588150363503,
          1558.08436238487,
          217.18075725205398,
          26602.4524886763,
          10584.2383834514,
          2034.7130395234399,
          4258.88950992003,
          4071.0073659406403,
          18887.0944368748,
          138.124250365864,
          50577.589587066395,
          436.97659295774696,
          1710.82379532988,
          1010.13726529063,
          16378.958027928998,
          77.35976272759831,
          337.073208163036,
          317.352177845445,
          565.4695747549121,
          733.531327937076,
          255.86111076341498,
          130.560799823887,
          3370.0606637326,
          37.4276996742798,
          174.653929159153,
          146.47384607604,
          79.136802311828,
          109.20606197692801,
          10739.158808225,
          119.155472626561,
          133.12981594573,
          47.6986074074074,
          1147.25065285149,
          106.191945053543,
          336.57175561329,
          9138.65395789886,
          2107.00848973509,
          126.21505382606199,
          137.41378450136,
          4322.93776262398,
          122.63710122764499,
          3621.9831843526,
          739.7139141742521,
          2626.1000293850902,
          539.770369951729,
          356.703014961061,
          2020.14363787233,
          3614.8932523073104,
          5966.24355719671,
          2285.39245045341,
          1444.1136334526998,
          2487.15551366635,
          14834.977848676,
          103.339914555443,
          7001.17873253333,
          246.442345946566,
          533.350164254148,
          40.632894495879505,
          3399.98477929985,
          1051.72564491569,
          535.896095807099,
          3354.42101366417,
          12814.846400435801,
          806.76681933978,
          213.291095218077,
          5412.2005945925,
          7522.4804573011,
          81.9415030178552,
          624.0970911095379,
          5016.43653514925,
          19.021568,
          75.7463697866173,
          4.8882996407081905,
          7199.548216833101,
          376.00368180939904,
          1554.98989149587,
          27598.0406183707,
          209530.3,
          599.299511143598,
          2711.5844244853697,
          155.613,
          181.106313583114,
          180.51170798941,
          262568.6651531559,
          220127.33670537648,
          42857.92403028695,
          22597.011283049804,
          225984.5340756836,
          33663.04274579274,
          16389.539277743013
         ]
        }
       ],
       "layout": {
        "coloraxis": {
         "colorbar": {
          "title": {
           "text": "ВВП"
          }
         },
         "colorscale": [
          [
           0,
           "#0d0887"
          ],
          [
           0.1111111111111111,
           "#46039f"
          ],
          [
           0.2222222222222222,
           "#7201a8"
          ],
          [
           0.3333333333333333,
           "#9c179e"
          ],
          [
           0.4444444444444444,
           "#bd3786"
          ],
          [
           0.5555555555555556,
           "#d8576b"
          ],
          [
           0.6666666666666666,
           "#ed7953"
          ],
          [
           0.7777777777777778,
           "#fb9f3a"
          ],
          [
           0.8888888888888888,
           "#fdca26"
          ],
          [
           1,
           "#f0f921"
          ]
         ]
        },
        "font": {
         "color": "#001233",
         "size": 20
        },
        "legend": {
         "tracegroupgap": 0
        },
        "margin": {
         "t": 60
        },
        "template": {
         "data": {
          "bar": [
           {
            "error_x": {
             "color": "#2a3f5f"
            },
            "error_y": {
             "color": "#2a3f5f"
            },
            "marker": {
             "line": {
              "color": "#E5ECF6",
              "width": 0.5
             },
             "pattern": {
              "fillmode": "overlay",
              "size": 10,
              "solidity": 0.2
             }
            },
            "type": "bar"
           }
          ],
          "barpolar": [
           {
            "marker": {
             "line": {
              "color": "#E5ECF6",
              "width": 0.5
             },
             "pattern": {
              "fillmode": "overlay",
              "size": 10,
              "solidity": 0.2
             }
            },
            "type": "barpolar"
           }
          ],
          "carpet": [
           {
            "aaxis": {
             "endlinecolor": "#2a3f5f",
             "gridcolor": "white",
             "linecolor": "white",
             "minorgridcolor": "white",
             "startlinecolor": "#2a3f5f"
            },
            "baxis": {
             "endlinecolor": "#2a3f5f",
             "gridcolor": "white",
             "linecolor": "white",
             "minorgridcolor": "white",
             "startlinecolor": "#2a3f5f"
            },
            "type": "carpet"
           }
          ],
          "choropleth": [
           {
            "colorbar": {
             "outlinewidth": 0,
             "ticks": ""
            },
            "type": "choropleth"
           }
          ],
          "contour": [
           {
            "colorbar": {
             "outlinewidth": 0,
             "ticks": ""
            },
            "colorscale": [
             [
              0,
              "#0d0887"
             ],
             [
              0.1111111111111111,
              "#46039f"
             ],
             [
              0.2222222222222222,
              "#7201a8"
             ],
             [
              0.3333333333333333,
              "#9c179e"
             ],
             [
              0.4444444444444444,
              "#bd3786"
             ],
             [
              0.5555555555555556,
              "#d8576b"
             ],
             [
              0.6666666666666666,
              "#ed7953"
             ],
             [
              0.7777777777777778,
              "#fb9f3a"
             ],
             [
              0.8888888888888888,
              "#fdca26"
             ],
             [
              1,
              "#f0f921"
             ]
            ],
            "type": "contour"
           }
          ],
          "contourcarpet": [
           {
            "colorbar": {
             "outlinewidth": 0,
             "ticks": ""
            },
            "type": "contourcarpet"
           }
          ],
          "heatmap": [
           {
            "colorbar": {
             "outlinewidth": 0,
             "ticks": ""
            },
            "colorscale": [
             [
              0,
              "#0d0887"
             ],
             [
              0.1111111111111111,
              "#46039f"
             ],
             [
              0.2222222222222222,
              "#7201a8"
             ],
             [
              0.3333333333333333,
              "#9c179e"
             ],
             [
              0.4444444444444444,
              "#bd3786"
             ],
             [
              0.5555555555555556,
              "#d8576b"
             ],
             [
              0.6666666666666666,
              "#ed7953"
             ],
             [
              0.7777777777777778,
              "#fb9f3a"
             ],
             [
              0.8888888888888888,
              "#fdca26"
             ],
             [
              1,
              "#f0f921"
             ]
            ],
            "type": "heatmap"
           }
          ],
          "heatmapgl": [
           {
            "colorbar": {
             "outlinewidth": 0,
             "ticks": ""
            },
            "colorscale": [
             [
              0,
              "#0d0887"
             ],
             [
              0.1111111111111111,
              "#46039f"
             ],
             [
              0.2222222222222222,
              "#7201a8"
             ],
             [
              0.3333333333333333,
              "#9c179e"
             ],
             [
              0.4444444444444444,
              "#bd3786"
             ],
             [
              0.5555555555555556,
              "#d8576b"
             ],
             [
              0.6666666666666666,
              "#ed7953"
             ],
             [
              0.7777777777777778,
              "#fb9f3a"
             ],
             [
              0.8888888888888888,
              "#fdca26"
             ],
             [
              1,
              "#f0f921"
             ]
            ],
            "type": "heatmapgl"
           }
          ],
          "histogram": [
           {
            "marker": {
             "pattern": {
              "fillmode": "overlay",
              "size": 10,
              "solidity": 0.2
             }
            },
            "type": "histogram"
           }
          ],
          "histogram2d": [
           {
            "colorbar": {
             "outlinewidth": 0,
             "ticks": ""
            },
            "colorscale": [
             [
              0,
              "#0d0887"
             ],
             [
              0.1111111111111111,
              "#46039f"
             ],
             [
              0.2222222222222222,
              "#7201a8"
             ],
             [
              0.3333333333333333,
              "#9c179e"
             ],
             [
              0.4444444444444444,
              "#bd3786"
             ],
             [
              0.5555555555555556,
              "#d8576b"
             ],
             [
              0.6666666666666666,
              "#ed7953"
             ],
             [
              0.7777777777777778,
              "#fb9f3a"
             ],
             [
              0.8888888888888888,
              "#fdca26"
             ],
             [
              1,
              "#f0f921"
             ]
            ],
            "type": "histogram2d"
           }
          ],
          "histogram2dcontour": [
           {
            "colorbar": {
             "outlinewidth": 0,
             "ticks": ""
            },
            "colorscale": [
             [
              0,
              "#0d0887"
             ],
             [
              0.1111111111111111,
              "#46039f"
             ],
             [
              0.2222222222222222,
              "#7201a8"
             ],
             [
              0.3333333333333333,
              "#9c179e"
             ],
             [
              0.4444444444444444,
              "#bd3786"
             ],
             [
              0.5555555555555556,
              "#d8576b"
             ],
             [
              0.6666666666666666,
              "#ed7953"
             ],
             [
              0.7777777777777778,
              "#fb9f3a"
             ],
             [
              0.8888888888888888,
              "#fdca26"
             ],
             [
              1,
              "#f0f921"
             ]
            ],
            "type": "histogram2dcontour"
           }
          ],
          "mesh3d": [
           {
            "colorbar": {
             "outlinewidth": 0,
             "ticks": ""
            },
            "type": "mesh3d"
           }
          ],
          "parcoords": [
           {
            "line": {
             "colorbar": {
              "outlinewidth": 0,
              "ticks": ""
             }
            },
            "type": "parcoords"
           }
          ],
          "pie": [
           {
            "automargin": true,
            "type": "pie"
           }
          ],
          "scatter": [
           {
            "fillpattern": {
             "fillmode": "overlay",
             "size": 10,
             "solidity": 0.2
            },
            "type": "scatter"
           }
          ],
          "scatter3d": [
           {
            "line": {
             "colorbar": {
              "outlinewidth": 0,
              "ticks": ""
             }
            },
            "marker": {
             "colorbar": {
              "outlinewidth": 0,
              "ticks": ""
             }
            },
            "type": "scatter3d"
           }
          ],
          "scattercarpet": [
           {
            "marker": {
             "colorbar": {
              "outlinewidth": 0,
              "ticks": ""
             }
            },
            "type": "scattercarpet"
           }
          ],
          "scattergeo": [
           {
            "marker": {
             "colorbar": {
              "outlinewidth": 0,
              "ticks": ""
             }
            },
            "type": "scattergeo"
           }
          ],
          "scattergl": [
           {
            "marker": {
             "colorbar": {
              "outlinewidth": 0,
              "ticks": ""
             }
            },
            "type": "scattergl"
           }
          ],
          "scattermapbox": [
           {
            "marker": {
             "colorbar": {
              "outlinewidth": 0,
              "ticks": ""
             }
            },
            "type": "scattermapbox"
           }
          ],
          "scatterpolar": [
           {
            "marker": {
             "colorbar": {
              "outlinewidth": 0,
              "ticks": ""
             }
            },
            "type": "scatterpolar"
           }
          ],
          "scatterpolargl": [
           {
            "marker": {
             "colorbar": {
              "outlinewidth": 0,
              "ticks": ""
             }
            },
            "type": "scatterpolargl"
           }
          ],
          "scatterternary": [
           {
            "marker": {
             "colorbar": {
              "outlinewidth": 0,
              "ticks": ""
             }
            },
            "type": "scatterternary"
           }
          ],
          "surface": [
           {
            "colorbar": {
             "outlinewidth": 0,
             "ticks": ""
            },
            "colorscale": [
             [
              0,
              "#0d0887"
             ],
             [
              0.1111111111111111,
              "#46039f"
             ],
             [
              0.2222222222222222,
              "#7201a8"
             ],
             [
              0.3333333333333333,
              "#9c179e"
             ],
             [
              0.4444444444444444,
              "#bd3786"
             ],
             [
              0.5555555555555556,
              "#d8576b"
             ],
             [
              0.6666666666666666,
              "#ed7953"
             ],
             [
              0.7777777777777778,
              "#fb9f3a"
             ],
             [
              0.8888888888888888,
              "#fdca26"
             ],
             [
              1,
              "#f0f921"
             ]
            ],
            "type": "surface"
           }
          ],
          "table": [
           {
            "cells": {
             "fill": {
              "color": "#EBF0F8"
             },
             "line": {
              "color": "white"
             }
            },
            "header": {
             "fill": {
              "color": "#C8D4E3"
             },
             "line": {
              "color": "white"
             }
            },
            "type": "table"
           }
          ]
         },
         "layout": {
          "annotationdefaults": {
           "arrowcolor": "#2a3f5f",
           "arrowhead": 0,
           "arrowwidth": 1
          },
          "autotypenumbers": "strict",
          "coloraxis": {
           "colorbar": {
            "outlinewidth": 0,
            "ticks": ""
           }
          },
          "colorscale": {
           "diverging": [
            [
             0,
             "#8e0152"
            ],
            [
             0.1,
             "#c51b7d"
            ],
            [
             0.2,
             "#de77ae"
            ],
            [
             0.3,
             "#f1b6da"
            ],
            [
             0.4,
             "#fde0ef"
            ],
            [
             0.5,
             "#f7f7f7"
            ],
            [
             0.6,
             "#e6f5d0"
            ],
            [
             0.7,
             "#b8e186"
            ],
            [
             0.8,
             "#7fbc41"
            ],
            [
             0.9,
             "#4d9221"
            ],
            [
             1,
             "#276419"
            ]
           ],
           "sequential": [
            [
             0,
             "#0d0887"
            ],
            [
             0.1111111111111111,
             "#46039f"
            ],
            [
             0.2222222222222222,
             "#7201a8"
            ],
            [
             0.3333333333333333,
             "#9c179e"
            ],
            [
             0.4444444444444444,
             "#bd3786"
            ],
            [
             0.5555555555555556,
             "#d8576b"
            ],
            [
             0.6666666666666666,
             "#ed7953"
            ],
            [
             0.7777777777777778,
             "#fb9f3a"
            ],
            [
             0.8888888888888888,
             "#fdca26"
            ],
            [
             1,
             "#f0f921"
            ]
           ],
           "sequentialminus": [
            [
             0,
             "#0d0887"
            ],
            [
             0.1111111111111111,
             "#46039f"
            ],
            [
             0.2222222222222222,
             "#7201a8"
            ],
            [
             0.3333333333333333,
             "#9c179e"
            ],
            [
             0.4444444444444444,
             "#bd3786"
            ],
            [
             0.5555555555555556,
             "#d8576b"
            ],
            [
             0.6666666666666666,
             "#ed7953"
            ],
            [
             0.7777777777777778,
             "#fb9f3a"
            ],
            [
             0.8888888888888888,
             "#fdca26"
            ],
            [
             1,
             "#f0f921"
            ]
           ]
          },
          "colorway": [
           "#636efa",
           "#EF553B",
           "#00cc96",
           "#ab63fa",
           "#FFA15A",
           "#19d3f3",
           "#FF6692",
           "#B6E880",
           "#FF97FF",
           "#FECB52"
          ],
          "font": {
           "color": "#2a3f5f"
          },
          "geo": {
           "bgcolor": "white",
           "lakecolor": "white",
           "landcolor": "#E5ECF6",
           "showlakes": true,
           "showland": true,
           "subunitcolor": "white"
          },
          "hoverlabel": {
           "align": "left"
          },
          "hovermode": "closest",
          "mapbox": {
           "style": "light"
          },
          "paper_bgcolor": "white",
          "plot_bgcolor": "#E5ECF6",
          "polar": {
           "angularaxis": {
            "gridcolor": "white",
            "linecolor": "white",
            "ticks": ""
           },
           "bgcolor": "#E5ECF6",
           "radialaxis": {
            "gridcolor": "white",
            "linecolor": "white",
            "ticks": ""
           }
          },
          "scene": {
           "xaxis": {
            "backgroundcolor": "#E5ECF6",
            "gridcolor": "white",
            "gridwidth": 2,
            "linecolor": "white",
            "showbackground": true,
            "ticks": "",
            "zerolinecolor": "white"
           },
           "yaxis": {
            "backgroundcolor": "#E5ECF6",
            "gridcolor": "white",
            "gridwidth": 2,
            "linecolor": "white",
            "showbackground": true,
            "ticks": "",
            "zerolinecolor": "white"
           },
           "zaxis": {
            "backgroundcolor": "#E5ECF6",
            "gridcolor": "white",
            "gridwidth": 2,
            "linecolor": "white",
            "showbackground": true,
            "ticks": "",
            "zerolinecolor": "white"
           }
          },
          "shapedefaults": {
           "line": {
            "color": "#2a3f5f"
           }
          },
          "ternary": {
           "aaxis": {
            "gridcolor": "white",
            "linecolor": "white",
            "ticks": ""
           },
           "baxis": {
            "gridcolor": "white",
            "linecolor": "white",
            "ticks": ""
           },
           "bgcolor": "#E5ECF6",
           "caxis": {
            "gridcolor": "white",
            "linecolor": "white",
            "ticks": ""
           }
          },
          "title": {
           "x": 0.05
          },
          "xaxis": {
           "automargin": true,
           "gridcolor": "white",
           "linecolor": "white",
           "ticks": "",
           "title": {
            "standoff": 15
           },
           "zerolinecolor": "white",
           "zerolinewidth": 2
          },
          "yaxis": {
           "automargin": true,
           "gridcolor": "white",
           "linecolor": "white",
           "ticks": "",
           "title": {
            "standoff": 15
           },
           "zerolinecolor": "white",
           "zerolinewidth": 2
          }
         }
        },
        "title": {
         "font": {
          "size": 25
         },
         "text": "ВВП регионов и стран мира в 2020 году",
         "x": 0.5
        }
       }
      },
      "text/html": [
       "<div>                            <div id=\"2a34a6cc-4294-42b1-8ceb-381ede666a75\" class=\"plotly-graph-div\" style=\"height:525px; width:100%;\"></div>            <script type=\"text/javascript\">                require([\"plotly\"], function(Plotly) {                    window.PLOTLYENV=window.PLOTLYENV || {};                                    if (document.getElementById(\"2a34a6cc-4294-42b1-8ceb-381ede666a75\")) {                    Plotly.newPlot(                        \"2a34a6cc-4294-42b1-8ceb-381ede666a75\",                        [{\"branchvalues\":\"total\",\"customdata\":[[1450.0918149062],[583.759762929678],[3892.8805626532503],[126.41209802112],[13278.3617106851],[4332.58467676515],[426.07176470588206],[99.075],[3230.56957972312],[602.582390555829],[5218.61292586616],[16.3628079708056],[156.515453315404],[23.154373380880898],[365.72764862823396],[199.46496562973303],[150.619228016271],[14447.3325897165],[120.058257695087],[698.8934743343241],[28.4178638219063],[17.0369867669742],[258.085615509514],[408.0444972601841],[16454.234075683602],[23.800877580413697],[108.29076801729],[2529.40023046007],[147227.306978901],[2714.37596293843],[487.169608600664],[101.871223414051],[618.468951207808],[613.485794651017],[572.037832030259],[1073.52],[246.12646487721298],[2453.39322066759],[3560.8486768563894],[788.4470232907851],[988.0801],[3652.52651278852],[246.3872],[100.218567544944],[306.50285471721503],[39.7272894847088],[1076.4505431187602],[45.3388378227458],[2695.94831987549],[26303.1773145526],[153.168261915682],[18.68086274822],[158.464896108073],[38464.1392865371],[685.322818056722],[1888.3520162591],[776.046321705853],[156.81050917156298],[14.317582429037499],[145.082180174032],[236.622316339139],[3465.8588150363503],[1558.0843623848698],[217.18075725205398],[26602.4524886763],[10584.2383834514],[2034.7130395234399],[4258.88950992003],[4071.0073659406403],[18887.0944368748],[138.124250365864],[50577.589587066395],[436.97659295774696],[1710.82379532988],[1010.13726529063],[16378.958027928998],[77.35976272759831],[337.073208163036],[317.352177845445],[565.4695747549121],[733.531327937076],[255.86111076341498],[130.560799823887],[3370.0606637325996],[37.4276996742798],[174.653929159153],[146.47384607604],[79.136802311828],[109.20606197692801],[10739.158808225],[119.155472626561],[133.12981594573],[47.6986074074074],[1147.25065285149],[106.191945053543],[336.57175561329],[9138.65395789886],[2107.00848973509],[126.21505382606199],[137.41378450136],[4322.93776262398],[122.63710122764499],[3621.9831843526],[739.7139141742521],[2626.1000293850902],[539.770369951729],[356.703014961061],[2020.14363787233],[3614.8932523073104],[5966.24355719671],[2285.39245045341],[1444.1136334526998],[2487.15551366635],[14834.977848676],[103.339914555443],[7001.17873253333],[246.442345946566],[533.350164254148],[40.632894495879505],[3399.98477929985],[1051.72564491569],[535.896095807099],[3354.42101366417],[12814.846400435801],[806.7668193397801],[213.291095218077],[5412.2005945925],[7522.4804573011],[81.9415030178552],[624.0970911095379],[5016.43653514925],[19.021568],[75.7463697866173],[4.8882996407081905],[7199.548216833101],[376.00368180939904],[1554.98989149587],[27598.0406183707],[209530.3],[599.299511143598],[2711.5844244853697],[155.613],[181.10631358311403],[180.51170798941],[94739.80465415955],[18450.749050733753],[8435.464206827399],[3958.9099953035216],[195472.17519900433],[21560.42622979863],[2114.6004563297115]],\"domain\":{\"x\":[0.0,1.0],\"y\":[0.0,1.0]},\"hovertemplate\":\"labels=%{label}<br>\\u0412\\u0412\\u041f_sum=%{value}<br>parent=%{parent}<br>id=%{id}<br>\\u0412\\u0412\\u041f=%{color}<extra></extra>\",\"ids\":[\"Middle East & North Africa/Algeria\",\"Sub-Saharan Africa/Angola\",\"Latin America & Caribbean/Argentina\",\"Europe & Central Asia/Armenia\",\"East Asia & Pacific/Australia\",\"Europe & Central Asia/Austria\",\"Europe & Central Asia/Azerbaijan\",\"Latin America & Caribbean/Bahamas, The\",\"South Asia/Bangladesh\",\"Europe & Central Asia/Belarus\",\"Europe & Central Asia/Belgium\",\"Latin America & Caribbean/Belize\",\"Sub-Saharan Africa/Benin\",\"South Asia/Bhutan\",\"Latin America & Caribbean/Bolivia\",\"Europe & Central Asia/Bosnia and Herzegovina\",\"Sub-Saharan Africa/Botswana\",\"Latin America & Caribbean/Brazil\",\"East Asia & Pacific/Brunei Darussalam\",\"Europe & Central Asia/Bulgaria\",\"Sub-Saharan Africa/Burundi\",\"Sub-Saharan Africa/Cabo Verde\",\"East Asia & Pacific/Cambodia\",\"Sub-Saharan Africa/Cameroon\",\"North America/Canada\",\"Sub-Saharan Africa/Central African Republic\",\"Sub-Saharan Africa/Chad\",\"Latin America & Caribbean/Chile\",\"East Asia & Pacific/China\",\"Latin America & Caribbean/Colombia\",\"Sub-Saharan Africa/Congo, Dem. Rep.\",\"Sub-Saharan Africa/Congo, Rep.\",\"Latin America & Caribbean/Costa Rica\",\"Sub-Saharan Africa/Cote d'Ivoire\",\"Europe & Central Asia/Croatia\",\"Latin America & Caribbean/Cuba\",\"Europe & Central Asia/Cyprus\",\"Europe & Central Asia/Czech Republic\",\"Europe & Central Asia/Denmark\",\"Latin America & Caribbean/Dominican Republic\",\"Latin America & Caribbean/Ecuador\",\"Middle East & North Africa/Egypt, Arab Rep.\",\"Latin America & Caribbean/El Salvador\",\"Sub-Saharan Africa/Equatorial Guinea\",\"Europe & Central Asia/Estonia\",\"Sub-Saharan Africa/Eswatini\",\"Sub-Saharan Africa/Ethiopia\",\"East Asia & Pacific/Fiji\",\"Europe & Central Asia/Finland\",\"Europe & Central Asia/France\",\"Sub-Saharan Africa/Gabon\",\"Sub-Saharan Africa/Gambia, The\",\"Europe & Central Asia/Georgia\",\"Europe & Central Asia/Germany\",\"Sub-Saharan Africa/Ghana\",\"Europe & Central Asia/Greece\",\"Latin America & Caribbean/Guatemala\",\"Sub-Saharan Africa/Guinea\",\"Sub-Saharan Africa/Guinea-Bissau\",\"Latin America & Caribbean/Haiti\",\"Latin America & Caribbean/Honduras\",\"East Asia & Pacific/Hong Kong SAR, China\",\"Europe & Central Asia/Hungary\",\"Europe & Central Asia/Iceland\",\"South Asia/India\",\"East Asia & Pacific/Indonesia\",\"Middle East & North Africa/Iran, Islamic Rep.\",\"Europe & Central Asia/Ireland\",\"Middle East & North Africa/Israel\",\"Europe & Central Asia/Italy\",\"Latin America & Caribbean/Jamaica\",\"East Asia & Pacific/Japan\",\"Middle East & North Africa/Jordan\",\"Europe & Central Asia/Kazakhstan\",\"Sub-Saharan Africa/Kenya\",\"East Asia & Pacific/Korea, Rep.\",\"Europe & Central Asia/Kyrgyz Republic\",\"Europe & Central Asia/Latvia\",\"Middle East & North Africa/Lebanon\",\"Europe & Central Asia/Lithuania\",\"Europe & Central Asia/Luxembourg\",\"East Asia & Pacific/Macao SAR, China\",\"Sub-Saharan Africa/Madagascar\",\"East Asia & Pacific/Malaysia\",\"South Asia/Maldives\",\"Sub-Saharan Africa/Mali\",\"Middle East & North Africa/Malta\",\"Sub-Saharan Africa/Mauritania\",\"Sub-Saharan Africa/Mauritius\",\"Latin America & Caribbean/Mexico\",\"Europe & Central Asia/Moldova\",\"East Asia & Pacific/Mongolia\",\"Europe & Central Asia/Montenegro\",\"Middle East & North Africa/Morocco\",\"Sub-Saharan Africa/Namibia\",\"South Asia/Nepal\",\"Europe & Central Asia/Netherlands\",\"East Asia & Pacific/New Zealand\",\"Latin America & Caribbean/Nicaragua\",\"Sub-Saharan Africa/Niger\",\"Sub-Saharan Africa/Nigeria\",\"Europe & Central Asia/North Macedonia\",\"Europe & Central Asia/Norway\",\"Middle East & North Africa/Oman\",\"South Asia/Pakistan\",\"Latin America & Caribbean/Panama\",\"Latin America & Caribbean/Paraguay\",\"Latin America & Caribbean/Peru\",\"East Asia & Pacific/Philippines\",\"Europe & Central Asia/Poland\",\"Europe & Central Asia/Portugal\",\"Middle East & North Africa/Qatar\",\"Europe & Central Asia/Romania\",\"Europe & Central Asia/Russian Federation\",\"Sub-Saharan Africa/Rwanda\",\"Middle East & North Africa/Saudi Arabia\",\"Sub-Saharan Africa/Senegal\",\"Europe & Central Asia/Serbia\",\"Sub-Saharan Africa/Sierra Leone\",\"East Asia & Pacific/Singapore\",\"Europe & Central Asia/Slovak Republic\",\"Europe & Central Asia/Slovenia\",\"Sub-Saharan Africa/South Africa\",\"Europe & Central Asia/Spain\",\"South Asia/Sri Lanka\",\"Sub-Saharan Africa/Sudan\",\"Europe & Central Asia/Sweden\",\"Europe & Central Asia/Switzerland\",\"Europe & Central Asia/Tajikistan\",\"Sub-Saharan Africa/Tanzania\",\"East Asia & Pacific/Thailand\",\"East Asia & Pacific/Timor-Leste\",\"Sub-Saharan Africa/Togo\",\"East Asia & Pacific/Tonga\",\"Europe & Central Asia/Turkey\",\"Sub-Saharan Africa/Uganda\",\"Europe & Central Asia/Ukraine\",\"Europe & Central Asia/United Kingdom\",\"North America/United States\",\"Europe & Central Asia/Uzbekistan\",\"East Asia & Pacific/Vietnam\",\"Middle East & North Africa/West Bank and Gaza\",\"Sub-Saharan Africa/Zambia\",\"Sub-Saharan Africa/Zimbabwe\",\"East Asia & Pacific\",\"Europe & Central Asia\",\"Latin America & Caribbean\",\"Middle East & North Africa\",\"North America\",\"South Asia\",\"Sub-Saharan Africa\"],\"labels\":[\"Algeria\",\"Angola\",\"Argentina\",\"Armenia\",\"Australia\",\"Austria\",\"Azerbaijan\",\"Bahamas, The\",\"Bangladesh\",\"Belarus\",\"Belgium\",\"Belize\",\"Benin\",\"Bhutan\",\"Bolivia\",\"Bosnia and Herzegovina\",\"Botswana\",\"Brazil\",\"Brunei Darussalam\",\"Bulgaria\",\"Burundi\",\"Cabo Verde\",\"Cambodia\",\"Cameroon\",\"Canada\",\"Central African Republic\",\"Chad\",\"Chile\",\"China\",\"Colombia\",\"Congo, Dem. Rep.\",\"Congo, Rep.\",\"Costa Rica\",\"Cote d'Ivoire\",\"Croatia\",\"Cuba\",\"Cyprus\",\"Czech Republic\",\"Denmark\",\"Dominican Republic\",\"Ecuador\",\"Egypt, Arab Rep.\",\"El Salvador\",\"Equatorial Guinea\",\"Estonia\",\"Eswatini\",\"Ethiopia\",\"Fiji\",\"Finland\",\"France\",\"Gabon\",\"Gambia, The\",\"Georgia\",\"Germany\",\"Ghana\",\"Greece\",\"Guatemala\",\"Guinea\",\"Guinea-Bissau\",\"Haiti\",\"Honduras\",\"Hong Kong SAR, China\",\"Hungary\",\"Iceland\",\"India\",\"Indonesia\",\"Iran, Islamic Rep.\",\"Ireland\",\"Israel\",\"Italy\",\"Jamaica\",\"Japan\",\"Jordan\",\"Kazakhstan\",\"Kenya\",\"Korea, Rep.\",\"Kyrgyz Republic\",\"Latvia\",\"Lebanon\",\"Lithuania\",\"Luxembourg\",\"Macao SAR, China\",\"Madagascar\",\"Malaysia\",\"Maldives\",\"Mali\",\"Malta\",\"Mauritania\",\"Mauritius\",\"Mexico\",\"Moldova\",\"Mongolia\",\"Montenegro\",\"Morocco\",\"Namibia\",\"Nepal\",\"Netherlands\",\"New Zealand\",\"Nicaragua\",\"Niger\",\"Nigeria\",\"North Macedonia\",\"Norway\",\"Oman\",\"Pakistan\",\"Panama\",\"Paraguay\",\"Peru\",\"Philippines\",\"Poland\",\"Portugal\",\"Qatar\",\"Romania\",\"Russian Federation\",\"Rwanda\",\"Saudi Arabia\",\"Senegal\",\"Serbia\",\"Sierra Leone\",\"Singapore\",\"Slovak Republic\",\"Slovenia\",\"South Africa\",\"Spain\",\"Sri Lanka\",\"Sudan\",\"Sweden\",\"Switzerland\",\"Tajikistan\",\"Tanzania\",\"Thailand\",\"Timor-Leste\",\"Togo\",\"Tonga\",\"Turkey\",\"Uganda\",\"Ukraine\",\"United Kingdom\",\"United States\",\"Uzbekistan\",\"Vietnam\",\"West Bank and Gaza\",\"Zambia\",\"Zimbabwe\",\"East Asia & Pacific\",\"Europe & Central Asia\",\"Latin America & Caribbean\",\"Middle East & North Africa\",\"North America\",\"South Asia\",\"Sub-Saharan Africa\"],\"marker\":{\"coloraxis\":\"coloraxis\",\"colors\":[1450.0918149062,583.759762929678,3892.8805626532503,126.41209802112,13278.3617106851,4332.58467676515,426.07176470588206,99.075,3230.56957972312,602.582390555829,5218.61292586616,16.3628079708056,156.515453315404,23.154373380880898,365.72764862823396,199.46496562973303,150.619228016271,14447.3325897165,120.058257695087,698.8934743343241,28.4178638219063,17.0369867669742,258.085615509514,408.0444972601841,16454.234075683602,23.800877580413697,108.29076801729,2529.40023046007,147227.306978901,2714.37596293843,487.169608600664,101.871223414051,618.468951207808,613.485794651017,572.037832030259,1073.52,246.12646487721298,2453.39322066759,3560.8486768563894,788.4470232907851,988.0801,3652.52651278852,246.3872,100.218567544944,306.50285471721503,39.7272894847088,1076.4505431187602,45.3388378227458,2695.94831987549,26303.1773145526,153.168261915682,18.68086274822,158.464896108073,38464.1392865371,685.322818056722,1888.3520162591,776.046321705853,156.81050917156298,14.317582429037499,145.082180174032,236.622316339139,3465.8588150363503,1558.0843623848698,217.18075725205398,26602.4524886763,10584.2383834514,2034.7130395234399,4258.88950992003,4071.0073659406403,18887.0944368748,138.124250365864,50577.589587066395,436.97659295774696,1710.82379532988,1010.13726529063,16378.958027928998,77.35976272759831,337.073208163036,317.352177845445,565.4695747549121,733.531327937076,255.86111076341498,130.560799823887,3370.0606637325996,37.4276996742798,174.653929159153,146.47384607604,79.136802311828,109.20606197692801,10739.158808225,119.155472626561,133.12981594573,47.6986074074074,1147.25065285149,106.191945053543,336.57175561329,9138.65395789886,2107.00848973509,126.21505382606199,137.41378450136,4322.93776262398,122.63710122764499,3621.9831843526,739.7139141742521,2626.1000293850902,539.770369951729,356.703014961061,2020.14363787233,3614.8932523073104,5966.24355719671,2285.39245045341,1444.1136334526998,2487.15551366635,14834.977848676,103.339914555443,7001.17873253333,246.442345946566,533.350164254148,40.632894495879505,3399.98477929985,1051.72564491569,535.896095807099,3354.42101366417,12814.846400435801,806.7668193397801,213.291095218077,5412.2005945925,7522.4804573011,81.9415030178552,624.0970911095379,5016.43653514925,19.021568,75.7463697866173,4.8882996407081905,7199.548216833101,376.00368180939904,1554.98989149587,27598.0406183707,209530.3,599.299511143598,2711.5844244853697,155.613,181.10631358311403,180.51170798941,94739.80465415955,18450.749050733753,8435.464206827399,3958.9099953035216,195472.17519900433,21560.42622979863,2114.6004563297115]},\"name\":\"\",\"parents\":[\"Middle East & North Africa\",\"Sub-Saharan Africa\",\"Latin America & Caribbean\",\"Europe & Central Asia\",\"East Asia & Pacific\",\"Europe & Central Asia\",\"Europe & Central Asia\",\"Latin America & Caribbean\",\"South Asia\",\"Europe & Central Asia\",\"Europe & Central Asia\",\"Latin America & Caribbean\",\"Sub-Saharan Africa\",\"South Asia\",\"Latin America & Caribbean\",\"Europe & Central Asia\",\"Sub-Saharan Africa\",\"Latin America & Caribbean\",\"East Asia & Pacific\",\"Europe & Central Asia\",\"Sub-Saharan Africa\",\"Sub-Saharan Africa\",\"East Asia & Pacific\",\"Sub-Saharan Africa\",\"North America\",\"Sub-Saharan Africa\",\"Sub-Saharan Africa\",\"Latin America & Caribbean\",\"East Asia & Pacific\",\"Latin America & Caribbean\",\"Sub-Saharan Africa\",\"Sub-Saharan Africa\",\"Latin America & Caribbean\",\"Sub-Saharan Africa\",\"Europe & Central Asia\",\"Latin America & Caribbean\",\"Europe & Central Asia\",\"Europe & Central Asia\",\"Europe & Central Asia\",\"Latin America & Caribbean\",\"Latin America & Caribbean\",\"Middle East & North Africa\",\"Latin America & Caribbean\",\"Sub-Saharan Africa\",\"Europe & Central Asia\",\"Sub-Saharan Africa\",\"Sub-Saharan Africa\",\"East Asia & Pacific\",\"Europe & Central Asia\",\"Europe & Central Asia\",\"Sub-Saharan Africa\",\"Sub-Saharan Africa\",\"Europe & Central Asia\",\"Europe & Central Asia\",\"Sub-Saharan Africa\",\"Europe & Central Asia\",\"Latin America & Caribbean\",\"Sub-Saharan Africa\",\"Sub-Saharan Africa\",\"Latin America & Caribbean\",\"Latin America & Caribbean\",\"East Asia & Pacific\",\"Europe & Central Asia\",\"Europe & Central Asia\",\"South Asia\",\"East Asia & Pacific\",\"Middle East & North Africa\",\"Europe & Central Asia\",\"Middle East & North Africa\",\"Europe & Central Asia\",\"Latin America & Caribbean\",\"East Asia & Pacific\",\"Middle East & North Africa\",\"Europe & Central Asia\",\"Sub-Saharan Africa\",\"East Asia & Pacific\",\"Europe & Central Asia\",\"Europe & Central Asia\",\"Middle East & North Africa\",\"Europe & Central Asia\",\"Europe & Central Asia\",\"East Asia & Pacific\",\"Sub-Saharan Africa\",\"East Asia & Pacific\",\"South Asia\",\"Sub-Saharan Africa\",\"Middle East & North Africa\",\"Sub-Saharan Africa\",\"Sub-Saharan Africa\",\"Latin America & Caribbean\",\"Europe & Central Asia\",\"East Asia & Pacific\",\"Europe & Central Asia\",\"Middle East & North Africa\",\"Sub-Saharan Africa\",\"South Asia\",\"Europe & Central Asia\",\"East Asia & Pacific\",\"Latin America & Caribbean\",\"Sub-Saharan Africa\",\"Sub-Saharan Africa\",\"Europe & Central Asia\",\"Europe & Central Asia\",\"Middle East & North Africa\",\"South Asia\",\"Latin America & Caribbean\",\"Latin America & Caribbean\",\"Latin America & Caribbean\",\"East Asia & Pacific\",\"Europe & Central Asia\",\"Europe & Central Asia\",\"Middle East & North Africa\",\"Europe & Central Asia\",\"Europe & Central Asia\",\"Sub-Saharan Africa\",\"Middle East & North Africa\",\"Sub-Saharan Africa\",\"Europe & Central Asia\",\"Sub-Saharan Africa\",\"East Asia & Pacific\",\"Europe & Central Asia\",\"Europe & Central Asia\",\"Sub-Saharan Africa\",\"Europe & Central Asia\",\"South Asia\",\"Sub-Saharan Africa\",\"Europe & Central Asia\",\"Europe & Central Asia\",\"Europe & Central Asia\",\"Sub-Saharan Africa\",\"East Asia & Pacific\",\"East Asia & Pacific\",\"Sub-Saharan Africa\",\"East Asia & Pacific\",\"Europe & Central Asia\",\"Sub-Saharan Africa\",\"Europe & Central Asia\",\"Europe & Central Asia\",\"North America\",\"Europe & Central Asia\",\"East Asia & Pacific\",\"Middle East & North Africa\",\"Sub-Saharan Africa\",\"Sub-Saharan Africa\",\"\",\"\",\"\",\"\",\"\",\"\",\"\"],\"values\":[1450.0918149062,583.759762929678,3892.8805626532503,126.41209802112,13278.3617106851,4332.58467676515,426.07176470588206,99.075,3230.56957972312,602.582390555829,5218.61292586616,16.3628079708056,156.515453315404,23.154373380880898,365.727648628234,199.464965629733,150.619228016271,14447.3325897165,120.058257695087,698.8934743343241,28.4178638219063,17.0369867669742,258.085615509514,408.044497260184,16454.234075683602,23.800877580413697,108.29076801729,2529.40023046007,147227.306978901,2714.37596293843,487.169608600664,101.871223414051,618.468951207808,613.485794651017,572.037832030259,1073.52,246.12646487721298,2453.39322066759,3560.84867685639,788.4470232907851,988.0801,3652.52651278852,246.3872,100.218567544944,306.50285471721503,39.7272894847088,1076.4505431187602,45.3388378227458,2695.94831987549,26303.1773145526,153.168261915682,18.68086274822,158.464896108073,38464.1392865371,685.322818056722,1888.3520162591,776.046321705853,156.81050917156298,14.317582429037499,145.082180174032,236.622316339139,3465.8588150363503,1558.08436238487,217.18075725205398,26602.4524886763,10584.2383834514,2034.7130395234399,4258.88950992003,4071.0073659406403,18887.0944368748,138.124250365864,50577.589587066395,436.97659295774696,1710.82379532988,1010.13726529063,16378.958027928998,77.35976272759831,337.073208163036,317.352177845445,565.4695747549121,733.531327937076,255.86111076341498,130.560799823887,3370.0606637326,37.4276996742798,174.653929159153,146.47384607604,79.136802311828,109.20606197692801,10739.158808225,119.155472626561,133.12981594573,47.6986074074074,1147.25065285149,106.191945053543,336.57175561329,9138.65395789886,2107.00848973509,126.21505382606199,137.41378450136,4322.93776262398,122.63710122764499,3621.9831843526,739.7139141742521,2626.1000293850902,539.770369951729,356.703014961061,2020.14363787233,3614.8932523073104,5966.24355719671,2285.39245045341,1444.1136334526998,2487.15551366635,14834.977848676,103.339914555443,7001.17873253333,246.442345946566,533.350164254148,40.632894495879505,3399.98477929985,1051.72564491569,535.896095807099,3354.42101366417,12814.846400435801,806.76681933978,213.291095218077,5412.2005945925,7522.4804573011,81.9415030178552,624.0970911095379,5016.43653514925,19.021568,75.7463697866173,4.8882996407081905,7199.548216833101,376.00368180939904,1554.98989149587,27598.0406183707,209530.3,599.299511143598,2711.5844244853697,155.613,181.106313583114,180.51170798941,262568.6651531559,220127.33670537648,42857.92403028695,22597.011283049804,225984.5340756836,33663.04274579274,16389.539277743013],\"type\":\"sunburst\"}],                        {\"template\":{\"data\":{\"histogram2dcontour\":[{\"type\":\"histogram2dcontour\",\"colorbar\":{\"outlinewidth\":0,\"ticks\":\"\"},\"colorscale\":[[0.0,\"#0d0887\"],[0.1111111111111111,\"#46039f\"],[0.2222222222222222,\"#7201a8\"],[0.3333333333333333,\"#9c179e\"],[0.4444444444444444,\"#bd3786\"],[0.5555555555555556,\"#d8576b\"],[0.6666666666666666,\"#ed7953\"],[0.7777777777777778,\"#fb9f3a\"],[0.8888888888888888,\"#fdca26\"],[1.0,\"#f0f921\"]]}],\"choropleth\":[{\"type\":\"choropleth\",\"colorbar\":{\"outlinewidth\":0,\"ticks\":\"\"}}],\"histogram2d\":[{\"type\":\"histogram2d\",\"colorbar\":{\"outlinewidth\":0,\"ticks\":\"\"},\"colorscale\":[[0.0,\"#0d0887\"],[0.1111111111111111,\"#46039f\"],[0.2222222222222222,\"#7201a8\"],[0.3333333333333333,\"#9c179e\"],[0.4444444444444444,\"#bd3786\"],[0.5555555555555556,\"#d8576b\"],[0.6666666666666666,\"#ed7953\"],[0.7777777777777778,\"#fb9f3a\"],[0.8888888888888888,\"#fdca26\"],[1.0,\"#f0f921\"]]}],\"heatmap\":[{\"type\":\"heatmap\",\"colorbar\":{\"outlinewidth\":0,\"ticks\":\"\"},\"colorscale\":[[0.0,\"#0d0887\"],[0.1111111111111111,\"#46039f\"],[0.2222222222222222,\"#7201a8\"],[0.3333333333333333,\"#9c179e\"],[0.4444444444444444,\"#bd3786\"],[0.5555555555555556,\"#d8576b\"],[0.6666666666666666,\"#ed7953\"],[0.7777777777777778,\"#fb9f3a\"],[0.8888888888888888,\"#fdca26\"],[1.0,\"#f0f921\"]]}],\"heatmapgl\":[{\"type\":\"heatmapgl\",\"colorbar\":{\"outlinewidth\":0,\"ticks\":\"\"},\"colorscale\":[[0.0,\"#0d0887\"],[0.1111111111111111,\"#46039f\"],[0.2222222222222222,\"#7201a8\"],[0.3333333333333333,\"#9c179e\"],[0.4444444444444444,\"#bd3786\"],[0.5555555555555556,\"#d8576b\"],[0.6666666666666666,\"#ed7953\"],[0.7777777777777778,\"#fb9f3a\"],[0.8888888888888888,\"#fdca26\"],[1.0,\"#f0f921\"]]}],\"contourcarpet\":[{\"type\":\"contourcarpet\",\"colorbar\":{\"outlinewidth\":0,\"ticks\":\"\"}}],\"contour\":[{\"type\":\"contour\",\"colorbar\":{\"outlinewidth\":0,\"ticks\":\"\"},\"colorscale\":[[0.0,\"#0d0887\"],[0.1111111111111111,\"#46039f\"],[0.2222222222222222,\"#7201a8\"],[0.3333333333333333,\"#9c179e\"],[0.4444444444444444,\"#bd3786\"],[0.5555555555555556,\"#d8576b\"],[0.6666666666666666,\"#ed7953\"],[0.7777777777777778,\"#fb9f3a\"],[0.8888888888888888,\"#fdca26\"],[1.0,\"#f0f921\"]]}],\"surface\":[{\"type\":\"surface\",\"colorbar\":{\"outlinewidth\":0,\"ticks\":\"\"},\"colorscale\":[[0.0,\"#0d0887\"],[0.1111111111111111,\"#46039f\"],[0.2222222222222222,\"#7201a8\"],[0.3333333333333333,\"#9c179e\"],[0.4444444444444444,\"#bd3786\"],[0.5555555555555556,\"#d8576b\"],[0.6666666666666666,\"#ed7953\"],[0.7777777777777778,\"#fb9f3a\"],[0.8888888888888888,\"#fdca26\"],[1.0,\"#f0f921\"]]}],\"mesh3d\":[{\"type\":\"mesh3d\",\"colorbar\":{\"outlinewidth\":0,\"ticks\":\"\"}}],\"scatter\":[{\"fillpattern\":{\"fillmode\":\"overlay\",\"size\":10,\"solidity\":0.2},\"type\":\"scatter\"}],\"parcoords\":[{\"type\":\"parcoords\",\"line\":{\"colorbar\":{\"outlinewidth\":0,\"ticks\":\"\"}}}],\"scatterpolargl\":[{\"type\":\"scatterpolargl\",\"marker\":{\"colorbar\":{\"outlinewidth\":0,\"ticks\":\"\"}}}],\"bar\":[{\"error_x\":{\"color\":\"#2a3f5f\"},\"error_y\":{\"color\":\"#2a3f5f\"},\"marker\":{\"line\":{\"color\":\"#E5ECF6\",\"width\":0.5},\"pattern\":{\"fillmode\":\"overlay\",\"size\":10,\"solidity\":0.2}},\"type\":\"bar\"}],\"scattergeo\":[{\"type\":\"scattergeo\",\"marker\":{\"colorbar\":{\"outlinewidth\":0,\"ticks\":\"\"}}}],\"scatterpolar\":[{\"type\":\"scatterpolar\",\"marker\":{\"colorbar\":{\"outlinewidth\":0,\"ticks\":\"\"}}}],\"histogram\":[{\"marker\":{\"pattern\":{\"fillmode\":\"overlay\",\"size\":10,\"solidity\":0.2}},\"type\":\"histogram\"}],\"scattergl\":[{\"type\":\"scattergl\",\"marker\":{\"colorbar\":{\"outlinewidth\":0,\"ticks\":\"\"}}}],\"scatter3d\":[{\"type\":\"scatter3d\",\"line\":{\"colorbar\":{\"outlinewidth\":0,\"ticks\":\"\"}},\"marker\":{\"colorbar\":{\"outlinewidth\":0,\"ticks\":\"\"}}}],\"scattermapbox\":[{\"type\":\"scattermapbox\",\"marker\":{\"colorbar\":{\"outlinewidth\":0,\"ticks\":\"\"}}}],\"scatterternary\":[{\"type\":\"scatterternary\",\"marker\":{\"colorbar\":{\"outlinewidth\":0,\"ticks\":\"\"}}}],\"scattercarpet\":[{\"type\":\"scattercarpet\",\"marker\":{\"colorbar\":{\"outlinewidth\":0,\"ticks\":\"\"}}}],\"carpet\":[{\"aaxis\":{\"endlinecolor\":\"#2a3f5f\",\"gridcolor\":\"white\",\"linecolor\":\"white\",\"minorgridcolor\":\"white\",\"startlinecolor\":\"#2a3f5f\"},\"baxis\":{\"endlinecolor\":\"#2a3f5f\",\"gridcolor\":\"white\",\"linecolor\":\"white\",\"minorgridcolor\":\"white\",\"startlinecolor\":\"#2a3f5f\"},\"type\":\"carpet\"}],\"table\":[{\"cells\":{\"fill\":{\"color\":\"#EBF0F8\"},\"line\":{\"color\":\"white\"}},\"header\":{\"fill\":{\"color\":\"#C8D4E3\"},\"line\":{\"color\":\"white\"}},\"type\":\"table\"}],\"barpolar\":[{\"marker\":{\"line\":{\"color\":\"#E5ECF6\",\"width\":0.5},\"pattern\":{\"fillmode\":\"overlay\",\"size\":10,\"solidity\":0.2}},\"type\":\"barpolar\"}],\"pie\":[{\"automargin\":true,\"type\":\"pie\"}]},\"layout\":{\"autotypenumbers\":\"strict\",\"colorway\":[\"#636efa\",\"#EF553B\",\"#00cc96\",\"#ab63fa\",\"#FFA15A\",\"#19d3f3\",\"#FF6692\",\"#B6E880\",\"#FF97FF\",\"#FECB52\"],\"font\":{\"color\":\"#2a3f5f\"},\"hovermode\":\"closest\",\"hoverlabel\":{\"align\":\"left\"},\"paper_bgcolor\":\"white\",\"plot_bgcolor\":\"#E5ECF6\",\"polar\":{\"bgcolor\":\"#E5ECF6\",\"angularaxis\":{\"gridcolor\":\"white\",\"linecolor\":\"white\",\"ticks\":\"\"},\"radialaxis\":{\"gridcolor\":\"white\",\"linecolor\":\"white\",\"ticks\":\"\"}},\"ternary\":{\"bgcolor\":\"#E5ECF6\",\"aaxis\":{\"gridcolor\":\"white\",\"linecolor\":\"white\",\"ticks\":\"\"},\"baxis\":{\"gridcolor\":\"white\",\"linecolor\":\"white\",\"ticks\":\"\"},\"caxis\":{\"gridcolor\":\"white\",\"linecolor\":\"white\",\"ticks\":\"\"}},\"coloraxis\":{\"colorbar\":{\"outlinewidth\":0,\"ticks\":\"\"}},\"colorscale\":{\"sequential\":[[0.0,\"#0d0887\"],[0.1111111111111111,\"#46039f\"],[0.2222222222222222,\"#7201a8\"],[0.3333333333333333,\"#9c179e\"],[0.4444444444444444,\"#bd3786\"],[0.5555555555555556,\"#d8576b\"],[0.6666666666666666,\"#ed7953\"],[0.7777777777777778,\"#fb9f3a\"],[0.8888888888888888,\"#fdca26\"],[1.0,\"#f0f921\"]],\"sequentialminus\":[[0.0,\"#0d0887\"],[0.1111111111111111,\"#46039f\"],[0.2222222222222222,\"#7201a8\"],[0.3333333333333333,\"#9c179e\"],[0.4444444444444444,\"#bd3786\"],[0.5555555555555556,\"#d8576b\"],[0.6666666666666666,\"#ed7953\"],[0.7777777777777778,\"#fb9f3a\"],[0.8888888888888888,\"#fdca26\"],[1.0,\"#f0f921\"]],\"diverging\":[[0,\"#8e0152\"],[0.1,\"#c51b7d\"],[0.2,\"#de77ae\"],[0.3,\"#f1b6da\"],[0.4,\"#fde0ef\"],[0.5,\"#f7f7f7\"],[0.6,\"#e6f5d0\"],[0.7,\"#b8e186\"],[0.8,\"#7fbc41\"],[0.9,\"#4d9221\"],[1,\"#276419\"]]},\"xaxis\":{\"gridcolor\":\"white\",\"linecolor\":\"white\",\"ticks\":\"\",\"title\":{\"standoff\":15},\"zerolinecolor\":\"white\",\"automargin\":true,\"zerolinewidth\":2},\"yaxis\":{\"gridcolor\":\"white\",\"linecolor\":\"white\",\"ticks\":\"\",\"title\":{\"standoff\":15},\"zerolinecolor\":\"white\",\"automargin\":true,\"zerolinewidth\":2},\"scene\":{\"xaxis\":{\"backgroundcolor\":\"#E5ECF6\",\"gridcolor\":\"white\",\"linecolor\":\"white\",\"showbackground\":true,\"ticks\":\"\",\"zerolinecolor\":\"white\",\"gridwidth\":2},\"yaxis\":{\"backgroundcolor\":\"#E5ECF6\",\"gridcolor\":\"white\",\"linecolor\":\"white\",\"showbackground\":true,\"ticks\":\"\",\"zerolinecolor\":\"white\",\"gridwidth\":2},\"zaxis\":{\"backgroundcolor\":\"#E5ECF6\",\"gridcolor\":\"white\",\"linecolor\":\"white\",\"showbackground\":true,\"ticks\":\"\",\"zerolinecolor\":\"white\",\"gridwidth\":2}},\"shapedefaults\":{\"line\":{\"color\":\"#2a3f5f\"}},\"annotationdefaults\":{\"arrowcolor\":\"#2a3f5f\",\"arrowhead\":0,\"arrowwidth\":1},\"geo\":{\"bgcolor\":\"white\",\"landcolor\":\"#E5ECF6\",\"subunitcolor\":\"white\",\"showland\":true,\"showlakes\":true,\"lakecolor\":\"white\"},\"title\":{\"x\":0.05},\"mapbox\":{\"style\":\"light\"}}},\"coloraxis\":{\"colorbar\":{\"title\":{\"text\":\"\\u0412\\u0412\\u041f\"}},\"colorscale\":[[0.0,\"#0d0887\"],[0.1111111111111111,\"#46039f\"],[0.2222222222222222,\"#7201a8\"],[0.3333333333333333,\"#9c179e\"],[0.4444444444444444,\"#bd3786\"],[0.5555555555555556,\"#d8576b\"],[0.6666666666666666,\"#ed7953\"],[0.7777777777777778,\"#fb9f3a\"],[0.8888888888888888,\"#fdca26\"],[1.0,\"#f0f921\"]]},\"legend\":{\"tracegroupgap\":0},\"margin\":{\"t\":60},\"title\":{\"font\":{\"size\":25},\"text\":\"\\u0412\\u0412\\u041f \\u0440\\u0435\\u0433\\u0438\\u043e\\u043d\\u043e\\u0432 \\u0438 \\u0441\\u0442\\u0440\\u0430\\u043d \\u043c\\u0438\\u0440\\u0430 \\u0432 2020 \\u0433\\u043e\\u0434\\u0443\",\"x\":0.5},\"font\":{\"color\":\"#001233\",\"size\":20}},                        {\"responsive\": true}                    ).then(function(){\n",
       "                            \n",
       "var gd = document.getElementById('2a34a6cc-4294-42b1-8ceb-381ede666a75');\n",
       "var x = new MutationObserver(function (mutations, observer) {{\n",
       "        var display = window.getComputedStyle(gd).display;\n",
       "        if (!display || display === 'none') {{\n",
       "            console.log([gd, 'removed!']);\n",
       "            Plotly.purge(gd);\n",
       "            observer.disconnect();\n",
       "        }}\n",
       "}});\n",
       "\n",
       "// Listen for the removal of the full notebook cells\n",
       "var notebookContainer = gd.closest('#notebook-container');\n",
       "if (notebookContainer) {{\n",
       "    x.observe(notebookContainer, {childList: true});\n",
       "}}\n",
       "\n",
       "// Listen for the clearing of the current output cell\n",
       "var outputEl = gd.closest('.output');\n",
       "if (outputEl) {{\n",
       "    x.observe(outputEl, {childList: true});\n",
       "}}\n",
       "\n",
       "                        })                };                });            </script>        </div>"
      ]
     },
     "metadata": {},
     "output_type": "display_data"
    }
   ],
   "source": [
    "# нарисовать круговую диаграмму, показывающую страны и регионы\n",
    "fig2=px.sunburst(dft[['Region','Country','ВВП']],\n",
    "                 path=['Region',\"Country\"],\n",
    "                 values='ВВП', \n",
    "                 color='ВВП')\n",
    "fig2.update_layout(title_text = 'ВВП регионов и стран мира в 2020 году',\n",
    "                   title_x=0.5,title_font_size=25, font_color='#001233',font_size=20,\n",
    "                 )\n",
    "fig2.show()"
   ]
  },
  {
   "cell_type": "markdown",
   "id": "78cda858",
   "metadata": {},
   "source": [
    "### 3- Топ-15 стран с самым высоким ВВП в мире в 2020 году (Top 15 countries with the highest GDP in the world)"
   ]
  },
  {
   "cell_type": "code",
   "execution_count": 13,
   "id": "4e8bc8ba",
   "metadata": {
    "scrolled": false
   },
   "outputs": [
    {
     "data": {
      "application/vnd.plotly.v1+json": {
       "config": {
        "plotlyServerURL": "https://plotly.com"
       },
       "data": [
        {
         "alignmentgroup": "True",
         "hovertemplate": "ВВП=%{marker.color}<br>Country=%{y}<extra></extra>",
         "legendgroup": "",
         "marker": {
          "color": [
           209530.3,
           147227.306978901,
           50577.589587066395,
           38464.1392865371,
           27598.0406183707,
           26602.4524886763,
           26303.1773145526,
           18887.0944368748,
           16454.234075683602,
           16378.958027928998,
           14834.977848676,
           14447.3325897165,
           13278.3617106851,
           12814.846400435801,
           10739.158808225
          ],
          "coloraxis": "coloraxis",
          "pattern": {
           "shape": ""
          }
         },
         "name": "",
         "offsetgroup": "",
         "orientation": "h",
         "showlegend": false,
         "textposition": "auto",
         "texttemplate": "%{x:.2s}",
         "type": "bar",
         "x": [
          209530.3,
          147227.306978901,
          50577.589587066395,
          38464.1392865371,
          27598.0406183707,
          26602.4524886763,
          26303.1773145526,
          18887.0944368748,
          16454.234075683602,
          16378.958027928998,
          14834.977848676,
          14447.3325897165,
          13278.3617106851,
          12814.846400435801,
          10739.158808225
         ],
         "xaxis": "x",
         "y": [
          "United States",
          "China",
          "Japan",
          "Germany",
          "United Kingdom",
          "India",
          "France",
          "Italy",
          "Canada",
          "Korea, Rep.",
          "Russian Federation",
          "Brazil",
          "Australia",
          "Spain",
          "Mexico"
         ],
         "yaxis": "y"
        }
       ],
       "layout": {
        "barmode": "relative",
        "coloraxis": {
         "colorbar": {
          "title": {
           "text": "ВВП"
          }
         },
         "colorscale": [
          [
           0,
           "#0d0887"
          ],
          [
           0.1111111111111111,
           "#46039f"
          ],
          [
           0.2222222222222222,
           "#7201a8"
          ],
          [
           0.3333333333333333,
           "#9c179e"
          ],
          [
           0.4444444444444444,
           "#bd3786"
          ],
          [
           0.5555555555555556,
           "#d8576b"
          ],
          [
           0.6666666666666666,
           "#ed7953"
          ],
          [
           0.7777777777777778,
           "#fb9f3a"
          ],
          [
           0.8888888888888888,
           "#fdca26"
          ],
          [
           1,
           "#f0f921"
          ]
         ]
        },
        "legend": {
         "tracegroupgap": 0
        },
        "template": {
         "data": {
          "bar": [
           {
            "error_x": {
             "color": "#2a3f5f"
            },
            "error_y": {
             "color": "#2a3f5f"
            },
            "marker": {
             "line": {
              "color": "#E5ECF6",
              "width": 0.5
             },
             "pattern": {
              "fillmode": "overlay",
              "size": 10,
              "solidity": 0.2
             }
            },
            "type": "bar"
           }
          ],
          "barpolar": [
           {
            "marker": {
             "line": {
              "color": "#E5ECF6",
              "width": 0.5
             },
             "pattern": {
              "fillmode": "overlay",
              "size": 10,
              "solidity": 0.2
             }
            },
            "type": "barpolar"
           }
          ],
          "carpet": [
           {
            "aaxis": {
             "endlinecolor": "#2a3f5f",
             "gridcolor": "white",
             "linecolor": "white",
             "minorgridcolor": "white",
             "startlinecolor": "#2a3f5f"
            },
            "baxis": {
             "endlinecolor": "#2a3f5f",
             "gridcolor": "white",
             "linecolor": "white",
             "minorgridcolor": "white",
             "startlinecolor": "#2a3f5f"
            },
            "type": "carpet"
           }
          ],
          "choropleth": [
           {
            "colorbar": {
             "outlinewidth": 0,
             "ticks": ""
            },
            "type": "choropleth"
           }
          ],
          "contour": [
           {
            "colorbar": {
             "outlinewidth": 0,
             "ticks": ""
            },
            "colorscale": [
             [
              0,
              "#0d0887"
             ],
             [
              0.1111111111111111,
              "#46039f"
             ],
             [
              0.2222222222222222,
              "#7201a8"
             ],
             [
              0.3333333333333333,
              "#9c179e"
             ],
             [
              0.4444444444444444,
              "#bd3786"
             ],
             [
              0.5555555555555556,
              "#d8576b"
             ],
             [
              0.6666666666666666,
              "#ed7953"
             ],
             [
              0.7777777777777778,
              "#fb9f3a"
             ],
             [
              0.8888888888888888,
              "#fdca26"
             ],
             [
              1,
              "#f0f921"
             ]
            ],
            "type": "contour"
           }
          ],
          "contourcarpet": [
           {
            "colorbar": {
             "outlinewidth": 0,
             "ticks": ""
            },
            "type": "contourcarpet"
           }
          ],
          "heatmap": [
           {
            "colorbar": {
             "outlinewidth": 0,
             "ticks": ""
            },
            "colorscale": [
             [
              0,
              "#0d0887"
             ],
             [
              0.1111111111111111,
              "#46039f"
             ],
             [
              0.2222222222222222,
              "#7201a8"
             ],
             [
              0.3333333333333333,
              "#9c179e"
             ],
             [
              0.4444444444444444,
              "#bd3786"
             ],
             [
              0.5555555555555556,
              "#d8576b"
             ],
             [
              0.6666666666666666,
              "#ed7953"
             ],
             [
              0.7777777777777778,
              "#fb9f3a"
             ],
             [
              0.8888888888888888,
              "#fdca26"
             ],
             [
              1,
              "#f0f921"
             ]
            ],
            "type": "heatmap"
           }
          ],
          "heatmapgl": [
           {
            "colorbar": {
             "outlinewidth": 0,
             "ticks": ""
            },
            "colorscale": [
             [
              0,
              "#0d0887"
             ],
             [
              0.1111111111111111,
              "#46039f"
             ],
             [
              0.2222222222222222,
              "#7201a8"
             ],
             [
              0.3333333333333333,
              "#9c179e"
             ],
             [
              0.4444444444444444,
              "#bd3786"
             ],
             [
              0.5555555555555556,
              "#d8576b"
             ],
             [
              0.6666666666666666,
              "#ed7953"
             ],
             [
              0.7777777777777778,
              "#fb9f3a"
             ],
             [
              0.8888888888888888,
              "#fdca26"
             ],
             [
              1,
              "#f0f921"
             ]
            ],
            "type": "heatmapgl"
           }
          ],
          "histogram": [
           {
            "marker": {
             "pattern": {
              "fillmode": "overlay",
              "size": 10,
              "solidity": 0.2
             }
            },
            "type": "histogram"
           }
          ],
          "histogram2d": [
           {
            "colorbar": {
             "outlinewidth": 0,
             "ticks": ""
            },
            "colorscale": [
             [
              0,
              "#0d0887"
             ],
             [
              0.1111111111111111,
              "#46039f"
             ],
             [
              0.2222222222222222,
              "#7201a8"
             ],
             [
              0.3333333333333333,
              "#9c179e"
             ],
             [
              0.4444444444444444,
              "#bd3786"
             ],
             [
              0.5555555555555556,
              "#d8576b"
             ],
             [
              0.6666666666666666,
              "#ed7953"
             ],
             [
              0.7777777777777778,
              "#fb9f3a"
             ],
             [
              0.8888888888888888,
              "#fdca26"
             ],
             [
              1,
              "#f0f921"
             ]
            ],
            "type": "histogram2d"
           }
          ],
          "histogram2dcontour": [
           {
            "colorbar": {
             "outlinewidth": 0,
             "ticks": ""
            },
            "colorscale": [
             [
              0,
              "#0d0887"
             ],
             [
              0.1111111111111111,
              "#46039f"
             ],
             [
              0.2222222222222222,
              "#7201a8"
             ],
             [
              0.3333333333333333,
              "#9c179e"
             ],
             [
              0.4444444444444444,
              "#bd3786"
             ],
             [
              0.5555555555555556,
              "#d8576b"
             ],
             [
              0.6666666666666666,
              "#ed7953"
             ],
             [
              0.7777777777777778,
              "#fb9f3a"
             ],
             [
              0.8888888888888888,
              "#fdca26"
             ],
             [
              1,
              "#f0f921"
             ]
            ],
            "type": "histogram2dcontour"
           }
          ],
          "mesh3d": [
           {
            "colorbar": {
             "outlinewidth": 0,
             "ticks": ""
            },
            "type": "mesh3d"
           }
          ],
          "parcoords": [
           {
            "line": {
             "colorbar": {
              "outlinewidth": 0,
              "ticks": ""
             }
            },
            "type": "parcoords"
           }
          ],
          "pie": [
           {
            "automargin": true,
            "type": "pie"
           }
          ],
          "scatter": [
           {
            "fillpattern": {
             "fillmode": "overlay",
             "size": 10,
             "solidity": 0.2
            },
            "type": "scatter"
           }
          ],
          "scatter3d": [
           {
            "line": {
             "colorbar": {
              "outlinewidth": 0,
              "ticks": ""
             }
            },
            "marker": {
             "colorbar": {
              "outlinewidth": 0,
              "ticks": ""
             }
            },
            "type": "scatter3d"
           }
          ],
          "scattercarpet": [
           {
            "marker": {
             "colorbar": {
              "outlinewidth": 0,
              "ticks": ""
             }
            },
            "type": "scattercarpet"
           }
          ],
          "scattergeo": [
           {
            "marker": {
             "colorbar": {
              "outlinewidth": 0,
              "ticks": ""
             }
            },
            "type": "scattergeo"
           }
          ],
          "scattergl": [
           {
            "marker": {
             "colorbar": {
              "outlinewidth": 0,
              "ticks": ""
             }
            },
            "type": "scattergl"
           }
          ],
          "scattermapbox": [
           {
            "marker": {
             "colorbar": {
              "outlinewidth": 0,
              "ticks": ""
             }
            },
            "type": "scattermapbox"
           }
          ],
          "scatterpolar": [
           {
            "marker": {
             "colorbar": {
              "outlinewidth": 0,
              "ticks": ""
             }
            },
            "type": "scatterpolar"
           }
          ],
          "scatterpolargl": [
           {
            "marker": {
             "colorbar": {
              "outlinewidth": 0,
              "ticks": ""
             }
            },
            "type": "scatterpolargl"
           }
          ],
          "scatterternary": [
           {
            "marker": {
             "colorbar": {
              "outlinewidth": 0,
              "ticks": ""
             }
            },
            "type": "scatterternary"
           }
          ],
          "surface": [
           {
            "colorbar": {
             "outlinewidth": 0,
             "ticks": ""
            },
            "colorscale": [
             [
              0,
              "#0d0887"
             ],
             [
              0.1111111111111111,
              "#46039f"
             ],
             [
              0.2222222222222222,
              "#7201a8"
             ],
             [
              0.3333333333333333,
              "#9c179e"
             ],
             [
              0.4444444444444444,
              "#bd3786"
             ],
             [
              0.5555555555555556,
              "#d8576b"
             ],
             [
              0.6666666666666666,
              "#ed7953"
             ],
             [
              0.7777777777777778,
              "#fb9f3a"
             ],
             [
              0.8888888888888888,
              "#fdca26"
             ],
             [
              1,
              "#f0f921"
             ]
            ],
            "type": "surface"
           }
          ],
          "table": [
           {
            "cells": {
             "fill": {
              "color": "#EBF0F8"
             },
             "line": {
              "color": "white"
             }
            },
            "header": {
             "fill": {
              "color": "#C8D4E3"
             },
             "line": {
              "color": "white"
             }
            },
            "type": "table"
           }
          ]
         },
         "layout": {
          "annotationdefaults": {
           "arrowcolor": "#2a3f5f",
           "arrowhead": 0,
           "arrowwidth": 1
          },
          "autotypenumbers": "strict",
          "coloraxis": {
           "colorbar": {
            "outlinewidth": 0,
            "ticks": ""
           }
          },
          "colorscale": {
           "diverging": [
            [
             0,
             "#8e0152"
            ],
            [
             0.1,
             "#c51b7d"
            ],
            [
             0.2,
             "#de77ae"
            ],
            [
             0.3,
             "#f1b6da"
            ],
            [
             0.4,
             "#fde0ef"
            ],
            [
             0.5,
             "#f7f7f7"
            ],
            [
             0.6,
             "#e6f5d0"
            ],
            [
             0.7,
             "#b8e186"
            ],
            [
             0.8,
             "#7fbc41"
            ],
            [
             0.9,
             "#4d9221"
            ],
            [
             1,
             "#276419"
            ]
           ],
           "sequential": [
            [
             0,
             "#0d0887"
            ],
            [
             0.1111111111111111,
             "#46039f"
            ],
            [
             0.2222222222222222,
             "#7201a8"
            ],
            [
             0.3333333333333333,
             "#9c179e"
            ],
            [
             0.4444444444444444,
             "#bd3786"
            ],
            [
             0.5555555555555556,
             "#d8576b"
            ],
            [
             0.6666666666666666,
             "#ed7953"
            ],
            [
             0.7777777777777778,
             "#fb9f3a"
            ],
            [
             0.8888888888888888,
             "#fdca26"
            ],
            [
             1,
             "#f0f921"
            ]
           ],
           "sequentialminus": [
            [
             0,
             "#0d0887"
            ],
            [
             0.1111111111111111,
             "#46039f"
            ],
            [
             0.2222222222222222,
             "#7201a8"
            ],
            [
             0.3333333333333333,
             "#9c179e"
            ],
            [
             0.4444444444444444,
             "#bd3786"
            ],
            [
             0.5555555555555556,
             "#d8576b"
            ],
            [
             0.6666666666666666,
             "#ed7953"
            ],
            [
             0.7777777777777778,
             "#fb9f3a"
            ],
            [
             0.8888888888888888,
             "#fdca26"
            ],
            [
             1,
             "#f0f921"
            ]
           ]
          },
          "colorway": [
           "#636efa",
           "#EF553B",
           "#00cc96",
           "#ab63fa",
           "#FFA15A",
           "#19d3f3",
           "#FF6692",
           "#B6E880",
           "#FF97FF",
           "#FECB52"
          ],
          "font": {
           "color": "#2a3f5f"
          },
          "geo": {
           "bgcolor": "white",
           "lakecolor": "white",
           "landcolor": "#E5ECF6",
           "showlakes": true,
           "showland": true,
           "subunitcolor": "white"
          },
          "hoverlabel": {
           "align": "left"
          },
          "hovermode": "closest",
          "mapbox": {
           "style": "light"
          },
          "paper_bgcolor": "white",
          "plot_bgcolor": "#E5ECF6",
          "polar": {
           "angularaxis": {
            "gridcolor": "white",
            "linecolor": "white",
            "ticks": ""
           },
           "bgcolor": "#E5ECF6",
           "radialaxis": {
            "gridcolor": "white",
            "linecolor": "white",
            "ticks": ""
           }
          },
          "scene": {
           "xaxis": {
            "backgroundcolor": "#E5ECF6",
            "gridcolor": "white",
            "gridwidth": 2,
            "linecolor": "white",
            "showbackground": true,
            "ticks": "",
            "zerolinecolor": "white"
           },
           "yaxis": {
            "backgroundcolor": "#E5ECF6",
            "gridcolor": "white",
            "gridwidth": 2,
            "linecolor": "white",
            "showbackground": true,
            "ticks": "",
            "zerolinecolor": "white"
           },
           "zaxis": {
            "backgroundcolor": "#E5ECF6",
            "gridcolor": "white",
            "gridwidth": 2,
            "linecolor": "white",
            "showbackground": true,
            "ticks": "",
            "zerolinecolor": "white"
           }
          },
          "shapedefaults": {
           "line": {
            "color": "#2a3f5f"
           }
          },
          "ternary": {
           "aaxis": {
            "gridcolor": "white",
            "linecolor": "white",
            "ticks": ""
           },
           "baxis": {
            "gridcolor": "white",
            "linecolor": "white",
            "ticks": ""
           },
           "bgcolor": "#E5ECF6",
           "caxis": {
            "gridcolor": "white",
            "linecolor": "white",
            "ticks": ""
           }
          },
          "title": {
           "x": 0.05
          },
          "xaxis": {
           "automargin": true,
           "gridcolor": "white",
           "linecolor": "white",
           "ticks": "",
           "title": {
            "standoff": 15
           },
           "zerolinecolor": "white",
           "zerolinewidth": 2
          },
          "yaxis": {
           "automargin": true,
           "gridcolor": "white",
           "linecolor": "white",
           "ticks": "",
           "title": {
            "standoff": 15
           },
           "zerolinecolor": "white",
           "zerolinewidth": 2
          }
         }
        },
        "title": {
         "font": {
          "size": 25
         },
         "text": "Топ-15 стран с самым высоким ВВП в мире в 2020 году",
         "x": 0.5
        },
        "xaxis": {
         "anchor": "y",
         "domain": [
          0,
          1
         ],
         "title": {
          "text": "ВВП"
         }
        },
        "yaxis": {
         "anchor": "x",
         "categoryorder": "total ascending",
         "domain": [
          0,
          1
         ],
         "title": {
          "text": "Country"
         }
        }
       }
      },
      "text/html": [
       "<div>                            <div id=\"996e3169-8047-4540-b6ed-a7726abf10b3\" class=\"plotly-graph-div\" style=\"height:525px; width:100%;\"></div>            <script type=\"text/javascript\">                require([\"plotly\"], function(Plotly) {                    window.PLOTLYENV=window.PLOTLYENV || {};                                    if (document.getElementById(\"996e3169-8047-4540-b6ed-a7726abf10b3\")) {                    Plotly.newPlot(                        \"996e3169-8047-4540-b6ed-a7726abf10b3\",                        [{\"alignmentgroup\":\"True\",\"hovertemplate\":\"\\u0412\\u0412\\u041f=%{marker.color}<br>Country=%{y}<extra></extra>\",\"legendgroup\":\"\",\"marker\":{\"color\":[209530.3,147227.306978901,50577.589587066395,38464.1392865371,27598.0406183707,26602.4524886763,26303.1773145526,18887.0944368748,16454.234075683602,16378.958027928998,14834.977848676,14447.3325897165,13278.3617106851,12814.846400435801,10739.158808225],\"coloraxis\":\"coloraxis\",\"pattern\":{\"shape\":\"\"}},\"name\":\"\",\"offsetgroup\":\"\",\"orientation\":\"h\",\"showlegend\":false,\"textposition\":\"auto\",\"texttemplate\":\"%{x:.2s}\",\"x\":[209530.3,147227.306978901,50577.589587066395,38464.1392865371,27598.0406183707,26602.4524886763,26303.1773145526,18887.0944368748,16454.234075683602,16378.958027928998,14834.977848676,14447.3325897165,13278.3617106851,12814.846400435801,10739.158808225],\"xaxis\":\"x\",\"y\":[\"United States\",\"China\",\"Japan\",\"Germany\",\"United Kingdom\",\"India\",\"France\",\"Italy\",\"Canada\",\"Korea, Rep.\",\"Russian Federation\",\"Brazil\",\"Australia\",\"Spain\",\"Mexico\"],\"yaxis\":\"y\",\"type\":\"bar\"}],                        {\"template\":{\"data\":{\"histogram2dcontour\":[{\"type\":\"histogram2dcontour\",\"colorbar\":{\"outlinewidth\":0,\"ticks\":\"\"},\"colorscale\":[[0.0,\"#0d0887\"],[0.1111111111111111,\"#46039f\"],[0.2222222222222222,\"#7201a8\"],[0.3333333333333333,\"#9c179e\"],[0.4444444444444444,\"#bd3786\"],[0.5555555555555556,\"#d8576b\"],[0.6666666666666666,\"#ed7953\"],[0.7777777777777778,\"#fb9f3a\"],[0.8888888888888888,\"#fdca26\"],[1.0,\"#f0f921\"]]}],\"choropleth\":[{\"type\":\"choropleth\",\"colorbar\":{\"outlinewidth\":0,\"ticks\":\"\"}}],\"histogram2d\":[{\"type\":\"histogram2d\",\"colorbar\":{\"outlinewidth\":0,\"ticks\":\"\"},\"colorscale\":[[0.0,\"#0d0887\"],[0.1111111111111111,\"#46039f\"],[0.2222222222222222,\"#7201a8\"],[0.3333333333333333,\"#9c179e\"],[0.4444444444444444,\"#bd3786\"],[0.5555555555555556,\"#d8576b\"],[0.6666666666666666,\"#ed7953\"],[0.7777777777777778,\"#fb9f3a\"],[0.8888888888888888,\"#fdca26\"],[1.0,\"#f0f921\"]]}],\"heatmap\":[{\"type\":\"heatmap\",\"colorbar\":{\"outlinewidth\":0,\"ticks\":\"\"},\"colorscale\":[[0.0,\"#0d0887\"],[0.1111111111111111,\"#46039f\"],[0.2222222222222222,\"#7201a8\"],[0.3333333333333333,\"#9c179e\"],[0.4444444444444444,\"#bd3786\"],[0.5555555555555556,\"#d8576b\"],[0.6666666666666666,\"#ed7953\"],[0.7777777777777778,\"#fb9f3a\"],[0.8888888888888888,\"#fdca26\"],[1.0,\"#f0f921\"]]}],\"heatmapgl\":[{\"type\":\"heatmapgl\",\"colorbar\":{\"outlinewidth\":0,\"ticks\":\"\"},\"colorscale\":[[0.0,\"#0d0887\"],[0.1111111111111111,\"#46039f\"],[0.2222222222222222,\"#7201a8\"],[0.3333333333333333,\"#9c179e\"],[0.4444444444444444,\"#bd3786\"],[0.5555555555555556,\"#d8576b\"],[0.6666666666666666,\"#ed7953\"],[0.7777777777777778,\"#fb9f3a\"],[0.8888888888888888,\"#fdca26\"],[1.0,\"#f0f921\"]]}],\"contourcarpet\":[{\"type\":\"contourcarpet\",\"colorbar\":{\"outlinewidth\":0,\"ticks\":\"\"}}],\"contour\":[{\"type\":\"contour\",\"colorbar\":{\"outlinewidth\":0,\"ticks\":\"\"},\"colorscale\":[[0.0,\"#0d0887\"],[0.1111111111111111,\"#46039f\"],[0.2222222222222222,\"#7201a8\"],[0.3333333333333333,\"#9c179e\"],[0.4444444444444444,\"#bd3786\"],[0.5555555555555556,\"#d8576b\"],[0.6666666666666666,\"#ed7953\"],[0.7777777777777778,\"#fb9f3a\"],[0.8888888888888888,\"#fdca26\"],[1.0,\"#f0f921\"]]}],\"surface\":[{\"type\":\"surface\",\"colorbar\":{\"outlinewidth\":0,\"ticks\":\"\"},\"colorscale\":[[0.0,\"#0d0887\"],[0.1111111111111111,\"#46039f\"],[0.2222222222222222,\"#7201a8\"],[0.3333333333333333,\"#9c179e\"],[0.4444444444444444,\"#bd3786\"],[0.5555555555555556,\"#d8576b\"],[0.6666666666666666,\"#ed7953\"],[0.7777777777777778,\"#fb9f3a\"],[0.8888888888888888,\"#fdca26\"],[1.0,\"#f0f921\"]]}],\"mesh3d\":[{\"type\":\"mesh3d\",\"colorbar\":{\"outlinewidth\":0,\"ticks\":\"\"}}],\"scatter\":[{\"fillpattern\":{\"fillmode\":\"overlay\",\"size\":10,\"solidity\":0.2},\"type\":\"scatter\"}],\"parcoords\":[{\"type\":\"parcoords\",\"line\":{\"colorbar\":{\"outlinewidth\":0,\"ticks\":\"\"}}}],\"scatterpolargl\":[{\"type\":\"scatterpolargl\",\"marker\":{\"colorbar\":{\"outlinewidth\":0,\"ticks\":\"\"}}}],\"bar\":[{\"error_x\":{\"color\":\"#2a3f5f\"},\"error_y\":{\"color\":\"#2a3f5f\"},\"marker\":{\"line\":{\"color\":\"#E5ECF6\",\"width\":0.5},\"pattern\":{\"fillmode\":\"overlay\",\"size\":10,\"solidity\":0.2}},\"type\":\"bar\"}],\"scattergeo\":[{\"type\":\"scattergeo\",\"marker\":{\"colorbar\":{\"outlinewidth\":0,\"ticks\":\"\"}}}],\"scatterpolar\":[{\"type\":\"scatterpolar\",\"marker\":{\"colorbar\":{\"outlinewidth\":0,\"ticks\":\"\"}}}],\"histogram\":[{\"marker\":{\"pattern\":{\"fillmode\":\"overlay\",\"size\":10,\"solidity\":0.2}},\"type\":\"histogram\"}],\"scattergl\":[{\"type\":\"scattergl\",\"marker\":{\"colorbar\":{\"outlinewidth\":0,\"ticks\":\"\"}}}],\"scatter3d\":[{\"type\":\"scatter3d\",\"line\":{\"colorbar\":{\"outlinewidth\":0,\"ticks\":\"\"}},\"marker\":{\"colorbar\":{\"outlinewidth\":0,\"ticks\":\"\"}}}],\"scattermapbox\":[{\"type\":\"scattermapbox\",\"marker\":{\"colorbar\":{\"outlinewidth\":0,\"ticks\":\"\"}}}],\"scatterternary\":[{\"type\":\"scatterternary\",\"marker\":{\"colorbar\":{\"outlinewidth\":0,\"ticks\":\"\"}}}],\"scattercarpet\":[{\"type\":\"scattercarpet\",\"marker\":{\"colorbar\":{\"outlinewidth\":0,\"ticks\":\"\"}}}],\"carpet\":[{\"aaxis\":{\"endlinecolor\":\"#2a3f5f\",\"gridcolor\":\"white\",\"linecolor\":\"white\",\"minorgridcolor\":\"white\",\"startlinecolor\":\"#2a3f5f\"},\"baxis\":{\"endlinecolor\":\"#2a3f5f\",\"gridcolor\":\"white\",\"linecolor\":\"white\",\"minorgridcolor\":\"white\",\"startlinecolor\":\"#2a3f5f\"},\"type\":\"carpet\"}],\"table\":[{\"cells\":{\"fill\":{\"color\":\"#EBF0F8\"},\"line\":{\"color\":\"white\"}},\"header\":{\"fill\":{\"color\":\"#C8D4E3\"},\"line\":{\"color\":\"white\"}},\"type\":\"table\"}],\"barpolar\":[{\"marker\":{\"line\":{\"color\":\"#E5ECF6\",\"width\":0.5},\"pattern\":{\"fillmode\":\"overlay\",\"size\":10,\"solidity\":0.2}},\"type\":\"barpolar\"}],\"pie\":[{\"automargin\":true,\"type\":\"pie\"}]},\"layout\":{\"autotypenumbers\":\"strict\",\"colorway\":[\"#636efa\",\"#EF553B\",\"#00cc96\",\"#ab63fa\",\"#FFA15A\",\"#19d3f3\",\"#FF6692\",\"#B6E880\",\"#FF97FF\",\"#FECB52\"],\"font\":{\"color\":\"#2a3f5f\"},\"hovermode\":\"closest\",\"hoverlabel\":{\"align\":\"left\"},\"paper_bgcolor\":\"white\",\"plot_bgcolor\":\"#E5ECF6\",\"polar\":{\"bgcolor\":\"#E5ECF6\",\"angularaxis\":{\"gridcolor\":\"white\",\"linecolor\":\"white\",\"ticks\":\"\"},\"radialaxis\":{\"gridcolor\":\"white\",\"linecolor\":\"white\",\"ticks\":\"\"}},\"ternary\":{\"bgcolor\":\"#E5ECF6\",\"aaxis\":{\"gridcolor\":\"white\",\"linecolor\":\"white\",\"ticks\":\"\"},\"baxis\":{\"gridcolor\":\"white\",\"linecolor\":\"white\",\"ticks\":\"\"},\"caxis\":{\"gridcolor\":\"white\",\"linecolor\":\"white\",\"ticks\":\"\"}},\"coloraxis\":{\"colorbar\":{\"outlinewidth\":0,\"ticks\":\"\"}},\"colorscale\":{\"sequential\":[[0.0,\"#0d0887\"],[0.1111111111111111,\"#46039f\"],[0.2222222222222222,\"#7201a8\"],[0.3333333333333333,\"#9c179e\"],[0.4444444444444444,\"#bd3786\"],[0.5555555555555556,\"#d8576b\"],[0.6666666666666666,\"#ed7953\"],[0.7777777777777778,\"#fb9f3a\"],[0.8888888888888888,\"#fdca26\"],[1.0,\"#f0f921\"]],\"sequentialminus\":[[0.0,\"#0d0887\"],[0.1111111111111111,\"#46039f\"],[0.2222222222222222,\"#7201a8\"],[0.3333333333333333,\"#9c179e\"],[0.4444444444444444,\"#bd3786\"],[0.5555555555555556,\"#d8576b\"],[0.6666666666666666,\"#ed7953\"],[0.7777777777777778,\"#fb9f3a\"],[0.8888888888888888,\"#fdca26\"],[1.0,\"#f0f921\"]],\"diverging\":[[0,\"#8e0152\"],[0.1,\"#c51b7d\"],[0.2,\"#de77ae\"],[0.3,\"#f1b6da\"],[0.4,\"#fde0ef\"],[0.5,\"#f7f7f7\"],[0.6,\"#e6f5d0\"],[0.7,\"#b8e186\"],[0.8,\"#7fbc41\"],[0.9,\"#4d9221\"],[1,\"#276419\"]]},\"xaxis\":{\"gridcolor\":\"white\",\"linecolor\":\"white\",\"ticks\":\"\",\"title\":{\"standoff\":15},\"zerolinecolor\":\"white\",\"automargin\":true,\"zerolinewidth\":2},\"yaxis\":{\"gridcolor\":\"white\",\"linecolor\":\"white\",\"ticks\":\"\",\"title\":{\"standoff\":15},\"zerolinecolor\":\"white\",\"automargin\":true,\"zerolinewidth\":2},\"scene\":{\"xaxis\":{\"backgroundcolor\":\"#E5ECF6\",\"gridcolor\":\"white\",\"linecolor\":\"white\",\"showbackground\":true,\"ticks\":\"\",\"zerolinecolor\":\"white\",\"gridwidth\":2},\"yaxis\":{\"backgroundcolor\":\"#E5ECF6\",\"gridcolor\":\"white\",\"linecolor\":\"white\",\"showbackground\":true,\"ticks\":\"\",\"zerolinecolor\":\"white\",\"gridwidth\":2},\"zaxis\":{\"backgroundcolor\":\"#E5ECF6\",\"gridcolor\":\"white\",\"linecolor\":\"white\",\"showbackground\":true,\"ticks\":\"\",\"zerolinecolor\":\"white\",\"gridwidth\":2}},\"shapedefaults\":{\"line\":{\"color\":\"#2a3f5f\"}},\"annotationdefaults\":{\"arrowcolor\":\"#2a3f5f\",\"arrowhead\":0,\"arrowwidth\":1},\"geo\":{\"bgcolor\":\"white\",\"landcolor\":\"#E5ECF6\",\"subunitcolor\":\"white\",\"showland\":true,\"showlakes\":true,\"lakecolor\":\"white\"},\"title\":{\"x\":0.05},\"mapbox\":{\"style\":\"light\"}}},\"xaxis\":{\"anchor\":\"y\",\"domain\":[0.0,1.0],\"title\":{\"text\":\"\\u0412\\u0412\\u041f\"}},\"yaxis\":{\"anchor\":\"x\",\"domain\":[0.0,1.0],\"title\":{\"text\":\"Country\"},\"categoryorder\":\"total ascending\"},\"coloraxis\":{\"colorbar\":{\"title\":{\"text\":\"\\u0412\\u0412\\u041f\"}},\"colorscale\":[[0.0,\"#0d0887\"],[0.1111111111111111,\"#46039f\"],[0.2222222222222222,\"#7201a8\"],[0.3333333333333333,\"#9c179e\"],[0.4444444444444444,\"#bd3786\"],[0.5555555555555556,\"#d8576b\"],[0.6666666666666666,\"#ed7953\"],[0.7777777777777778,\"#fb9f3a\"],[0.8888888888888888,\"#fdca26\"],[1.0,\"#f0f921\"]]},\"legend\":{\"tracegroupgap\":0},\"title\":{\"text\":\"\\u0422\\u043e\\u043f-15 \\u0441\\u0442\\u0440\\u0430\\u043d \\u0441 \\u0441\\u0430\\u043c\\u044b\\u043c \\u0432\\u044b\\u0441\\u043e\\u043a\\u0438\\u043c \\u0412\\u0412\\u041f \\u0432 \\u043c\\u0438\\u0440\\u0435 \\u0432 2020 \\u0433\\u043e\\u0434\\u0443\",\"font\":{\"size\":25},\"x\":0.5},\"barmode\":\"relative\"},                        {\"responsive\": true}                    ).then(function(){\n",
       "                            \n",
       "var gd = document.getElementById('996e3169-8047-4540-b6ed-a7726abf10b3');\n",
       "var x = new MutationObserver(function (mutations, observer) {{\n",
       "        var display = window.getComputedStyle(gd).display;\n",
       "        if (!display || display === 'none') {{\n",
       "            console.log([gd, 'removed!']);\n",
       "            Plotly.purge(gd);\n",
       "            observer.disconnect();\n",
       "        }}\n",
       "}});\n",
       "\n",
       "// Listen for the removal of the full notebook cells\n",
       "var notebookContainer = gd.closest('#notebook-container');\n",
       "if (notebookContainer) {{\n",
       "    x.observe(notebookContainer, {childList: true});\n",
       "}}\n",
       "\n",
       "// Listen for the clearing of the current output cell\n",
       "var outputEl = gd.closest('.output');\n",
       "if (outputEl) {{\n",
       "    x.observe(outputEl, {childList: true});\n",
       "}}\n",
       "\n",
       "                        })                };                });            </script>        </div>"
      ]
     },
     "metadata": {},
     "output_type": "display_data"
    }
   ],
   "source": [
    "#нарисуйте диаграмму 15 стран с самым большим значением ВВП в мире\n",
    "top_15_highest=df.sort_values('ВВП', ascending=False)[['ВВП']].head(15)\n",
    "fig3=px.bar(top_15_highest,\n",
    "            y=top_15_highest.index, \n",
    "            x='ВВП', color='ВВП',\n",
    "            text_auto='.2s',\n",
    "            orientation='h',\n",
    "            \n",
    "       title=\"Топ-15 стран с самым высоким ВВП в мире в 2020 году\")\n",
    "fig3.update_layout(title_x=0.5,title_font_size=25,yaxis={'categoryorder':'total ascending'})\n",
    "fig3.show()"
   ]
  },
  {
   "cell_type": "code",
   "execution_count": 14,
   "id": "6c5635ab",
   "metadata": {},
   "outputs": [
    {
     "data": {
      "text/html": [
       "<div>\n",
       "<style scoped>\n",
       "    .dataframe tbody tr th:only-of-type {\n",
       "        vertical-align: middle;\n",
       "    }\n",
       "\n",
       "    .dataframe tbody tr th {\n",
       "        vertical-align: top;\n",
       "    }\n",
       "\n",
       "    .dataframe thead th {\n",
       "        text-align: right;\n",
       "    }\n",
       "</style>\n",
       "<table border=\"1\" class=\"dataframe\">\n",
       "  <thead>\n",
       "    <tr style=\"text-align: right;\">\n",
       "      <th></th>\n",
       "      <th>ВВП</th>\n",
       "    </tr>\n",
       "    <tr>\n",
       "      <th>Country</th>\n",
       "      <th></th>\n",
       "    </tr>\n",
       "  </thead>\n",
       "  <tbody>\n",
       "    <tr>\n",
       "      <th>United States</th>\n",
       "      <td>209530.300000</td>\n",
       "    </tr>\n",
       "    <tr>\n",
       "      <th>China</th>\n",
       "      <td>147227.306979</td>\n",
       "    </tr>\n",
       "    <tr>\n",
       "      <th>Japan</th>\n",
       "      <td>50577.589587</td>\n",
       "    </tr>\n",
       "    <tr>\n",
       "      <th>Germany</th>\n",
       "      <td>38464.139287</td>\n",
       "    </tr>\n",
       "    <tr>\n",
       "      <th>United Kingdom</th>\n",
       "      <td>27598.040618</td>\n",
       "    </tr>\n",
       "    <tr>\n",
       "      <th>India</th>\n",
       "      <td>26602.452489</td>\n",
       "    </tr>\n",
       "    <tr>\n",
       "      <th>France</th>\n",
       "      <td>26303.177315</td>\n",
       "    </tr>\n",
       "    <tr>\n",
       "      <th>Italy</th>\n",
       "      <td>18887.094437</td>\n",
       "    </tr>\n",
       "    <tr>\n",
       "      <th>Canada</th>\n",
       "      <td>16454.234076</td>\n",
       "    </tr>\n",
       "    <tr>\n",
       "      <th>Korea, Rep.</th>\n",
       "      <td>16378.958028</td>\n",
       "    </tr>\n",
       "    <tr>\n",
       "      <th>Russian Federation</th>\n",
       "      <td>14834.977849</td>\n",
       "    </tr>\n",
       "    <tr>\n",
       "      <th>Brazil</th>\n",
       "      <td>14447.332590</td>\n",
       "    </tr>\n",
       "    <tr>\n",
       "      <th>Australia</th>\n",
       "      <td>13278.361711</td>\n",
       "    </tr>\n",
       "    <tr>\n",
       "      <th>Spain</th>\n",
       "      <td>12814.846400</td>\n",
       "    </tr>\n",
       "    <tr>\n",
       "      <th>Mexico</th>\n",
       "      <td>10739.158808</td>\n",
       "    </tr>\n",
       "  </tbody>\n",
       "</table>\n",
       "</div>"
      ],
      "text/plain": [
       "                              ВВП\n",
       "Country                          \n",
       "United States       209530.300000\n",
       "China               147227.306979\n",
       "Japan                50577.589587\n",
       "Germany              38464.139287\n",
       "United Kingdom       27598.040618\n",
       "India                26602.452489\n",
       "France               26303.177315\n",
       "Italy                18887.094437\n",
       "Canada               16454.234076\n",
       "Korea, Rep.          16378.958028\n",
       "Russian Federation   14834.977849\n",
       "Brazil               14447.332590\n",
       "Australia            13278.361711\n",
       "Spain                12814.846400\n",
       "Mexico               10739.158808"
      ]
     },
     "execution_count": 14,
     "metadata": {},
     "output_type": "execute_result"
    }
   ],
   "source": [
    "top_15_highest"
   ]
  },
  {
   "cell_type": "markdown",
   "id": "6f6652f1",
   "metadata": {},
   "source": [
    "### 4- Топ-15 стран с самым низким ВВП в мире в 2020 году (Top 15 countries with the lowest GDP)"
   ]
  },
  {
   "cell_type": "code",
   "execution_count": 15,
   "id": "6da51d4a",
   "metadata": {
    "scrolled": false
   },
   "outputs": [
    {
     "data": {
      "application/vnd.plotly.v1+json": {
       "config": {
        "plotlyServerURL": "https://plotly.com"
       },
       "data": [
        {
         "alignmentgroup": "True",
         "hovertemplate": "ВВП=%{marker.color}<br>Country=%{y}<extra></extra>",
         "legendgroup": "",
         "marker": {
          "color": [
           75.7463697866173,
           47.6986074074074,
           45.3388378227458,
           40.632894495879505,
           39.7272894847088,
           37.4276996742798,
           28.4178638219063,
           23.800877580413697,
           23.154373380880898,
           19.021568,
           18.68086274822,
           17.0369867669742,
           16.3628079708056,
           14.317582429037499,
           4.8882996407081905
          ],
          "coloraxis": "coloraxis",
          "pattern": {
           "shape": ""
          }
         },
         "name": "",
         "offsetgroup": "",
         "orientation": "h",
         "showlegend": false,
         "textposition": "auto",
         "texttemplate": "%{x:.2s}",
         "type": "bar",
         "x": [
          75.7463697866173,
          47.6986074074074,
          45.3388378227458,
          40.632894495879505,
          39.7272894847088,
          37.4276996742798,
          28.4178638219063,
          23.800877580413697,
          23.154373380880898,
          19.021568,
          18.68086274822,
          17.0369867669742,
          16.3628079708056,
          14.317582429037499,
          4.8882996407081905
         ],
         "xaxis": "x",
         "y": [
          "Togo",
          "Montenegro",
          "Fiji",
          "Sierra Leone",
          "Eswatini",
          "Maldives",
          "Burundi",
          "Central African Republic",
          "Bhutan",
          "Timor-Leste",
          "Gambia, The",
          "Cabo Verde",
          "Belize",
          "Guinea-Bissau",
          "Tonga"
         ],
         "yaxis": "y"
        }
       ],
       "layout": {
        "barmode": "relative",
        "coloraxis": {
         "colorbar": {
          "title": {
           "text": "ВВП"
          }
         },
         "colorscale": [
          [
           0,
           "#0d0887"
          ],
          [
           0.1111111111111111,
           "#46039f"
          ],
          [
           0.2222222222222222,
           "#7201a8"
          ],
          [
           0.3333333333333333,
           "#9c179e"
          ],
          [
           0.4444444444444444,
           "#bd3786"
          ],
          [
           0.5555555555555556,
           "#d8576b"
          ],
          [
           0.6666666666666666,
           "#ed7953"
          ],
          [
           0.7777777777777778,
           "#fb9f3a"
          ],
          [
           0.8888888888888888,
           "#fdca26"
          ],
          [
           1,
           "#f0f921"
          ]
         ]
        },
        "legend": {
         "tracegroupgap": 0
        },
        "template": {
         "data": {
          "bar": [
           {
            "error_x": {
             "color": "#2a3f5f"
            },
            "error_y": {
             "color": "#2a3f5f"
            },
            "marker": {
             "line": {
              "color": "#E5ECF6",
              "width": 0.5
             },
             "pattern": {
              "fillmode": "overlay",
              "size": 10,
              "solidity": 0.2
             }
            },
            "type": "bar"
           }
          ],
          "barpolar": [
           {
            "marker": {
             "line": {
              "color": "#E5ECF6",
              "width": 0.5
             },
             "pattern": {
              "fillmode": "overlay",
              "size": 10,
              "solidity": 0.2
             }
            },
            "type": "barpolar"
           }
          ],
          "carpet": [
           {
            "aaxis": {
             "endlinecolor": "#2a3f5f",
             "gridcolor": "white",
             "linecolor": "white",
             "minorgridcolor": "white",
             "startlinecolor": "#2a3f5f"
            },
            "baxis": {
             "endlinecolor": "#2a3f5f",
             "gridcolor": "white",
             "linecolor": "white",
             "minorgridcolor": "white",
             "startlinecolor": "#2a3f5f"
            },
            "type": "carpet"
           }
          ],
          "choropleth": [
           {
            "colorbar": {
             "outlinewidth": 0,
             "ticks": ""
            },
            "type": "choropleth"
           }
          ],
          "contour": [
           {
            "colorbar": {
             "outlinewidth": 0,
             "ticks": ""
            },
            "colorscale": [
             [
              0,
              "#0d0887"
             ],
             [
              0.1111111111111111,
              "#46039f"
             ],
             [
              0.2222222222222222,
              "#7201a8"
             ],
             [
              0.3333333333333333,
              "#9c179e"
             ],
             [
              0.4444444444444444,
              "#bd3786"
             ],
             [
              0.5555555555555556,
              "#d8576b"
             ],
             [
              0.6666666666666666,
              "#ed7953"
             ],
             [
              0.7777777777777778,
              "#fb9f3a"
             ],
             [
              0.8888888888888888,
              "#fdca26"
             ],
             [
              1,
              "#f0f921"
             ]
            ],
            "type": "contour"
           }
          ],
          "contourcarpet": [
           {
            "colorbar": {
             "outlinewidth": 0,
             "ticks": ""
            },
            "type": "contourcarpet"
           }
          ],
          "heatmap": [
           {
            "colorbar": {
             "outlinewidth": 0,
             "ticks": ""
            },
            "colorscale": [
             [
              0,
              "#0d0887"
             ],
             [
              0.1111111111111111,
              "#46039f"
             ],
             [
              0.2222222222222222,
              "#7201a8"
             ],
             [
              0.3333333333333333,
              "#9c179e"
             ],
             [
              0.4444444444444444,
              "#bd3786"
             ],
             [
              0.5555555555555556,
              "#d8576b"
             ],
             [
              0.6666666666666666,
              "#ed7953"
             ],
             [
              0.7777777777777778,
              "#fb9f3a"
             ],
             [
              0.8888888888888888,
              "#fdca26"
             ],
             [
              1,
              "#f0f921"
             ]
            ],
            "type": "heatmap"
           }
          ],
          "heatmapgl": [
           {
            "colorbar": {
             "outlinewidth": 0,
             "ticks": ""
            },
            "colorscale": [
             [
              0,
              "#0d0887"
             ],
             [
              0.1111111111111111,
              "#46039f"
             ],
             [
              0.2222222222222222,
              "#7201a8"
             ],
             [
              0.3333333333333333,
              "#9c179e"
             ],
             [
              0.4444444444444444,
              "#bd3786"
             ],
             [
              0.5555555555555556,
              "#d8576b"
             ],
             [
              0.6666666666666666,
              "#ed7953"
             ],
             [
              0.7777777777777778,
              "#fb9f3a"
             ],
             [
              0.8888888888888888,
              "#fdca26"
             ],
             [
              1,
              "#f0f921"
             ]
            ],
            "type": "heatmapgl"
           }
          ],
          "histogram": [
           {
            "marker": {
             "pattern": {
              "fillmode": "overlay",
              "size": 10,
              "solidity": 0.2
             }
            },
            "type": "histogram"
           }
          ],
          "histogram2d": [
           {
            "colorbar": {
             "outlinewidth": 0,
             "ticks": ""
            },
            "colorscale": [
             [
              0,
              "#0d0887"
             ],
             [
              0.1111111111111111,
              "#46039f"
             ],
             [
              0.2222222222222222,
              "#7201a8"
             ],
             [
              0.3333333333333333,
              "#9c179e"
             ],
             [
              0.4444444444444444,
              "#bd3786"
             ],
             [
              0.5555555555555556,
              "#d8576b"
             ],
             [
              0.6666666666666666,
              "#ed7953"
             ],
             [
              0.7777777777777778,
              "#fb9f3a"
             ],
             [
              0.8888888888888888,
              "#fdca26"
             ],
             [
              1,
              "#f0f921"
             ]
            ],
            "type": "histogram2d"
           }
          ],
          "histogram2dcontour": [
           {
            "colorbar": {
             "outlinewidth": 0,
             "ticks": ""
            },
            "colorscale": [
             [
              0,
              "#0d0887"
             ],
             [
              0.1111111111111111,
              "#46039f"
             ],
             [
              0.2222222222222222,
              "#7201a8"
             ],
             [
              0.3333333333333333,
              "#9c179e"
             ],
             [
              0.4444444444444444,
              "#bd3786"
             ],
             [
              0.5555555555555556,
              "#d8576b"
             ],
             [
              0.6666666666666666,
              "#ed7953"
             ],
             [
              0.7777777777777778,
              "#fb9f3a"
             ],
             [
              0.8888888888888888,
              "#fdca26"
             ],
             [
              1,
              "#f0f921"
             ]
            ],
            "type": "histogram2dcontour"
           }
          ],
          "mesh3d": [
           {
            "colorbar": {
             "outlinewidth": 0,
             "ticks": ""
            },
            "type": "mesh3d"
           }
          ],
          "parcoords": [
           {
            "line": {
             "colorbar": {
              "outlinewidth": 0,
              "ticks": ""
             }
            },
            "type": "parcoords"
           }
          ],
          "pie": [
           {
            "automargin": true,
            "type": "pie"
           }
          ],
          "scatter": [
           {
            "fillpattern": {
             "fillmode": "overlay",
             "size": 10,
             "solidity": 0.2
            },
            "type": "scatter"
           }
          ],
          "scatter3d": [
           {
            "line": {
             "colorbar": {
              "outlinewidth": 0,
              "ticks": ""
             }
            },
            "marker": {
             "colorbar": {
              "outlinewidth": 0,
              "ticks": ""
             }
            },
            "type": "scatter3d"
           }
          ],
          "scattercarpet": [
           {
            "marker": {
             "colorbar": {
              "outlinewidth": 0,
              "ticks": ""
             }
            },
            "type": "scattercarpet"
           }
          ],
          "scattergeo": [
           {
            "marker": {
             "colorbar": {
              "outlinewidth": 0,
              "ticks": ""
             }
            },
            "type": "scattergeo"
           }
          ],
          "scattergl": [
           {
            "marker": {
             "colorbar": {
              "outlinewidth": 0,
              "ticks": ""
             }
            },
            "type": "scattergl"
           }
          ],
          "scattermapbox": [
           {
            "marker": {
             "colorbar": {
              "outlinewidth": 0,
              "ticks": ""
             }
            },
            "type": "scattermapbox"
           }
          ],
          "scatterpolar": [
           {
            "marker": {
             "colorbar": {
              "outlinewidth": 0,
              "ticks": ""
             }
            },
            "type": "scatterpolar"
           }
          ],
          "scatterpolargl": [
           {
            "marker": {
             "colorbar": {
              "outlinewidth": 0,
              "ticks": ""
             }
            },
            "type": "scatterpolargl"
           }
          ],
          "scatterternary": [
           {
            "marker": {
             "colorbar": {
              "outlinewidth": 0,
              "ticks": ""
             }
            },
            "type": "scatterternary"
           }
          ],
          "surface": [
           {
            "colorbar": {
             "outlinewidth": 0,
             "ticks": ""
            },
            "colorscale": [
             [
              0,
              "#0d0887"
             ],
             [
              0.1111111111111111,
              "#46039f"
             ],
             [
              0.2222222222222222,
              "#7201a8"
             ],
             [
              0.3333333333333333,
              "#9c179e"
             ],
             [
              0.4444444444444444,
              "#bd3786"
             ],
             [
              0.5555555555555556,
              "#d8576b"
             ],
             [
              0.6666666666666666,
              "#ed7953"
             ],
             [
              0.7777777777777778,
              "#fb9f3a"
             ],
             [
              0.8888888888888888,
              "#fdca26"
             ],
             [
              1,
              "#f0f921"
             ]
            ],
            "type": "surface"
           }
          ],
          "table": [
           {
            "cells": {
             "fill": {
              "color": "#EBF0F8"
             },
             "line": {
              "color": "white"
             }
            },
            "header": {
             "fill": {
              "color": "#C8D4E3"
             },
             "line": {
              "color": "white"
             }
            },
            "type": "table"
           }
          ]
         },
         "layout": {
          "annotationdefaults": {
           "arrowcolor": "#2a3f5f",
           "arrowhead": 0,
           "arrowwidth": 1
          },
          "autotypenumbers": "strict",
          "coloraxis": {
           "colorbar": {
            "outlinewidth": 0,
            "ticks": ""
           }
          },
          "colorscale": {
           "diverging": [
            [
             0,
             "#8e0152"
            ],
            [
             0.1,
             "#c51b7d"
            ],
            [
             0.2,
             "#de77ae"
            ],
            [
             0.3,
             "#f1b6da"
            ],
            [
             0.4,
             "#fde0ef"
            ],
            [
             0.5,
             "#f7f7f7"
            ],
            [
             0.6,
             "#e6f5d0"
            ],
            [
             0.7,
             "#b8e186"
            ],
            [
             0.8,
             "#7fbc41"
            ],
            [
             0.9,
             "#4d9221"
            ],
            [
             1,
             "#276419"
            ]
           ],
           "sequential": [
            [
             0,
             "#0d0887"
            ],
            [
             0.1111111111111111,
             "#46039f"
            ],
            [
             0.2222222222222222,
             "#7201a8"
            ],
            [
             0.3333333333333333,
             "#9c179e"
            ],
            [
             0.4444444444444444,
             "#bd3786"
            ],
            [
             0.5555555555555556,
             "#d8576b"
            ],
            [
             0.6666666666666666,
             "#ed7953"
            ],
            [
             0.7777777777777778,
             "#fb9f3a"
            ],
            [
             0.8888888888888888,
             "#fdca26"
            ],
            [
             1,
             "#f0f921"
            ]
           ],
           "sequentialminus": [
            [
             0,
             "#0d0887"
            ],
            [
             0.1111111111111111,
             "#46039f"
            ],
            [
             0.2222222222222222,
             "#7201a8"
            ],
            [
             0.3333333333333333,
             "#9c179e"
            ],
            [
             0.4444444444444444,
             "#bd3786"
            ],
            [
             0.5555555555555556,
             "#d8576b"
            ],
            [
             0.6666666666666666,
             "#ed7953"
            ],
            [
             0.7777777777777778,
             "#fb9f3a"
            ],
            [
             0.8888888888888888,
             "#fdca26"
            ],
            [
             1,
             "#f0f921"
            ]
           ]
          },
          "colorway": [
           "#636efa",
           "#EF553B",
           "#00cc96",
           "#ab63fa",
           "#FFA15A",
           "#19d3f3",
           "#FF6692",
           "#B6E880",
           "#FF97FF",
           "#FECB52"
          ],
          "font": {
           "color": "#2a3f5f"
          },
          "geo": {
           "bgcolor": "white",
           "lakecolor": "white",
           "landcolor": "#E5ECF6",
           "showlakes": true,
           "showland": true,
           "subunitcolor": "white"
          },
          "hoverlabel": {
           "align": "left"
          },
          "hovermode": "closest",
          "mapbox": {
           "style": "light"
          },
          "paper_bgcolor": "white",
          "plot_bgcolor": "#E5ECF6",
          "polar": {
           "angularaxis": {
            "gridcolor": "white",
            "linecolor": "white",
            "ticks": ""
           },
           "bgcolor": "#E5ECF6",
           "radialaxis": {
            "gridcolor": "white",
            "linecolor": "white",
            "ticks": ""
           }
          },
          "scene": {
           "xaxis": {
            "backgroundcolor": "#E5ECF6",
            "gridcolor": "white",
            "gridwidth": 2,
            "linecolor": "white",
            "showbackground": true,
            "ticks": "",
            "zerolinecolor": "white"
           },
           "yaxis": {
            "backgroundcolor": "#E5ECF6",
            "gridcolor": "white",
            "gridwidth": 2,
            "linecolor": "white",
            "showbackground": true,
            "ticks": "",
            "zerolinecolor": "white"
           },
           "zaxis": {
            "backgroundcolor": "#E5ECF6",
            "gridcolor": "white",
            "gridwidth": 2,
            "linecolor": "white",
            "showbackground": true,
            "ticks": "",
            "zerolinecolor": "white"
           }
          },
          "shapedefaults": {
           "line": {
            "color": "#2a3f5f"
           }
          },
          "ternary": {
           "aaxis": {
            "gridcolor": "white",
            "linecolor": "white",
            "ticks": ""
           },
           "baxis": {
            "gridcolor": "white",
            "linecolor": "white",
            "ticks": ""
           },
           "bgcolor": "#E5ECF6",
           "caxis": {
            "gridcolor": "white",
            "linecolor": "white",
            "ticks": ""
           }
          },
          "title": {
           "x": 0.05
          },
          "xaxis": {
           "automargin": true,
           "gridcolor": "white",
           "linecolor": "white",
           "ticks": "",
           "title": {
            "standoff": 15
           },
           "zerolinecolor": "white",
           "zerolinewidth": 2
          },
          "yaxis": {
           "automargin": true,
           "gridcolor": "white",
           "linecolor": "white",
           "ticks": "",
           "title": {
            "standoff": 15
           },
           "zerolinecolor": "white",
           "zerolinewidth": 2
          }
         }
        },
        "title": {
         "font": {
          "size": 25
         },
         "text": "Топ-15 стран с самым низким ВВП в мире в 2020 году",
         "x": 0.5
        },
        "xaxis": {
         "anchor": "y",
         "domain": [
          0,
          1
         ],
         "title": {
          "text": "ВВП"
         }
        },
        "yaxis": {
         "anchor": "x",
         "domain": [
          0,
          1
         ],
         "title": {
          "text": "Country"
         }
        }
       }
      },
      "text/html": [
       "<div>                            <div id=\"d13e1ccd-f7da-4139-be30-037acff11188\" class=\"plotly-graph-div\" style=\"height:525px; width:100%;\"></div>            <script type=\"text/javascript\">                require([\"plotly\"], function(Plotly) {                    window.PLOTLYENV=window.PLOTLYENV || {};                                    if (document.getElementById(\"d13e1ccd-f7da-4139-be30-037acff11188\")) {                    Plotly.newPlot(                        \"d13e1ccd-f7da-4139-be30-037acff11188\",                        [{\"alignmentgroup\":\"True\",\"hovertemplate\":\"\\u0412\\u0412\\u041f=%{marker.color}<br>Country=%{y}<extra></extra>\",\"legendgroup\":\"\",\"marker\":{\"color\":[75.7463697866173,47.6986074074074,45.3388378227458,40.632894495879505,39.7272894847088,37.4276996742798,28.4178638219063,23.800877580413697,23.154373380880898,19.021568,18.68086274822,17.0369867669742,16.3628079708056,14.317582429037499,4.8882996407081905],\"coloraxis\":\"coloraxis\",\"pattern\":{\"shape\":\"\"}},\"name\":\"\",\"offsetgroup\":\"\",\"orientation\":\"h\",\"showlegend\":false,\"textposition\":\"auto\",\"texttemplate\":\"%{x:.2s}\",\"x\":[75.7463697866173,47.6986074074074,45.3388378227458,40.632894495879505,39.7272894847088,37.4276996742798,28.4178638219063,23.800877580413697,23.154373380880898,19.021568,18.68086274822,17.0369867669742,16.3628079708056,14.317582429037499,4.8882996407081905],\"xaxis\":\"x\",\"y\":[\"Togo\",\"Montenegro\",\"Fiji\",\"Sierra Leone\",\"Eswatini\",\"Maldives\",\"Burundi\",\"Central African Republic\",\"Bhutan\",\"Timor-Leste\",\"Gambia, The\",\"Cabo Verde\",\"Belize\",\"Guinea-Bissau\",\"Tonga\"],\"yaxis\":\"y\",\"type\":\"bar\"}],                        {\"template\":{\"data\":{\"histogram2dcontour\":[{\"type\":\"histogram2dcontour\",\"colorbar\":{\"outlinewidth\":0,\"ticks\":\"\"},\"colorscale\":[[0.0,\"#0d0887\"],[0.1111111111111111,\"#46039f\"],[0.2222222222222222,\"#7201a8\"],[0.3333333333333333,\"#9c179e\"],[0.4444444444444444,\"#bd3786\"],[0.5555555555555556,\"#d8576b\"],[0.6666666666666666,\"#ed7953\"],[0.7777777777777778,\"#fb9f3a\"],[0.8888888888888888,\"#fdca26\"],[1.0,\"#f0f921\"]]}],\"choropleth\":[{\"type\":\"choropleth\",\"colorbar\":{\"outlinewidth\":0,\"ticks\":\"\"}}],\"histogram2d\":[{\"type\":\"histogram2d\",\"colorbar\":{\"outlinewidth\":0,\"ticks\":\"\"},\"colorscale\":[[0.0,\"#0d0887\"],[0.1111111111111111,\"#46039f\"],[0.2222222222222222,\"#7201a8\"],[0.3333333333333333,\"#9c179e\"],[0.4444444444444444,\"#bd3786\"],[0.5555555555555556,\"#d8576b\"],[0.6666666666666666,\"#ed7953\"],[0.7777777777777778,\"#fb9f3a\"],[0.8888888888888888,\"#fdca26\"],[1.0,\"#f0f921\"]]}],\"heatmap\":[{\"type\":\"heatmap\",\"colorbar\":{\"outlinewidth\":0,\"ticks\":\"\"},\"colorscale\":[[0.0,\"#0d0887\"],[0.1111111111111111,\"#46039f\"],[0.2222222222222222,\"#7201a8\"],[0.3333333333333333,\"#9c179e\"],[0.4444444444444444,\"#bd3786\"],[0.5555555555555556,\"#d8576b\"],[0.6666666666666666,\"#ed7953\"],[0.7777777777777778,\"#fb9f3a\"],[0.8888888888888888,\"#fdca26\"],[1.0,\"#f0f921\"]]}],\"heatmapgl\":[{\"type\":\"heatmapgl\",\"colorbar\":{\"outlinewidth\":0,\"ticks\":\"\"},\"colorscale\":[[0.0,\"#0d0887\"],[0.1111111111111111,\"#46039f\"],[0.2222222222222222,\"#7201a8\"],[0.3333333333333333,\"#9c179e\"],[0.4444444444444444,\"#bd3786\"],[0.5555555555555556,\"#d8576b\"],[0.6666666666666666,\"#ed7953\"],[0.7777777777777778,\"#fb9f3a\"],[0.8888888888888888,\"#fdca26\"],[1.0,\"#f0f921\"]]}],\"contourcarpet\":[{\"type\":\"contourcarpet\",\"colorbar\":{\"outlinewidth\":0,\"ticks\":\"\"}}],\"contour\":[{\"type\":\"contour\",\"colorbar\":{\"outlinewidth\":0,\"ticks\":\"\"},\"colorscale\":[[0.0,\"#0d0887\"],[0.1111111111111111,\"#46039f\"],[0.2222222222222222,\"#7201a8\"],[0.3333333333333333,\"#9c179e\"],[0.4444444444444444,\"#bd3786\"],[0.5555555555555556,\"#d8576b\"],[0.6666666666666666,\"#ed7953\"],[0.7777777777777778,\"#fb9f3a\"],[0.8888888888888888,\"#fdca26\"],[1.0,\"#f0f921\"]]}],\"surface\":[{\"type\":\"surface\",\"colorbar\":{\"outlinewidth\":0,\"ticks\":\"\"},\"colorscale\":[[0.0,\"#0d0887\"],[0.1111111111111111,\"#46039f\"],[0.2222222222222222,\"#7201a8\"],[0.3333333333333333,\"#9c179e\"],[0.4444444444444444,\"#bd3786\"],[0.5555555555555556,\"#d8576b\"],[0.6666666666666666,\"#ed7953\"],[0.7777777777777778,\"#fb9f3a\"],[0.8888888888888888,\"#fdca26\"],[1.0,\"#f0f921\"]]}],\"mesh3d\":[{\"type\":\"mesh3d\",\"colorbar\":{\"outlinewidth\":0,\"ticks\":\"\"}}],\"scatter\":[{\"fillpattern\":{\"fillmode\":\"overlay\",\"size\":10,\"solidity\":0.2},\"type\":\"scatter\"}],\"parcoords\":[{\"type\":\"parcoords\",\"line\":{\"colorbar\":{\"outlinewidth\":0,\"ticks\":\"\"}}}],\"scatterpolargl\":[{\"type\":\"scatterpolargl\",\"marker\":{\"colorbar\":{\"outlinewidth\":0,\"ticks\":\"\"}}}],\"bar\":[{\"error_x\":{\"color\":\"#2a3f5f\"},\"error_y\":{\"color\":\"#2a3f5f\"},\"marker\":{\"line\":{\"color\":\"#E5ECF6\",\"width\":0.5},\"pattern\":{\"fillmode\":\"overlay\",\"size\":10,\"solidity\":0.2}},\"type\":\"bar\"}],\"scattergeo\":[{\"type\":\"scattergeo\",\"marker\":{\"colorbar\":{\"outlinewidth\":0,\"ticks\":\"\"}}}],\"scatterpolar\":[{\"type\":\"scatterpolar\",\"marker\":{\"colorbar\":{\"outlinewidth\":0,\"ticks\":\"\"}}}],\"histogram\":[{\"marker\":{\"pattern\":{\"fillmode\":\"overlay\",\"size\":10,\"solidity\":0.2}},\"type\":\"histogram\"}],\"scattergl\":[{\"type\":\"scattergl\",\"marker\":{\"colorbar\":{\"outlinewidth\":0,\"ticks\":\"\"}}}],\"scatter3d\":[{\"type\":\"scatter3d\",\"line\":{\"colorbar\":{\"outlinewidth\":0,\"ticks\":\"\"}},\"marker\":{\"colorbar\":{\"outlinewidth\":0,\"ticks\":\"\"}}}],\"scattermapbox\":[{\"type\":\"scattermapbox\",\"marker\":{\"colorbar\":{\"outlinewidth\":0,\"ticks\":\"\"}}}],\"scatterternary\":[{\"type\":\"scatterternary\",\"marker\":{\"colorbar\":{\"outlinewidth\":0,\"ticks\":\"\"}}}],\"scattercarpet\":[{\"type\":\"scattercarpet\",\"marker\":{\"colorbar\":{\"outlinewidth\":0,\"ticks\":\"\"}}}],\"carpet\":[{\"aaxis\":{\"endlinecolor\":\"#2a3f5f\",\"gridcolor\":\"white\",\"linecolor\":\"white\",\"minorgridcolor\":\"white\",\"startlinecolor\":\"#2a3f5f\"},\"baxis\":{\"endlinecolor\":\"#2a3f5f\",\"gridcolor\":\"white\",\"linecolor\":\"white\",\"minorgridcolor\":\"white\",\"startlinecolor\":\"#2a3f5f\"},\"type\":\"carpet\"}],\"table\":[{\"cells\":{\"fill\":{\"color\":\"#EBF0F8\"},\"line\":{\"color\":\"white\"}},\"header\":{\"fill\":{\"color\":\"#C8D4E3\"},\"line\":{\"color\":\"white\"}},\"type\":\"table\"}],\"barpolar\":[{\"marker\":{\"line\":{\"color\":\"#E5ECF6\",\"width\":0.5},\"pattern\":{\"fillmode\":\"overlay\",\"size\":10,\"solidity\":0.2}},\"type\":\"barpolar\"}],\"pie\":[{\"automargin\":true,\"type\":\"pie\"}]},\"layout\":{\"autotypenumbers\":\"strict\",\"colorway\":[\"#636efa\",\"#EF553B\",\"#00cc96\",\"#ab63fa\",\"#FFA15A\",\"#19d3f3\",\"#FF6692\",\"#B6E880\",\"#FF97FF\",\"#FECB52\"],\"font\":{\"color\":\"#2a3f5f\"},\"hovermode\":\"closest\",\"hoverlabel\":{\"align\":\"left\"},\"paper_bgcolor\":\"white\",\"plot_bgcolor\":\"#E5ECF6\",\"polar\":{\"bgcolor\":\"#E5ECF6\",\"angularaxis\":{\"gridcolor\":\"white\",\"linecolor\":\"white\",\"ticks\":\"\"},\"radialaxis\":{\"gridcolor\":\"white\",\"linecolor\":\"white\",\"ticks\":\"\"}},\"ternary\":{\"bgcolor\":\"#E5ECF6\",\"aaxis\":{\"gridcolor\":\"white\",\"linecolor\":\"white\",\"ticks\":\"\"},\"baxis\":{\"gridcolor\":\"white\",\"linecolor\":\"white\",\"ticks\":\"\"},\"caxis\":{\"gridcolor\":\"white\",\"linecolor\":\"white\",\"ticks\":\"\"}},\"coloraxis\":{\"colorbar\":{\"outlinewidth\":0,\"ticks\":\"\"}},\"colorscale\":{\"sequential\":[[0.0,\"#0d0887\"],[0.1111111111111111,\"#46039f\"],[0.2222222222222222,\"#7201a8\"],[0.3333333333333333,\"#9c179e\"],[0.4444444444444444,\"#bd3786\"],[0.5555555555555556,\"#d8576b\"],[0.6666666666666666,\"#ed7953\"],[0.7777777777777778,\"#fb9f3a\"],[0.8888888888888888,\"#fdca26\"],[1.0,\"#f0f921\"]],\"sequentialminus\":[[0.0,\"#0d0887\"],[0.1111111111111111,\"#46039f\"],[0.2222222222222222,\"#7201a8\"],[0.3333333333333333,\"#9c179e\"],[0.4444444444444444,\"#bd3786\"],[0.5555555555555556,\"#d8576b\"],[0.6666666666666666,\"#ed7953\"],[0.7777777777777778,\"#fb9f3a\"],[0.8888888888888888,\"#fdca26\"],[1.0,\"#f0f921\"]],\"diverging\":[[0,\"#8e0152\"],[0.1,\"#c51b7d\"],[0.2,\"#de77ae\"],[0.3,\"#f1b6da\"],[0.4,\"#fde0ef\"],[0.5,\"#f7f7f7\"],[0.6,\"#e6f5d0\"],[0.7,\"#b8e186\"],[0.8,\"#7fbc41\"],[0.9,\"#4d9221\"],[1,\"#276419\"]]},\"xaxis\":{\"gridcolor\":\"white\",\"linecolor\":\"white\",\"ticks\":\"\",\"title\":{\"standoff\":15},\"zerolinecolor\":\"white\",\"automargin\":true,\"zerolinewidth\":2},\"yaxis\":{\"gridcolor\":\"white\",\"linecolor\":\"white\",\"ticks\":\"\",\"title\":{\"standoff\":15},\"zerolinecolor\":\"white\",\"automargin\":true,\"zerolinewidth\":2},\"scene\":{\"xaxis\":{\"backgroundcolor\":\"#E5ECF6\",\"gridcolor\":\"white\",\"linecolor\":\"white\",\"showbackground\":true,\"ticks\":\"\",\"zerolinecolor\":\"white\",\"gridwidth\":2},\"yaxis\":{\"backgroundcolor\":\"#E5ECF6\",\"gridcolor\":\"white\",\"linecolor\":\"white\",\"showbackground\":true,\"ticks\":\"\",\"zerolinecolor\":\"white\",\"gridwidth\":2},\"zaxis\":{\"backgroundcolor\":\"#E5ECF6\",\"gridcolor\":\"white\",\"linecolor\":\"white\",\"showbackground\":true,\"ticks\":\"\",\"zerolinecolor\":\"white\",\"gridwidth\":2}},\"shapedefaults\":{\"line\":{\"color\":\"#2a3f5f\"}},\"annotationdefaults\":{\"arrowcolor\":\"#2a3f5f\",\"arrowhead\":0,\"arrowwidth\":1},\"geo\":{\"bgcolor\":\"white\",\"landcolor\":\"#E5ECF6\",\"subunitcolor\":\"white\",\"showland\":true,\"showlakes\":true,\"lakecolor\":\"white\"},\"title\":{\"x\":0.05},\"mapbox\":{\"style\":\"light\"}}},\"xaxis\":{\"anchor\":\"y\",\"domain\":[0.0,1.0],\"title\":{\"text\":\"\\u0412\\u0412\\u041f\"}},\"yaxis\":{\"anchor\":\"x\",\"domain\":[0.0,1.0],\"title\":{\"text\":\"Country\"}},\"coloraxis\":{\"colorbar\":{\"title\":{\"text\":\"\\u0412\\u0412\\u041f\"}},\"colorscale\":[[0.0,\"#0d0887\"],[0.1111111111111111,\"#46039f\"],[0.2222222222222222,\"#7201a8\"],[0.3333333333333333,\"#9c179e\"],[0.4444444444444444,\"#bd3786\"],[0.5555555555555556,\"#d8576b\"],[0.6666666666666666,\"#ed7953\"],[0.7777777777777778,\"#fb9f3a\"],[0.8888888888888888,\"#fdca26\"],[1.0,\"#f0f921\"]]},\"legend\":{\"tracegroupgap\":0},\"title\":{\"text\":\"\\u0422\\u043e\\u043f-15 \\u0441\\u0442\\u0440\\u0430\\u043d \\u0441 \\u0441\\u0430\\u043c\\u044b\\u043c \\u043d\\u0438\\u0437\\u043a\\u0438\\u043c \\u0412\\u0412\\u041f \\u0432 \\u043c\\u0438\\u0440\\u0435 \\u0432 2020 \\u0433\\u043e\\u0434\\u0443\",\"font\":{\"size\":25},\"x\":0.5},\"barmode\":\"relative\"},                        {\"responsive\": true}                    ).then(function(){\n",
       "                            \n",
       "var gd = document.getElementById('d13e1ccd-f7da-4139-be30-037acff11188');\n",
       "var x = new MutationObserver(function (mutations, observer) {{\n",
       "        var display = window.getComputedStyle(gd).display;\n",
       "        if (!display || display === 'none') {{\n",
       "            console.log([gd, 'removed!']);\n",
       "            Plotly.purge(gd);\n",
       "            observer.disconnect();\n",
       "        }}\n",
       "}});\n",
       "\n",
       "// Listen for the removal of the full notebook cells\n",
       "var notebookContainer = gd.closest('#notebook-container');\n",
       "if (notebookContainer) {{\n",
       "    x.observe(notebookContainer, {childList: true});\n",
       "}}\n",
       "\n",
       "// Listen for the clearing of the current output cell\n",
       "var outputEl = gd.closest('.output');\n",
       "if (outputEl) {{\n",
       "    x.observe(outputEl, {childList: true});\n",
       "}}\n",
       "\n",
       "                        })                };                });            </script>        </div>"
      ]
     },
     "metadata": {},
     "output_type": "display_data"
    }
   ],
   "source": [
    "#нарисуйте диаграмму 15 стран с самым большим значением ВВП в мире\n",
    "top_15_lowest=df.sort_values('ВВП', ascending=False)[['ВВП']].tail(15)\n",
    "fig=px.bar(top_15_lowest,y=top_15_lowest.index, x='ВВП', color='ВВП',  \n",
    "           text_auto='.2s',\n",
    "           title=\"Топ-15 стран с самым низким ВВП в мире в 2020 году\",\n",
    "           orientation='h')\n",
    "fig.update_layout(title_x=0.5, title_font_size=25)\n",
    "fig.show()"
   ]
  },
  {
   "cell_type": "markdown",
   "id": "4b432f10",
   "metadata": {},
   "source": [
    "### 5- Гистограмма ВВП (Histogram of GDP)"
   ]
  },
  {
   "cell_type": "code",
   "execution_count": 16,
   "id": "acc00b88",
   "metadata": {
    "scrolled": false
   },
   "outputs": [
    {
     "data": {
      "application/vnd.plotly.v1+json": {
       "config": {
        "plotlyServerURL": "https://plotly.com"
       },
       "data": [
        {
         "alignmentgroup": "True",
         "bingroup": "x",
         "hovertemplate": "ВВП=%{x}<br>count=%{y}<extra></extra>",
         "legendgroup": "",
         "marker": {
          "color": "#a5be00",
          "pattern": {
           "shape": ""
          }
         },
         "name": "",
         "nbinsx": 20,
         "offsetgroup": "",
         "orientation": "v",
         "showlegend": false,
         "texttemplate": "%{value:.s}",
         "type": "histogram",
         "x": [
          180.51170798941,
          181.106313583114,
          155.613,
          2711.5844244853697,
          599.299511143598,
          209530.3,
          27598.0406183707,
          1554.98989149587,
          376.00368180939904,
          7199.548216833101,
          4.8882996407081905,
          75.7463697866173,
          19.021568,
          5016.43653514925,
          624.0970911095379,
          81.9415030178552,
          7522.4804573011,
          5412.2005945925,
          213.291095218077,
          806.76681933978,
          12814.846400435801,
          3354.42101366417,
          535.896095807099,
          1051.72564491569,
          3399.98477929985,
          40.632894495879505,
          533.350164254148,
          246.442345946566,
          7001.17873253333,
          103.339914555443,
          14834.977848676,
          2487.15551366635,
          1444.1136334526998,
          2285.39245045341,
          5966.24355719671,
          3614.8932523073104,
          2020.14363787233,
          356.703014961061,
          539.770369951729,
          2626.1000293850902,
          739.7139141742521,
          3621.9831843526,
          122.63710122764499,
          4322.93776262398,
          137.41378450136,
          126.21505382606199,
          2107.00848973509,
          9138.65395789886,
          336.57175561329,
          106.191945053543,
          1147.25065285149,
          47.6986074074074,
          133.12981594573,
          119.155472626561,
          10739.158808225,
          109.20606197692801,
          79.136802311828,
          146.47384607604,
          174.653929159153,
          37.4276996742798,
          3370.0606637326,
          130.560799823887,
          255.86111076341498,
          733.531327937076,
          565.4695747549121,
          317.352177845445,
          337.073208163036,
          77.35976272759831,
          16378.958027928998,
          1010.13726529063,
          1710.82379532988,
          436.97659295774696,
          50577.589587066395,
          138.124250365864,
          18887.0944368748,
          4071.0073659406403,
          4258.88950992003,
          2034.7130395234399,
          10584.2383834514,
          26602.4524886763,
          217.18075725205398,
          1558.08436238487,
          3465.8588150363503,
          236.622316339139,
          145.082180174032,
          14.317582429037499,
          156.81050917156298,
          776.046321705853,
          1888.3520162591,
          685.322818056722,
          38464.1392865371,
          158.464896108073,
          18.68086274822,
          153.168261915682,
          26303.1773145526,
          2695.94831987549,
          45.3388378227458,
          1076.4505431187602,
          39.7272894847088,
          306.50285471721503,
          100.218567544944,
          246.3872,
          3652.52651278852,
          988.0801,
          788.4470232907851,
          3560.84867685639,
          2453.39322066759,
          246.12646487721298,
          1073.52,
          572.037832030259,
          613.485794651017,
          618.468951207808,
          101.871223414051,
          487.169608600664,
          2714.37596293843,
          147227.306978901,
          2529.40023046007,
          108.29076801729,
          23.800877580413697,
          16454.234075683602,
          408.044497260184,
          258.085615509514,
          17.0369867669742,
          28.4178638219063,
          698.8934743343241,
          120.058257695087,
          14447.3325897165,
          150.619228016271,
          199.464965629733,
          365.727648628234,
          23.154373380880898,
          156.515453315404,
          16.3628079708056,
          5218.61292586616,
          602.582390555829,
          3230.56957972312,
          99.075,
          426.07176470588206,
          4332.58467676515,
          13278.3617106851,
          126.41209802112,
          3892.8805626532503,
          583.759762929678,
          1450.0918149062
         ],
         "xaxis": "x",
         "yaxis": "y"
        }
       ],
       "layout": {
        "bargap": 0.2,
        "barmode": "relative",
        "legend": {
         "tracegroupgap": 0
        },
        "template": {
         "data": {
          "bar": [
           {
            "error_x": {
             "color": "#2a3f5f"
            },
            "error_y": {
             "color": "#2a3f5f"
            },
            "marker": {
             "line": {
              "color": "#E5ECF6",
              "width": 0.5
             },
             "pattern": {
              "fillmode": "overlay",
              "size": 10,
              "solidity": 0.2
             }
            },
            "type": "bar"
           }
          ],
          "barpolar": [
           {
            "marker": {
             "line": {
              "color": "#E5ECF6",
              "width": 0.5
             },
             "pattern": {
              "fillmode": "overlay",
              "size": 10,
              "solidity": 0.2
             }
            },
            "type": "barpolar"
           }
          ],
          "carpet": [
           {
            "aaxis": {
             "endlinecolor": "#2a3f5f",
             "gridcolor": "white",
             "linecolor": "white",
             "minorgridcolor": "white",
             "startlinecolor": "#2a3f5f"
            },
            "baxis": {
             "endlinecolor": "#2a3f5f",
             "gridcolor": "white",
             "linecolor": "white",
             "minorgridcolor": "white",
             "startlinecolor": "#2a3f5f"
            },
            "type": "carpet"
           }
          ],
          "choropleth": [
           {
            "colorbar": {
             "outlinewidth": 0,
             "ticks": ""
            },
            "type": "choropleth"
           }
          ],
          "contour": [
           {
            "colorbar": {
             "outlinewidth": 0,
             "ticks": ""
            },
            "colorscale": [
             [
              0,
              "#0d0887"
             ],
             [
              0.1111111111111111,
              "#46039f"
             ],
             [
              0.2222222222222222,
              "#7201a8"
             ],
             [
              0.3333333333333333,
              "#9c179e"
             ],
             [
              0.4444444444444444,
              "#bd3786"
             ],
             [
              0.5555555555555556,
              "#d8576b"
             ],
             [
              0.6666666666666666,
              "#ed7953"
             ],
             [
              0.7777777777777778,
              "#fb9f3a"
             ],
             [
              0.8888888888888888,
              "#fdca26"
             ],
             [
              1,
              "#f0f921"
             ]
            ],
            "type": "contour"
           }
          ],
          "contourcarpet": [
           {
            "colorbar": {
             "outlinewidth": 0,
             "ticks": ""
            },
            "type": "contourcarpet"
           }
          ],
          "heatmap": [
           {
            "colorbar": {
             "outlinewidth": 0,
             "ticks": ""
            },
            "colorscale": [
             [
              0,
              "#0d0887"
             ],
             [
              0.1111111111111111,
              "#46039f"
             ],
             [
              0.2222222222222222,
              "#7201a8"
             ],
             [
              0.3333333333333333,
              "#9c179e"
             ],
             [
              0.4444444444444444,
              "#bd3786"
             ],
             [
              0.5555555555555556,
              "#d8576b"
             ],
             [
              0.6666666666666666,
              "#ed7953"
             ],
             [
              0.7777777777777778,
              "#fb9f3a"
             ],
             [
              0.8888888888888888,
              "#fdca26"
             ],
             [
              1,
              "#f0f921"
             ]
            ],
            "type": "heatmap"
           }
          ],
          "heatmapgl": [
           {
            "colorbar": {
             "outlinewidth": 0,
             "ticks": ""
            },
            "colorscale": [
             [
              0,
              "#0d0887"
             ],
             [
              0.1111111111111111,
              "#46039f"
             ],
             [
              0.2222222222222222,
              "#7201a8"
             ],
             [
              0.3333333333333333,
              "#9c179e"
             ],
             [
              0.4444444444444444,
              "#bd3786"
             ],
             [
              0.5555555555555556,
              "#d8576b"
             ],
             [
              0.6666666666666666,
              "#ed7953"
             ],
             [
              0.7777777777777778,
              "#fb9f3a"
             ],
             [
              0.8888888888888888,
              "#fdca26"
             ],
             [
              1,
              "#f0f921"
             ]
            ],
            "type": "heatmapgl"
           }
          ],
          "histogram": [
           {
            "marker": {
             "pattern": {
              "fillmode": "overlay",
              "size": 10,
              "solidity": 0.2
             }
            },
            "type": "histogram"
           }
          ],
          "histogram2d": [
           {
            "colorbar": {
             "outlinewidth": 0,
             "ticks": ""
            },
            "colorscale": [
             [
              0,
              "#0d0887"
             ],
             [
              0.1111111111111111,
              "#46039f"
             ],
             [
              0.2222222222222222,
              "#7201a8"
             ],
             [
              0.3333333333333333,
              "#9c179e"
             ],
             [
              0.4444444444444444,
              "#bd3786"
             ],
             [
              0.5555555555555556,
              "#d8576b"
             ],
             [
              0.6666666666666666,
              "#ed7953"
             ],
             [
              0.7777777777777778,
              "#fb9f3a"
             ],
             [
              0.8888888888888888,
              "#fdca26"
             ],
             [
              1,
              "#f0f921"
             ]
            ],
            "type": "histogram2d"
           }
          ],
          "histogram2dcontour": [
           {
            "colorbar": {
             "outlinewidth": 0,
             "ticks": ""
            },
            "colorscale": [
             [
              0,
              "#0d0887"
             ],
             [
              0.1111111111111111,
              "#46039f"
             ],
             [
              0.2222222222222222,
              "#7201a8"
             ],
             [
              0.3333333333333333,
              "#9c179e"
             ],
             [
              0.4444444444444444,
              "#bd3786"
             ],
             [
              0.5555555555555556,
              "#d8576b"
             ],
             [
              0.6666666666666666,
              "#ed7953"
             ],
             [
              0.7777777777777778,
              "#fb9f3a"
             ],
             [
              0.8888888888888888,
              "#fdca26"
             ],
             [
              1,
              "#f0f921"
             ]
            ],
            "type": "histogram2dcontour"
           }
          ],
          "mesh3d": [
           {
            "colorbar": {
             "outlinewidth": 0,
             "ticks": ""
            },
            "type": "mesh3d"
           }
          ],
          "parcoords": [
           {
            "line": {
             "colorbar": {
              "outlinewidth": 0,
              "ticks": ""
             }
            },
            "type": "parcoords"
           }
          ],
          "pie": [
           {
            "automargin": true,
            "type": "pie"
           }
          ],
          "scatter": [
           {
            "fillpattern": {
             "fillmode": "overlay",
             "size": 10,
             "solidity": 0.2
            },
            "type": "scatter"
           }
          ],
          "scatter3d": [
           {
            "line": {
             "colorbar": {
              "outlinewidth": 0,
              "ticks": ""
             }
            },
            "marker": {
             "colorbar": {
              "outlinewidth": 0,
              "ticks": ""
             }
            },
            "type": "scatter3d"
           }
          ],
          "scattercarpet": [
           {
            "marker": {
             "colorbar": {
              "outlinewidth": 0,
              "ticks": ""
             }
            },
            "type": "scattercarpet"
           }
          ],
          "scattergeo": [
           {
            "marker": {
             "colorbar": {
              "outlinewidth": 0,
              "ticks": ""
             }
            },
            "type": "scattergeo"
           }
          ],
          "scattergl": [
           {
            "marker": {
             "colorbar": {
              "outlinewidth": 0,
              "ticks": ""
             }
            },
            "type": "scattergl"
           }
          ],
          "scattermapbox": [
           {
            "marker": {
             "colorbar": {
              "outlinewidth": 0,
              "ticks": ""
             }
            },
            "type": "scattermapbox"
           }
          ],
          "scatterpolar": [
           {
            "marker": {
             "colorbar": {
              "outlinewidth": 0,
              "ticks": ""
             }
            },
            "type": "scatterpolar"
           }
          ],
          "scatterpolargl": [
           {
            "marker": {
             "colorbar": {
              "outlinewidth": 0,
              "ticks": ""
             }
            },
            "type": "scatterpolargl"
           }
          ],
          "scatterternary": [
           {
            "marker": {
             "colorbar": {
              "outlinewidth": 0,
              "ticks": ""
             }
            },
            "type": "scatterternary"
           }
          ],
          "surface": [
           {
            "colorbar": {
             "outlinewidth": 0,
             "ticks": ""
            },
            "colorscale": [
             [
              0,
              "#0d0887"
             ],
             [
              0.1111111111111111,
              "#46039f"
             ],
             [
              0.2222222222222222,
              "#7201a8"
             ],
             [
              0.3333333333333333,
              "#9c179e"
             ],
             [
              0.4444444444444444,
              "#bd3786"
             ],
             [
              0.5555555555555556,
              "#d8576b"
             ],
             [
              0.6666666666666666,
              "#ed7953"
             ],
             [
              0.7777777777777778,
              "#fb9f3a"
             ],
             [
              0.8888888888888888,
              "#fdca26"
             ],
             [
              1,
              "#f0f921"
             ]
            ],
            "type": "surface"
           }
          ],
          "table": [
           {
            "cells": {
             "fill": {
              "color": "#EBF0F8"
             },
             "line": {
              "color": "white"
             }
            },
            "header": {
             "fill": {
              "color": "#C8D4E3"
             },
             "line": {
              "color": "white"
             }
            },
            "type": "table"
           }
          ]
         },
         "layout": {
          "annotationdefaults": {
           "arrowcolor": "#2a3f5f",
           "arrowhead": 0,
           "arrowwidth": 1
          },
          "autotypenumbers": "strict",
          "coloraxis": {
           "colorbar": {
            "outlinewidth": 0,
            "ticks": ""
           }
          },
          "colorscale": {
           "diverging": [
            [
             0,
             "#8e0152"
            ],
            [
             0.1,
             "#c51b7d"
            ],
            [
             0.2,
             "#de77ae"
            ],
            [
             0.3,
             "#f1b6da"
            ],
            [
             0.4,
             "#fde0ef"
            ],
            [
             0.5,
             "#f7f7f7"
            ],
            [
             0.6,
             "#e6f5d0"
            ],
            [
             0.7,
             "#b8e186"
            ],
            [
             0.8,
             "#7fbc41"
            ],
            [
             0.9,
             "#4d9221"
            ],
            [
             1,
             "#276419"
            ]
           ],
           "sequential": [
            [
             0,
             "#0d0887"
            ],
            [
             0.1111111111111111,
             "#46039f"
            ],
            [
             0.2222222222222222,
             "#7201a8"
            ],
            [
             0.3333333333333333,
             "#9c179e"
            ],
            [
             0.4444444444444444,
             "#bd3786"
            ],
            [
             0.5555555555555556,
             "#d8576b"
            ],
            [
             0.6666666666666666,
             "#ed7953"
            ],
            [
             0.7777777777777778,
             "#fb9f3a"
            ],
            [
             0.8888888888888888,
             "#fdca26"
            ],
            [
             1,
             "#f0f921"
            ]
           ],
           "sequentialminus": [
            [
             0,
             "#0d0887"
            ],
            [
             0.1111111111111111,
             "#46039f"
            ],
            [
             0.2222222222222222,
             "#7201a8"
            ],
            [
             0.3333333333333333,
             "#9c179e"
            ],
            [
             0.4444444444444444,
             "#bd3786"
            ],
            [
             0.5555555555555556,
             "#d8576b"
            ],
            [
             0.6666666666666666,
             "#ed7953"
            ],
            [
             0.7777777777777778,
             "#fb9f3a"
            ],
            [
             0.8888888888888888,
             "#fdca26"
            ],
            [
             1,
             "#f0f921"
            ]
           ]
          },
          "colorway": [
           "#636efa",
           "#EF553B",
           "#00cc96",
           "#ab63fa",
           "#FFA15A",
           "#19d3f3",
           "#FF6692",
           "#B6E880",
           "#FF97FF",
           "#FECB52"
          ],
          "font": {
           "color": "#2a3f5f"
          },
          "geo": {
           "bgcolor": "white",
           "lakecolor": "white",
           "landcolor": "#E5ECF6",
           "showlakes": true,
           "showland": true,
           "subunitcolor": "white"
          },
          "hoverlabel": {
           "align": "left"
          },
          "hovermode": "closest",
          "mapbox": {
           "style": "light"
          },
          "paper_bgcolor": "white",
          "plot_bgcolor": "#E5ECF6",
          "polar": {
           "angularaxis": {
            "gridcolor": "white",
            "linecolor": "white",
            "ticks": ""
           },
           "bgcolor": "#E5ECF6",
           "radialaxis": {
            "gridcolor": "white",
            "linecolor": "white",
            "ticks": ""
           }
          },
          "scene": {
           "xaxis": {
            "backgroundcolor": "#E5ECF6",
            "gridcolor": "white",
            "gridwidth": 2,
            "linecolor": "white",
            "showbackground": true,
            "ticks": "",
            "zerolinecolor": "white"
           },
           "yaxis": {
            "backgroundcolor": "#E5ECF6",
            "gridcolor": "white",
            "gridwidth": 2,
            "linecolor": "white",
            "showbackground": true,
            "ticks": "",
            "zerolinecolor": "white"
           },
           "zaxis": {
            "backgroundcolor": "#E5ECF6",
            "gridcolor": "white",
            "gridwidth": 2,
            "linecolor": "white",
            "showbackground": true,
            "ticks": "",
            "zerolinecolor": "white"
           }
          },
          "shapedefaults": {
           "line": {
            "color": "#2a3f5f"
           }
          },
          "ternary": {
           "aaxis": {
            "gridcolor": "white",
            "linecolor": "white",
            "ticks": ""
           },
           "baxis": {
            "gridcolor": "white",
            "linecolor": "white",
            "ticks": ""
           },
           "bgcolor": "#E5ECF6",
           "caxis": {
            "gridcolor": "white",
            "linecolor": "white",
            "ticks": ""
           }
          },
          "title": {
           "x": 0.05
          },
          "xaxis": {
           "automargin": true,
           "gridcolor": "white",
           "linecolor": "white",
           "ticks": "",
           "title": {
            "standoff": 15
           },
           "zerolinecolor": "white",
           "zerolinewidth": 2
          },
          "yaxis": {
           "automargin": true,
           "gridcolor": "white",
           "linecolor": "white",
           "ticks": "",
           "title": {
            "standoff": 15
           },
           "zerolinecolor": "white",
           "zerolinewidth": 2
          }
         }
        },
        "title": {
         "font": {
          "size": 25
         },
         "text": "Гистограмма ВВП",
         "x": 0.5
        },
        "width": 1000,
        "xaxis": {
         "anchor": "y",
         "domain": [
          0,
          1
         ],
         "title": {
          "text": "ВВП"
         }
        },
        "yaxis": {
         "anchor": "x",
         "domain": [
          0,
          1
         ],
         "title": {
          "text": "count"
         }
        }
       }
      },
      "text/html": [
       "<div>                            <div id=\"47f7aae4-5dc0-433b-be1f-69ab125ab7b0\" class=\"plotly-graph-div\" style=\"height:525px; width:1000px;\"></div>            <script type=\"text/javascript\">                require([\"plotly\"], function(Plotly) {                    window.PLOTLYENV=window.PLOTLYENV || {};                                    if (document.getElementById(\"47f7aae4-5dc0-433b-be1f-69ab125ab7b0\")) {                    Plotly.newPlot(                        \"47f7aae4-5dc0-433b-be1f-69ab125ab7b0\",                        [{\"alignmentgroup\":\"True\",\"bingroup\":\"x\",\"hovertemplate\":\"\\u0412\\u0412\\u041f=%{x}<br>count=%{y}<extra></extra>\",\"legendgroup\":\"\",\"marker\":{\"color\":\"#a5be00\",\"pattern\":{\"shape\":\"\"}},\"name\":\"\",\"nbinsx\":20,\"offsetgroup\":\"\",\"orientation\":\"v\",\"showlegend\":false,\"texttemplate\":\"%{value:.s}\",\"x\":[180.51170798941,181.106313583114,155.613,2711.5844244853697,599.299511143598,209530.3,27598.0406183707,1554.98989149587,376.00368180939904,7199.548216833101,4.8882996407081905,75.7463697866173,19.021568,5016.43653514925,624.0970911095379,81.9415030178552,7522.4804573011,5412.2005945925,213.291095218077,806.76681933978,12814.846400435801,3354.42101366417,535.896095807099,1051.72564491569,3399.98477929985,40.632894495879505,533.350164254148,246.442345946566,7001.17873253333,103.339914555443,14834.977848676,2487.15551366635,1444.1136334526998,2285.39245045341,5966.24355719671,3614.8932523073104,2020.14363787233,356.703014961061,539.770369951729,2626.1000293850902,739.7139141742521,3621.9831843526,122.63710122764499,4322.93776262398,137.41378450136,126.21505382606199,2107.00848973509,9138.65395789886,336.57175561329,106.191945053543,1147.25065285149,47.6986074074074,133.12981594573,119.155472626561,10739.158808225,109.20606197692801,79.136802311828,146.47384607604,174.653929159153,37.4276996742798,3370.0606637326,130.560799823887,255.86111076341498,733.531327937076,565.4695747549121,317.352177845445,337.073208163036,77.35976272759831,16378.958027928998,1010.13726529063,1710.82379532988,436.97659295774696,50577.589587066395,138.124250365864,18887.0944368748,4071.0073659406403,4258.88950992003,2034.7130395234399,10584.2383834514,26602.4524886763,217.18075725205398,1558.08436238487,3465.8588150363503,236.622316339139,145.082180174032,14.317582429037499,156.81050917156298,776.046321705853,1888.3520162591,685.322818056722,38464.1392865371,158.464896108073,18.68086274822,153.168261915682,26303.1773145526,2695.94831987549,45.3388378227458,1076.4505431187602,39.7272894847088,306.50285471721503,100.218567544944,246.3872,3652.52651278852,988.0801,788.4470232907851,3560.84867685639,2453.39322066759,246.12646487721298,1073.52,572.037832030259,613.485794651017,618.468951207808,101.871223414051,487.169608600664,2714.37596293843,147227.306978901,2529.40023046007,108.29076801729,23.800877580413697,16454.234075683602,408.044497260184,258.085615509514,17.0369867669742,28.4178638219063,698.8934743343241,120.058257695087,14447.3325897165,150.619228016271,199.464965629733,365.727648628234,23.154373380880898,156.515453315404,16.3628079708056,5218.61292586616,602.582390555829,3230.56957972312,99.075,426.07176470588206,4332.58467676515,13278.3617106851,126.41209802112,3892.8805626532503,583.759762929678,1450.0918149062],\"xaxis\":\"x\",\"yaxis\":\"y\",\"type\":\"histogram\"}],                        {\"template\":{\"data\":{\"histogram2dcontour\":[{\"type\":\"histogram2dcontour\",\"colorbar\":{\"outlinewidth\":0,\"ticks\":\"\"},\"colorscale\":[[0.0,\"#0d0887\"],[0.1111111111111111,\"#46039f\"],[0.2222222222222222,\"#7201a8\"],[0.3333333333333333,\"#9c179e\"],[0.4444444444444444,\"#bd3786\"],[0.5555555555555556,\"#d8576b\"],[0.6666666666666666,\"#ed7953\"],[0.7777777777777778,\"#fb9f3a\"],[0.8888888888888888,\"#fdca26\"],[1.0,\"#f0f921\"]]}],\"choropleth\":[{\"type\":\"choropleth\",\"colorbar\":{\"outlinewidth\":0,\"ticks\":\"\"}}],\"histogram2d\":[{\"type\":\"histogram2d\",\"colorbar\":{\"outlinewidth\":0,\"ticks\":\"\"},\"colorscale\":[[0.0,\"#0d0887\"],[0.1111111111111111,\"#46039f\"],[0.2222222222222222,\"#7201a8\"],[0.3333333333333333,\"#9c179e\"],[0.4444444444444444,\"#bd3786\"],[0.5555555555555556,\"#d8576b\"],[0.6666666666666666,\"#ed7953\"],[0.7777777777777778,\"#fb9f3a\"],[0.8888888888888888,\"#fdca26\"],[1.0,\"#f0f921\"]]}],\"heatmap\":[{\"type\":\"heatmap\",\"colorbar\":{\"outlinewidth\":0,\"ticks\":\"\"},\"colorscale\":[[0.0,\"#0d0887\"],[0.1111111111111111,\"#46039f\"],[0.2222222222222222,\"#7201a8\"],[0.3333333333333333,\"#9c179e\"],[0.4444444444444444,\"#bd3786\"],[0.5555555555555556,\"#d8576b\"],[0.6666666666666666,\"#ed7953\"],[0.7777777777777778,\"#fb9f3a\"],[0.8888888888888888,\"#fdca26\"],[1.0,\"#f0f921\"]]}],\"heatmapgl\":[{\"type\":\"heatmapgl\",\"colorbar\":{\"outlinewidth\":0,\"ticks\":\"\"},\"colorscale\":[[0.0,\"#0d0887\"],[0.1111111111111111,\"#46039f\"],[0.2222222222222222,\"#7201a8\"],[0.3333333333333333,\"#9c179e\"],[0.4444444444444444,\"#bd3786\"],[0.5555555555555556,\"#d8576b\"],[0.6666666666666666,\"#ed7953\"],[0.7777777777777778,\"#fb9f3a\"],[0.8888888888888888,\"#fdca26\"],[1.0,\"#f0f921\"]]}],\"contourcarpet\":[{\"type\":\"contourcarpet\",\"colorbar\":{\"outlinewidth\":0,\"ticks\":\"\"}}],\"contour\":[{\"type\":\"contour\",\"colorbar\":{\"outlinewidth\":0,\"ticks\":\"\"},\"colorscale\":[[0.0,\"#0d0887\"],[0.1111111111111111,\"#46039f\"],[0.2222222222222222,\"#7201a8\"],[0.3333333333333333,\"#9c179e\"],[0.4444444444444444,\"#bd3786\"],[0.5555555555555556,\"#d8576b\"],[0.6666666666666666,\"#ed7953\"],[0.7777777777777778,\"#fb9f3a\"],[0.8888888888888888,\"#fdca26\"],[1.0,\"#f0f921\"]]}],\"surface\":[{\"type\":\"surface\",\"colorbar\":{\"outlinewidth\":0,\"ticks\":\"\"},\"colorscale\":[[0.0,\"#0d0887\"],[0.1111111111111111,\"#46039f\"],[0.2222222222222222,\"#7201a8\"],[0.3333333333333333,\"#9c179e\"],[0.4444444444444444,\"#bd3786\"],[0.5555555555555556,\"#d8576b\"],[0.6666666666666666,\"#ed7953\"],[0.7777777777777778,\"#fb9f3a\"],[0.8888888888888888,\"#fdca26\"],[1.0,\"#f0f921\"]]}],\"mesh3d\":[{\"type\":\"mesh3d\",\"colorbar\":{\"outlinewidth\":0,\"ticks\":\"\"}}],\"scatter\":[{\"fillpattern\":{\"fillmode\":\"overlay\",\"size\":10,\"solidity\":0.2},\"type\":\"scatter\"}],\"parcoords\":[{\"type\":\"parcoords\",\"line\":{\"colorbar\":{\"outlinewidth\":0,\"ticks\":\"\"}}}],\"scatterpolargl\":[{\"type\":\"scatterpolargl\",\"marker\":{\"colorbar\":{\"outlinewidth\":0,\"ticks\":\"\"}}}],\"bar\":[{\"error_x\":{\"color\":\"#2a3f5f\"},\"error_y\":{\"color\":\"#2a3f5f\"},\"marker\":{\"line\":{\"color\":\"#E5ECF6\",\"width\":0.5},\"pattern\":{\"fillmode\":\"overlay\",\"size\":10,\"solidity\":0.2}},\"type\":\"bar\"}],\"scattergeo\":[{\"type\":\"scattergeo\",\"marker\":{\"colorbar\":{\"outlinewidth\":0,\"ticks\":\"\"}}}],\"scatterpolar\":[{\"type\":\"scatterpolar\",\"marker\":{\"colorbar\":{\"outlinewidth\":0,\"ticks\":\"\"}}}],\"histogram\":[{\"marker\":{\"pattern\":{\"fillmode\":\"overlay\",\"size\":10,\"solidity\":0.2}},\"type\":\"histogram\"}],\"scattergl\":[{\"type\":\"scattergl\",\"marker\":{\"colorbar\":{\"outlinewidth\":0,\"ticks\":\"\"}}}],\"scatter3d\":[{\"type\":\"scatter3d\",\"line\":{\"colorbar\":{\"outlinewidth\":0,\"ticks\":\"\"}},\"marker\":{\"colorbar\":{\"outlinewidth\":0,\"ticks\":\"\"}}}],\"scattermapbox\":[{\"type\":\"scattermapbox\",\"marker\":{\"colorbar\":{\"outlinewidth\":0,\"ticks\":\"\"}}}],\"scatterternary\":[{\"type\":\"scatterternary\",\"marker\":{\"colorbar\":{\"outlinewidth\":0,\"ticks\":\"\"}}}],\"scattercarpet\":[{\"type\":\"scattercarpet\",\"marker\":{\"colorbar\":{\"outlinewidth\":0,\"ticks\":\"\"}}}],\"carpet\":[{\"aaxis\":{\"endlinecolor\":\"#2a3f5f\",\"gridcolor\":\"white\",\"linecolor\":\"white\",\"minorgridcolor\":\"white\",\"startlinecolor\":\"#2a3f5f\"},\"baxis\":{\"endlinecolor\":\"#2a3f5f\",\"gridcolor\":\"white\",\"linecolor\":\"white\",\"minorgridcolor\":\"white\",\"startlinecolor\":\"#2a3f5f\"},\"type\":\"carpet\"}],\"table\":[{\"cells\":{\"fill\":{\"color\":\"#EBF0F8\"},\"line\":{\"color\":\"white\"}},\"header\":{\"fill\":{\"color\":\"#C8D4E3\"},\"line\":{\"color\":\"white\"}},\"type\":\"table\"}],\"barpolar\":[{\"marker\":{\"line\":{\"color\":\"#E5ECF6\",\"width\":0.5},\"pattern\":{\"fillmode\":\"overlay\",\"size\":10,\"solidity\":0.2}},\"type\":\"barpolar\"}],\"pie\":[{\"automargin\":true,\"type\":\"pie\"}]},\"layout\":{\"autotypenumbers\":\"strict\",\"colorway\":[\"#636efa\",\"#EF553B\",\"#00cc96\",\"#ab63fa\",\"#FFA15A\",\"#19d3f3\",\"#FF6692\",\"#B6E880\",\"#FF97FF\",\"#FECB52\"],\"font\":{\"color\":\"#2a3f5f\"},\"hovermode\":\"closest\",\"hoverlabel\":{\"align\":\"left\"},\"paper_bgcolor\":\"white\",\"plot_bgcolor\":\"#E5ECF6\",\"polar\":{\"bgcolor\":\"#E5ECF6\",\"angularaxis\":{\"gridcolor\":\"white\",\"linecolor\":\"white\",\"ticks\":\"\"},\"radialaxis\":{\"gridcolor\":\"white\",\"linecolor\":\"white\",\"ticks\":\"\"}},\"ternary\":{\"bgcolor\":\"#E5ECF6\",\"aaxis\":{\"gridcolor\":\"white\",\"linecolor\":\"white\",\"ticks\":\"\"},\"baxis\":{\"gridcolor\":\"white\",\"linecolor\":\"white\",\"ticks\":\"\"},\"caxis\":{\"gridcolor\":\"white\",\"linecolor\":\"white\",\"ticks\":\"\"}},\"coloraxis\":{\"colorbar\":{\"outlinewidth\":0,\"ticks\":\"\"}},\"colorscale\":{\"sequential\":[[0.0,\"#0d0887\"],[0.1111111111111111,\"#46039f\"],[0.2222222222222222,\"#7201a8\"],[0.3333333333333333,\"#9c179e\"],[0.4444444444444444,\"#bd3786\"],[0.5555555555555556,\"#d8576b\"],[0.6666666666666666,\"#ed7953\"],[0.7777777777777778,\"#fb9f3a\"],[0.8888888888888888,\"#fdca26\"],[1.0,\"#f0f921\"]],\"sequentialminus\":[[0.0,\"#0d0887\"],[0.1111111111111111,\"#46039f\"],[0.2222222222222222,\"#7201a8\"],[0.3333333333333333,\"#9c179e\"],[0.4444444444444444,\"#bd3786\"],[0.5555555555555556,\"#d8576b\"],[0.6666666666666666,\"#ed7953\"],[0.7777777777777778,\"#fb9f3a\"],[0.8888888888888888,\"#fdca26\"],[1.0,\"#f0f921\"]],\"diverging\":[[0,\"#8e0152\"],[0.1,\"#c51b7d\"],[0.2,\"#de77ae\"],[0.3,\"#f1b6da\"],[0.4,\"#fde0ef\"],[0.5,\"#f7f7f7\"],[0.6,\"#e6f5d0\"],[0.7,\"#b8e186\"],[0.8,\"#7fbc41\"],[0.9,\"#4d9221\"],[1,\"#276419\"]]},\"xaxis\":{\"gridcolor\":\"white\",\"linecolor\":\"white\",\"ticks\":\"\",\"title\":{\"standoff\":15},\"zerolinecolor\":\"white\",\"automargin\":true,\"zerolinewidth\":2},\"yaxis\":{\"gridcolor\":\"white\",\"linecolor\":\"white\",\"ticks\":\"\",\"title\":{\"standoff\":15},\"zerolinecolor\":\"white\",\"automargin\":true,\"zerolinewidth\":2},\"scene\":{\"xaxis\":{\"backgroundcolor\":\"#E5ECF6\",\"gridcolor\":\"white\",\"linecolor\":\"white\",\"showbackground\":true,\"ticks\":\"\",\"zerolinecolor\":\"white\",\"gridwidth\":2},\"yaxis\":{\"backgroundcolor\":\"#E5ECF6\",\"gridcolor\":\"white\",\"linecolor\":\"white\",\"showbackground\":true,\"ticks\":\"\",\"zerolinecolor\":\"white\",\"gridwidth\":2},\"zaxis\":{\"backgroundcolor\":\"#E5ECF6\",\"gridcolor\":\"white\",\"linecolor\":\"white\",\"showbackground\":true,\"ticks\":\"\",\"zerolinecolor\":\"white\",\"gridwidth\":2}},\"shapedefaults\":{\"line\":{\"color\":\"#2a3f5f\"}},\"annotationdefaults\":{\"arrowcolor\":\"#2a3f5f\",\"arrowhead\":0,\"arrowwidth\":1},\"geo\":{\"bgcolor\":\"white\",\"landcolor\":\"#E5ECF6\",\"subunitcolor\":\"white\",\"showland\":true,\"showlakes\":true,\"lakecolor\":\"white\"},\"title\":{\"x\":0.05},\"mapbox\":{\"style\":\"light\"}}},\"xaxis\":{\"anchor\":\"y\",\"domain\":[0.0,1.0],\"title\":{\"text\":\"\\u0412\\u0412\\u041f\"}},\"yaxis\":{\"anchor\":\"x\",\"domain\":[0.0,1.0],\"title\":{\"text\":\"count\"}},\"legend\":{\"tracegroupgap\":0},\"title\":{\"text\":\"\\u0413\\u0438\\u0441\\u0442\\u043e\\u0433\\u0440\\u0430\\u043c\\u043c\\u0430 \\u0412\\u0412\\u041f\",\"font\":{\"size\":25},\"x\":0.5},\"barmode\":\"relative\",\"width\":1000,\"bargap\":0.2},                        {\"responsive\": true}                    ).then(function(){\n",
       "                            \n",
       "var gd = document.getElementById('47f7aae4-5dc0-433b-be1f-69ab125ab7b0');\n",
       "var x = new MutationObserver(function (mutations, observer) {{\n",
       "        var display = window.getComputedStyle(gd).display;\n",
       "        if (!display || display === 'none') {{\n",
       "            console.log([gd, 'removed!']);\n",
       "            Plotly.purge(gd);\n",
       "            observer.disconnect();\n",
       "        }}\n",
       "}});\n",
       "\n",
       "// Listen for the removal of the full notebook cells\n",
       "var notebookContainer = gd.closest('#notebook-container');\n",
       "if (notebookContainer) {{\n",
       "    x.observe(notebookContainer, {childList: true});\n",
       "}}\n",
       "\n",
       "// Listen for the clearing of the current output cell\n",
       "var outputEl = gd.closest('.output');\n",
       "if (outputEl) {{\n",
       "    x.observe(outputEl, {childList: true});\n",
       "}}\n",
       "\n",
       "                        })                };                });            </script>        </div>"
      ]
     },
     "metadata": {},
     "output_type": "display_data"
    }
   ],
   "source": [
    "fig=px.histogram(df, x='ВВП', nbins=20, title='Гистограмма ВВП',\n",
    "                 color_discrete_sequence=['#a5be00'] ,\n",
    "                 text_auto='.s',width=1000\n",
    "                 )\n",
    "fig.update_layout(bargap=0.2, title_x=0.5, title_font_size=25)\n",
    "fig.show()"
   ]
  },
  {
   "cell_type": "code",
   "execution_count": 17,
   "id": "acf2d5f5",
   "metadata": {
    "scrolled": false
   },
   "outputs": [],
   "source": [
    "df_bar=df[df.columns[3:]]\n",
    "df_bar.drop(['Уровень безработицы'],axis=1,inplace=True)\n",
    "df_bar=df_bar.transpose()\n",
    "df_bar.reset_index(inplace=True)\n",
    "list_country=list(df.index)"
   ]
  },
  {
   "cell_type": "code",
   "execution_count": 18,
   "id": "f37b3c79",
   "metadata": {},
   "outputs": [
    {
     "data": {
      "text/html": [
       "<div>\n",
       "<style scoped>\n",
       "    .dataframe tbody tr th:only-of-type {\n",
       "        vertical-align: middle;\n",
       "    }\n",
       "\n",
       "    .dataframe tbody tr th {\n",
       "        vertical-align: top;\n",
       "    }\n",
       "\n",
       "    .dataframe thead th {\n",
       "        text-align: right;\n",
       "    }\n",
       "</style>\n",
       "<table border=\"1\" class=\"dataframe\">\n",
       "  <thead>\n",
       "    <tr style=\"text-align: right;\">\n",
       "      <th>Country</th>\n",
       "      <th>index</th>\n",
       "      <th>Zimbabwe</th>\n",
       "      <th>Zambia</th>\n",
       "      <th>West Bank and Gaza</th>\n",
       "      <th>Vietnam</th>\n",
       "      <th>Uzbekistan</th>\n",
       "      <th>United States</th>\n",
       "      <th>United Kingdom</th>\n",
       "      <th>Ukraine</th>\n",
       "      <th>Uganda</th>\n",
       "      <th>Turkey</th>\n",
       "      <th>Tonga</th>\n",
       "      <th>...</th>\n",
       "      <th>Belize</th>\n",
       "      <th>Belgium</th>\n",
       "      <th>Belarus</th>\n",
       "      <th>Bangladesh</th>\n",
       "      <th>Bahamas, The</th>\n",
       "      <th>Azerbaijan</th>\n",
       "      <th>Austria</th>\n",
       "      <th>Australia</th>\n",
       "      <th>Armenia</th>\n",
       "      <th>Argentina</th>\n",
       "      <th>Angola</th>\n",
       "      <th>Algeria</th>\n",
       "    </tr>\n",
       "  </thead>\n",
       "  <tbody>\n",
       "    <tr>\n",
       "      <th>0</th>\n",
       "      <td>Конечное потребление правительства</td>\n",
       "      <td>14.002647</td>\n",
       "      <td>26.643717</td>\n",
       "      <td>36.466</td>\n",
       "      <td>182.025722</td>\n",
       "      <td>101.319030</td>\n",
       "      <td>30779.90</td>\n",
       "      <td>6167.387962</td>\n",
       "      <td>299.626449</td>\n",
       "      <td>35.763269</td>\n",
       "      <td>1092.702566</td>\n",
       "      <td>1.165073</td>\n",
       "      <td>...</td>\n",
       "      <td>3.278242</td>\n",
       "      <td>1292.020257</td>\n",
       "      <td>101.890884</td>\n",
       "      <td>202.624829</td>\n",
       "      <td>15.781</td>\n",
       "      <td>67.877059</td>\n",
       "      <td>918.488206</td>\n",
       "      <td>2770.116638</td>\n",
       "      <td>20.270791</td>\n",
       "      <td>604.619262</td>\n",
       "      <td>59.278406</td>\n",
       "      <td>291.654309</td>\n",
       "    </tr>\n",
       "    <tr>\n",
       "      <th>1</th>\n",
       "      <td>Конечное потребление</td>\n",
       "      <td>169.944551</td>\n",
       "      <td>96.336315</td>\n",
       "      <td>175.222</td>\n",
       "      <td>2021.974979</td>\n",
       "      <td>449.767702</td>\n",
       "      <td>171255.55</td>\n",
       "      <td>23000.281713</td>\n",
       "      <td>1455.328944</td>\n",
       "      <td>303.673370</td>\n",
       "      <td>5178.250502</td>\n",
       "      <td>6.007772</td>\n",
       "      <td>...</td>\n",
       "      <td>14.040852</td>\n",
       "      <td>3884.359968</td>\n",
       "      <td>411.989670</td>\n",
       "      <td>2462.530648</td>\n",
       "      <td>79.999</td>\n",
       "      <td>325.897059</td>\n",
       "      <td>3090.188843</td>\n",
       "      <td>9799.812307</td>\n",
       "      <td>115.580056</td>\n",
       "      <td>3077.364357</td>\n",
       "      <td>429.006908</td>\n",
       "      <td>990.457245</td>\n",
       "    </tr>\n",
       "    <tr>\n",
       "      <th>2</th>\n",
       "      <td>Валовое накопление капитала</td>\n",
       "      <td>13.450775</td>\n",
       "      <td>58.484908</td>\n",
       "      <td>36.345</td>\n",
       "      <td>732.436239</td>\n",
       "      <td>230.108501</td>\n",
       "      <td>44193.77</td>\n",
       "      <td>4608.656347</td>\n",
       "      <td>116.860243</td>\n",
       "      <td>91.053614</td>\n",
       "      <td>2295.664703</td>\n",
       "      <td>1.213046</td>\n",
       "      <td>...</td>\n",
       "      <td>3.649161</td>\n",
       "      <td>1260.872569</td>\n",
       "      <td>158.308739</td>\n",
       "      <td>984.303389</td>\n",
       "      <td>22.443</td>\n",
       "      <td>103.465294</td>\n",
       "      <td>1122.191572</td>\n",
       "      <td>2956.951334</td>\n",
       "      <td>23.427289</td>\n",
       "      <td>545.771334</td>\n",
       "      <td>97.843941</td>\n",
       "      <td>629.113529</td>\n",
       "    </tr>\n",
       "    <tr>\n",
       "      <th>3</th>\n",
       "      <td>Чистый экспорт</td>\n",
       "      <td>-2.883618</td>\n",
       "      <td>25.816421</td>\n",
       "      <td>-54.527</td>\n",
       "      <td>77.152774</td>\n",
       "      <td>-80.576680</td>\n",
       "      <td>-6511.87</td>\n",
       "      <td>36.653866</td>\n",
       "      <td>-16.369100</td>\n",
       "      <td>-23.203546</td>\n",
       "      <td>-274.366977</td>\n",
       "      <td>-2.117144</td>\n",
       "      <td>...</td>\n",
       "      <td>-2.192488</td>\n",
       "      <td>73.380389</td>\n",
       "      <td>18.792835</td>\n",
       "      <td>-211.277436</td>\n",
       "      <td>-1.344</td>\n",
       "      <td>-3.290588</td>\n",
       "      <td>124.391667</td>\n",
       "      <td>521.598069</td>\n",
       "      <td>-12.595247</td>\n",
       "      <td>118.168067</td>\n",
       "      <td>50.605300</td>\n",
       "      <td>-142.683835</td>\n",
       "    </tr>\n",
       "  </tbody>\n",
       "</table>\n",
       "<p>4 rows × 145 columns</p>\n",
       "</div>"
      ],
      "text/plain": [
       "Country                               index    Zimbabwe     Zambia  \\\n",
       "0        Конечное потребление правительства   14.002647  26.643717   \n",
       "1                      Конечное потребление  169.944551  96.336315   \n",
       "2               Валовое накопление капитала   13.450775  58.484908   \n",
       "3                            Чистый экспорт   -2.883618  25.816421   \n",
       "\n",
       "Country  West Bank and Gaza      Vietnam  Uzbekistan  United States  \\\n",
       "0                    36.466   182.025722  101.319030       30779.90   \n",
       "1                   175.222  2021.974979  449.767702      171255.55   \n",
       "2                    36.345   732.436239  230.108501       44193.77   \n",
       "3                   -54.527    77.152774  -80.576680       -6511.87   \n",
       "\n",
       "Country  United Kingdom      Ukraine      Uganda       Turkey     Tonga  ...  \\\n",
       "0           6167.387962   299.626449   35.763269  1092.702566  1.165073  ...   \n",
       "1          23000.281713  1455.328944  303.673370  5178.250502  6.007772  ...   \n",
       "2           4608.656347   116.860243   91.053614  2295.664703  1.213046  ...   \n",
       "3             36.653866   -16.369100  -23.203546  -274.366977 -2.117144  ...   \n",
       "\n",
       "Country     Belize      Belgium     Belarus   Bangladesh  Bahamas, The  \\\n",
       "0         3.278242  1292.020257  101.890884   202.624829        15.781   \n",
       "1        14.040852  3884.359968  411.989670  2462.530648        79.999   \n",
       "2         3.649161  1260.872569  158.308739   984.303389        22.443   \n",
       "3        -2.192488    73.380389   18.792835  -211.277436        -1.344   \n",
       "\n",
       "Country  Azerbaijan      Austria    Australia     Armenia    Argentina  \\\n",
       "0         67.877059   918.488206  2770.116638   20.270791   604.619262   \n",
       "1        325.897059  3090.188843  9799.812307  115.580056  3077.364357   \n",
       "2        103.465294  1122.191572  2956.951334   23.427289   545.771334   \n",
       "3         -3.290588   124.391667   521.598069  -12.595247   118.168067   \n",
       "\n",
       "Country      Angola     Algeria  \n",
       "0         59.278406  291.654309  \n",
       "1        429.006908  990.457245  \n",
       "2         97.843941  629.113529  \n",
       "3         50.605300 -142.683835  \n",
       "\n",
       "[4 rows x 145 columns]"
      ]
     },
     "execution_count": 18,
     "metadata": {},
     "output_type": "execute_result"
    }
   ],
   "source": [
    "df_bar"
   ]
  },
  {
   "cell_type": "code",
   "execution_count": 19,
   "id": "1db67f77",
   "metadata": {
    "scrolled": false
   },
   "outputs": [
    {
     "data": {
      "application/vnd.jupyter.widget-view+json": {
       "model_id": "492204482bbd4ec1a82bb8ffd40087df",
       "version_major": 2,
       "version_minor": 0
      },
      "text/plain": [
       "interactive(children=(Combobox(value='Russian Federation', description='country', options=('Zimbabwe', 'Zambia…"
      ]
     },
     "metadata": {},
     "output_type": "display_data"
    }
   ],
   "source": [
    "#используйте ползунок, чтобы получить значение лет.\n",
    "def f(country):\n",
    "    try:\n",
    "        fig = px.bar(df_bar, x=\"index\", y=f'{country}',\n",
    "                     title=f\"Компоненты, влияющие на ВВП {country} в 2020 г. (по методу потребительских расходов)\",\n",
    "                     text_auto='.2s')\n",
    "        fig.update_layout(bargap=0.2, title_x=0.5, title_font_size=18)\n",
    "\n",
    "        fig.show()\n",
    "    except:\n",
    "        print('loading...')\n",
    "\n",
    "interact(f, country=widgets.Combobox(options=list_country, value='Russian Federation'));"
   ]
  },
  {
   "cell_type": "markdown",
   "id": "49b169c6",
   "metadata": {},
   "source": [
    "## IV- Correlation between Variables(Корреляция между переменными)"
   ]
  },
  {
   "cell_type": "markdown",
   "id": "e0f5f3a1",
   "metadata": {},
   "source": [
    "### 1- описательный статистический анализ (descriptive statistical analysis)"
   ]
  },
  {
   "cell_type": "code",
   "execution_count": 20,
   "id": "00fc74fe",
   "metadata": {
    "scrolled": false
   },
   "outputs": [
    {
     "data": {
      "text/html": [
       "<style type=\"text/css\">\n",
       "#T_70e26_row0_col0, #T_70e26_row1_col0, #T_70e26_row2_col0, #T_70e26_row3_col0, #T_70e26_row4_col0, #T_70e26_row4_col1, #T_70e26_row4_col2, #T_70e26_row4_col6, #T_70e26_row4_col7, #T_70e26_row5_col0, #T_70e26_row5_col3, #T_70e26_row5_col4, #T_70e26_row5_col5 {\n",
       "  background-color: #fff7fb;\n",
       "  color: #000000;\n",
       "}\n",
       "#T_70e26_row0_col1, #T_70e26_row0_col2, #T_70e26_row0_col3, #T_70e26_row0_col4, #T_70e26_row0_col5, #T_70e26_row0_col6, #T_70e26_row0_col7, #T_70e26_row1_col3, #T_70e26_row2_col3, #T_70e26_row3_col3, #T_70e26_row4_col3 {\n",
       "  background-color: #023858;\n",
       "  color: #f1f1f1;\n",
       "}\n",
       "#T_70e26_row1_col1 {\n",
       "  background-color: #e0deed;\n",
       "  color: #000000;\n",
       "}\n",
       "#T_70e26_row1_col2, #T_70e26_row1_col5 {\n",
       "  background-color: #e5e1ef;\n",
       "  color: #000000;\n",
       "}\n",
       "#T_70e26_row1_col4 {\n",
       "  background-color: #c8cde4;\n",
       "  color: #000000;\n",
       "}\n",
       "#T_70e26_row1_col6 {\n",
       "  background-color: #ebe6f2;\n",
       "  color: #000000;\n",
       "}\n",
       "#T_70e26_row1_col7 {\n",
       "  background-color: #e7e3f0;\n",
       "  color: #000000;\n",
       "}\n",
       "#T_70e26_row2_col1 {\n",
       "  background-color: #0d75b3;\n",
       "  color: #f1f1f1;\n",
       "}\n",
       "#T_70e26_row2_col2 {\n",
       "  background-color: #0872b1;\n",
       "  color: #f1f1f1;\n",
       "}\n",
       "#T_70e26_row2_col4 {\n",
       "  background-color: #046198;\n",
       "  color: #f1f1f1;\n",
       "}\n",
       "#T_70e26_row2_col5 {\n",
       "  background-color: #0570b0;\n",
       "  color: #f1f1f1;\n",
       "}\n",
       "#T_70e26_row2_col6 {\n",
       "  background-color: #1077b4;\n",
       "  color: #f1f1f1;\n",
       "}\n",
       "#T_70e26_row2_col7 {\n",
       "  background-color: #04649d;\n",
       "  color: #f1f1f1;\n",
       "}\n",
       "#T_70e26_row3_col1 {\n",
       "  background-color: #cccfe5;\n",
       "  color: #000000;\n",
       "}\n",
       "#T_70e26_row3_col2 {\n",
       "  background-color: #c0c9e2;\n",
       "  color: #000000;\n",
       "}\n",
       "#T_70e26_row3_col4 {\n",
       "  background-color: #b3c3de;\n",
       "  color: #000000;\n",
       "}\n",
       "#T_70e26_row3_col5 {\n",
       "  background-color: #d9d8ea;\n",
       "  color: #000000;\n",
       "}\n",
       "#T_70e26_row3_col6 {\n",
       "  background-color: #dddbec;\n",
       "  color: #000000;\n",
       "}\n",
       "#T_70e26_row3_col7 {\n",
       "  background-color: #bdc8e1;\n",
       "  color: #000000;\n",
       "}\n",
       "#T_70e26_row4_col4 {\n",
       "  background-color: #e2dfee;\n",
       "  color: #000000;\n",
       "}\n",
       "#T_70e26_row4_col5, #T_70e26_row5_col7 {\n",
       "  background-color: #fdf5fa;\n",
       "  color: #000000;\n",
       "}\n",
       "#T_70e26_row5_col1 {\n",
       "  background-color: #fef6fb;\n",
       "  color: #000000;\n",
       "}\n",
       "#T_70e26_row5_col2 {\n",
       "  background-color: #fbf3f9;\n",
       "  color: #000000;\n",
       "}\n",
       "#T_70e26_row5_col6 {\n",
       "  background-color: #fef6fa;\n",
       "  color: #000000;\n",
       "}\n",
       "</style>\n",
       "<table id=\"T_70e26_\">\n",
       "  <thead>\n",
       "    <tr>\n",
       "      <th class=\"blank level0\" >&nbsp;</th>\n",
       "      <th class=\"col_heading level0 col0\" >count</th>\n",
       "      <th class=\"col_heading level0 col1\" >mean</th>\n",
       "      <th class=\"col_heading level0 col2\" >std</th>\n",
       "      <th class=\"col_heading level0 col3\" >min</th>\n",
       "      <th class=\"col_heading level0 col4\" >25%</th>\n",
       "      <th class=\"col_heading level0 col5\" >50%</th>\n",
       "      <th class=\"col_heading level0 col6\" >75%</th>\n",
       "      <th class=\"col_heading level0 col7\" >max</th>\n",
       "    </tr>\n",
       "  </thead>\n",
       "  <tbody>\n",
       "    <tr>\n",
       "      <th id=\"T_70e26_level0_row0\" class=\"row_heading level0 row0\" >ВВП</th>\n",
       "      <td id=\"T_70e26_row0_col0\" class=\"data row0 col0\" >144.000000</td>\n",
       "      <td id=\"T_70e26_row0_col1\" class=\"data row0 col1\" >5723.528148</td>\n",
       "      <td id=\"T_70e26_row0_col2\" class=\"data row0 col2\" >22062.383913</td>\n",
       "      <td id=\"T_70e26_row0_col3\" class=\"data row0 col3\" >4.888300</td>\n",
       "      <td id=\"T_70e26_row0_col4\" class=\"data row0 col4\" >149.582883</td>\n",
       "      <td id=\"T_70e26_row0_col5\" class=\"data row0 col5\" >600.940951</td>\n",
       "      <td id=\"T_70e26_row0_col6\" class=\"data row0 col6\" >3358.330926</td>\n",
       "      <td id=\"T_70e26_row0_col7\" class=\"data row0 col7\" >209530.300000</td>\n",
       "    </tr>\n",
       "    <tr>\n",
       "      <th id=\"T_70e26_level0_row1\" class=\"row_heading level0 row1\" >Конечное потребление правительства</th>\n",
       "      <td id=\"T_70e26_row1_col0\" class=\"data row1 col0\" >144.000000</td>\n",
       "      <td id=\"T_70e26_row1_col1\" class=\"data row1 col1\" >1013.310023</td>\n",
       "      <td id=\"T_70e26_row1_col2\" class=\"data row1 col2\" >3534.923599</td>\n",
       "      <td id=\"T_70e26_row1_col3\" class=\"data row1 col3\" >1.165073</td>\n",
       "      <td id=\"T_70e26_row1_col4\" class=\"data row1 col4\" >22.846622</td>\n",
       "      <td id=\"T_70e26_row1_col5\" class=\"data row1 col5\" >92.207360</td>\n",
       "      <td id=\"T_70e26_row1_col6\" class=\"data row1 col6\" >447.654931</td>\n",
       "      <td id=\"T_70e26_row1_col7\" class=\"data row1 col7\" >30779.900000</td>\n",
       "    </tr>\n",
       "    <tr>\n",
       "      <th id=\"T_70e26_level0_row2\" class=\"row_heading level0 row2\" >Конечное потребление</th>\n",
       "      <td id=\"T_70e26_row2_col0\" class=\"data row2 col0\" >144.000000</td>\n",
       "      <td id=\"T_70e26_row2_col1\" class=\"data row2 col1\" >4182.281232</td>\n",
       "      <td id=\"T_70e26_row2_col2\" class=\"data row2 col2\" >16357.247668</td>\n",
       "      <td id=\"T_70e26_row2_col3\" class=\"data row2 col3\" >6.007772</td>\n",
       "      <td id=\"T_70e26_row2_col4\" class=\"data row2 col4\" >120.883028</td>\n",
       "      <td id=\"T_70e26_row2_col5\" class=\"data row2 col5\" >449.124967</td>\n",
       "      <td id=\"T_70e26_row2_col6\" class=\"data row2 col6\" >2429.371283</td>\n",
       "      <td id=\"T_70e26_row2_col7\" class=\"data row2 col7\" >171255.550000</td>\n",
       "    </tr>\n",
       "    <tr>\n",
       "      <th id=\"T_70e26_level0_row3\" class=\"row_heading level0 row3\" >Валовое накопление капитала</th>\n",
       "      <td id=\"T_70e26_row3_col0\" class=\"data row3 col0\" >144.000000</td>\n",
       "      <td id=\"T_70e26_row3_col1\" class=\"data row3 col1\" >1510.025435</td>\n",
       "      <td id=\"T_70e26_row3_col2\" class=\"data row3 col2\" >6600.827456</td>\n",
       "      <td id=\"T_70e26_row3_col3\" class=\"data row3 col3\" >1.213046</td>\n",
       "      <td id=\"T_70e26_row3_col4\" class=\"data row3 col4\" >33.547193</td>\n",
       "      <td id=\"T_70e26_row3_col5\" class=\"data row3 col5\" >124.453141</td>\n",
       "      <td id=\"T_70e26_row3_col6\" class=\"data row3 col6\" >657.440180</td>\n",
       "      <td id=\"T_70e26_row3_col7\" class=\"data row3 col7\" >64108.596105</td>\n",
       "    </tr>\n",
       "    <tr>\n",
       "      <th id=\"T_70e26_level0_row4\" class=\"row_heading level0 row4\" >Уровень безработицы</th>\n",
       "      <td id=\"T_70e26_row4_col0\" class=\"data row4 col0\" >144.000000</td>\n",
       "      <td id=\"T_70e26_row4_col1\" class=\"data row4 col1\" >8.035000</td>\n",
       "      <td id=\"T_70e26_row4_col2\" class=\"data row4 col2\" >5.717388</td>\n",
       "      <td id=\"T_70e26_row4_col3\" class=\"data row4 col3\" >0.214000</td>\n",
       "      <td id=\"T_70e26_row4_col4\" class=\"data row4 col4\" >4.323250</td>\n",
       "      <td id=\"T_70e26_row4_col5\" class=\"data row4 col5\" >6.342500</td>\n",
       "      <td id=\"T_70e26_row4_col6\" class=\"data row4 col6\" >9.465000</td>\n",
       "      <td id=\"T_70e26_row4_col7\" class=\"data row4 col7\" >29.219999</td>\n",
       "    </tr>\n",
       "    <tr>\n",
       "      <th id=\"T_70e26_level0_row5\" class=\"row_heading level0 row5\" >Чистый экспорт</th>\n",
       "      <td id=\"T_70e26_row5_col0\" class=\"data row5 col0\" >144.000000</td>\n",
       "      <td id=\"T_70e26_row5_col1\" class=\"data row5 col1\" >34.340246</td>\n",
       "      <td id=\"T_70e26_row5_col2\" class=\"data row5 col2\" >686.503120</td>\n",
       "      <td id=\"T_70e26_row5_col3\" class=\"data row5 col3\" >-6511.870000</td>\n",
       "      <td id=\"T_70e26_row5_col4\" class=\"data row5 col4\" >-25.255189</td>\n",
       "      <td id=\"T_70e26_row5_col5\" class=\"data row5 col5\" >-4.729336</td>\n",
       "      <td id=\"T_70e26_row5_col6\" class=\"data row5 col6\" >41.007537</td>\n",
       "      <td id=\"T_70e26_row5_col7\" class=\"data row5 col7\" >3661.446899</td>\n",
       "    </tr>\n",
       "  </tbody>\n",
       "</table>\n"
      ],
      "text/plain": [
       "<pandas.io.formats.style.Styler at 0x21f6c168970>"
      ]
     },
     "execution_count": 20,
     "metadata": {},
     "output_type": "execute_result"
    }
   ],
   "source": [
    "df.describe().transpose().style.background_gradient()"
   ]
  },
  {
   "cell_type": "markdown",
   "id": "fc862ee2",
   "metadata": {},
   "source": [
    "### 2- Корреляция мы можем рассчитать корреляцию Пирсона (Correlation - we can calculate the Pearson Correlation)"
   ]
  },
  {
   "cell_type": "code",
   "execution_count": 21,
   "id": "8a0faa9f",
   "metadata": {
    "scrolled": false
   },
   "outputs": [
    {
     "data": {
      "application/vnd.plotly.v1+json": {
       "config": {
        "plotlyServerURL": "https://plotly.com"
       },
       "data": [
        {
         "coloraxis": "coloraxis",
         "hovertemplate": "x: %{x}<br>y: %{y}<br>color: %{z}<extra></extra>",
         "name": "0",
         "texttemplate": "%{z:.3f}",
         "type": "heatmap",
         "x": [
          "ВВП",
          "Конечное потребление правительства",
          "Конечное потребление",
          "Валовое накопление капитала",
          "Уровень безработицы",
          "Чистый экспорт"
         ],
         "xaxis": "x",
         "y": [
          "ВВП",
          "Конечное потребление правительства",
          "Конечное потребление",
          "Валовое накопление капитала",
          "Уровень безработицы",
          "Чистый экспорт"
         ],
         "yaxis": "y",
         "z": [
          [
           1,
           0.9894580506341173,
           0.9858392514484824,
           0.9364852518778667,
           -0.062291031216408,
           -0.3312057126259699
          ],
          [
           0.9894580506341173,
           1,
           0.9676311072608812,
           0.9387015005968851,
           -0.07085016159075423,
           -0.24936377982645533
          ],
          [
           0.9858392514484824,
           0.9676311072608812,
           1,
           0.8649955282617623,
           -0.05286062615189616,
           -0.4644186412469307
          ],
          [
           0.9364852518778667,
           0.9387015005968851,
           0.8649955282617623,
           1,
           -0.06957815448901156,
           -0.0472661939991575
          ],
          [
           -0.062291031216408,
           -0.07085016159075423,
           -0.05286062615189616,
           -0.06957815448901156,
           1,
           -0.08133902113904015
          ],
          [
           -0.3312057126259699,
           -0.24936377982645533,
           -0.4644186412469307,
           -0.0472661939991575,
           -0.08133902113904015,
           1
          ]
         ]
        }
       ],
       "layout": {
        "coloraxis": {
         "colorscale": [
          [
           0,
           "rgb(255,255,229)"
          ],
          [
           0.125,
           "rgb(247,252,185)"
          ],
          [
           0.25,
           "rgb(217,240,163)"
          ],
          [
           0.375,
           "rgb(173,221,142)"
          ],
          [
           0.5,
           "rgb(120,198,121)"
          ],
          [
           0.625,
           "rgb(65,171,93)"
          ],
          [
           0.75,
           "rgb(35,132,67)"
          ],
          [
           0.875,
           "rgb(0,104,55)"
          ],
          [
           1,
           "rgb(0,69,41)"
          ]
         ]
        },
        "template": {
         "data": {
          "bar": [
           {
            "error_x": {
             "color": "#2a3f5f"
            },
            "error_y": {
             "color": "#2a3f5f"
            },
            "marker": {
             "line": {
              "color": "#E5ECF6",
              "width": 0.5
             },
             "pattern": {
              "fillmode": "overlay",
              "size": 10,
              "solidity": 0.2
             }
            },
            "type": "bar"
           }
          ],
          "barpolar": [
           {
            "marker": {
             "line": {
              "color": "#E5ECF6",
              "width": 0.5
             },
             "pattern": {
              "fillmode": "overlay",
              "size": 10,
              "solidity": 0.2
             }
            },
            "type": "barpolar"
           }
          ],
          "carpet": [
           {
            "aaxis": {
             "endlinecolor": "#2a3f5f",
             "gridcolor": "white",
             "linecolor": "white",
             "minorgridcolor": "white",
             "startlinecolor": "#2a3f5f"
            },
            "baxis": {
             "endlinecolor": "#2a3f5f",
             "gridcolor": "white",
             "linecolor": "white",
             "minorgridcolor": "white",
             "startlinecolor": "#2a3f5f"
            },
            "type": "carpet"
           }
          ],
          "choropleth": [
           {
            "colorbar": {
             "outlinewidth": 0,
             "ticks": ""
            },
            "type": "choropleth"
           }
          ],
          "contour": [
           {
            "colorbar": {
             "outlinewidth": 0,
             "ticks": ""
            },
            "colorscale": [
             [
              0,
              "#0d0887"
             ],
             [
              0.1111111111111111,
              "#46039f"
             ],
             [
              0.2222222222222222,
              "#7201a8"
             ],
             [
              0.3333333333333333,
              "#9c179e"
             ],
             [
              0.4444444444444444,
              "#bd3786"
             ],
             [
              0.5555555555555556,
              "#d8576b"
             ],
             [
              0.6666666666666666,
              "#ed7953"
             ],
             [
              0.7777777777777778,
              "#fb9f3a"
             ],
             [
              0.8888888888888888,
              "#fdca26"
             ],
             [
              1,
              "#f0f921"
             ]
            ],
            "type": "contour"
           }
          ],
          "contourcarpet": [
           {
            "colorbar": {
             "outlinewidth": 0,
             "ticks": ""
            },
            "type": "contourcarpet"
           }
          ],
          "heatmap": [
           {
            "colorbar": {
             "outlinewidth": 0,
             "ticks": ""
            },
            "colorscale": [
             [
              0,
              "#0d0887"
             ],
             [
              0.1111111111111111,
              "#46039f"
             ],
             [
              0.2222222222222222,
              "#7201a8"
             ],
             [
              0.3333333333333333,
              "#9c179e"
             ],
             [
              0.4444444444444444,
              "#bd3786"
             ],
             [
              0.5555555555555556,
              "#d8576b"
             ],
             [
              0.6666666666666666,
              "#ed7953"
             ],
             [
              0.7777777777777778,
              "#fb9f3a"
             ],
             [
              0.8888888888888888,
              "#fdca26"
             ],
             [
              1,
              "#f0f921"
             ]
            ],
            "type": "heatmap"
           }
          ],
          "heatmapgl": [
           {
            "colorbar": {
             "outlinewidth": 0,
             "ticks": ""
            },
            "colorscale": [
             [
              0,
              "#0d0887"
             ],
             [
              0.1111111111111111,
              "#46039f"
             ],
             [
              0.2222222222222222,
              "#7201a8"
             ],
             [
              0.3333333333333333,
              "#9c179e"
             ],
             [
              0.4444444444444444,
              "#bd3786"
             ],
             [
              0.5555555555555556,
              "#d8576b"
             ],
             [
              0.6666666666666666,
              "#ed7953"
             ],
             [
              0.7777777777777778,
              "#fb9f3a"
             ],
             [
              0.8888888888888888,
              "#fdca26"
             ],
             [
              1,
              "#f0f921"
             ]
            ],
            "type": "heatmapgl"
           }
          ],
          "histogram": [
           {
            "marker": {
             "pattern": {
              "fillmode": "overlay",
              "size": 10,
              "solidity": 0.2
             }
            },
            "type": "histogram"
           }
          ],
          "histogram2d": [
           {
            "colorbar": {
             "outlinewidth": 0,
             "ticks": ""
            },
            "colorscale": [
             [
              0,
              "#0d0887"
             ],
             [
              0.1111111111111111,
              "#46039f"
             ],
             [
              0.2222222222222222,
              "#7201a8"
             ],
             [
              0.3333333333333333,
              "#9c179e"
             ],
             [
              0.4444444444444444,
              "#bd3786"
             ],
             [
              0.5555555555555556,
              "#d8576b"
             ],
             [
              0.6666666666666666,
              "#ed7953"
             ],
             [
              0.7777777777777778,
              "#fb9f3a"
             ],
             [
              0.8888888888888888,
              "#fdca26"
             ],
             [
              1,
              "#f0f921"
             ]
            ],
            "type": "histogram2d"
           }
          ],
          "histogram2dcontour": [
           {
            "colorbar": {
             "outlinewidth": 0,
             "ticks": ""
            },
            "colorscale": [
             [
              0,
              "#0d0887"
             ],
             [
              0.1111111111111111,
              "#46039f"
             ],
             [
              0.2222222222222222,
              "#7201a8"
             ],
             [
              0.3333333333333333,
              "#9c179e"
             ],
             [
              0.4444444444444444,
              "#bd3786"
             ],
             [
              0.5555555555555556,
              "#d8576b"
             ],
             [
              0.6666666666666666,
              "#ed7953"
             ],
             [
              0.7777777777777778,
              "#fb9f3a"
             ],
             [
              0.8888888888888888,
              "#fdca26"
             ],
             [
              1,
              "#f0f921"
             ]
            ],
            "type": "histogram2dcontour"
           }
          ],
          "mesh3d": [
           {
            "colorbar": {
             "outlinewidth": 0,
             "ticks": ""
            },
            "type": "mesh3d"
           }
          ],
          "parcoords": [
           {
            "line": {
             "colorbar": {
              "outlinewidth": 0,
              "ticks": ""
             }
            },
            "type": "parcoords"
           }
          ],
          "pie": [
           {
            "automargin": true,
            "type": "pie"
           }
          ],
          "scatter": [
           {
            "fillpattern": {
             "fillmode": "overlay",
             "size": 10,
             "solidity": 0.2
            },
            "type": "scatter"
           }
          ],
          "scatter3d": [
           {
            "line": {
             "colorbar": {
              "outlinewidth": 0,
              "ticks": ""
             }
            },
            "marker": {
             "colorbar": {
              "outlinewidth": 0,
              "ticks": ""
             }
            },
            "type": "scatter3d"
           }
          ],
          "scattercarpet": [
           {
            "marker": {
             "colorbar": {
              "outlinewidth": 0,
              "ticks": ""
             }
            },
            "type": "scattercarpet"
           }
          ],
          "scattergeo": [
           {
            "marker": {
             "colorbar": {
              "outlinewidth": 0,
              "ticks": ""
             }
            },
            "type": "scattergeo"
           }
          ],
          "scattergl": [
           {
            "marker": {
             "colorbar": {
              "outlinewidth": 0,
              "ticks": ""
             }
            },
            "type": "scattergl"
           }
          ],
          "scattermapbox": [
           {
            "marker": {
             "colorbar": {
              "outlinewidth": 0,
              "ticks": ""
             }
            },
            "type": "scattermapbox"
           }
          ],
          "scatterpolar": [
           {
            "marker": {
             "colorbar": {
              "outlinewidth": 0,
              "ticks": ""
             }
            },
            "type": "scatterpolar"
           }
          ],
          "scatterpolargl": [
           {
            "marker": {
             "colorbar": {
              "outlinewidth": 0,
              "ticks": ""
             }
            },
            "type": "scatterpolargl"
           }
          ],
          "scatterternary": [
           {
            "marker": {
             "colorbar": {
              "outlinewidth": 0,
              "ticks": ""
             }
            },
            "type": "scatterternary"
           }
          ],
          "surface": [
           {
            "colorbar": {
             "outlinewidth": 0,
             "ticks": ""
            },
            "colorscale": [
             [
              0,
              "#0d0887"
             ],
             [
              0.1111111111111111,
              "#46039f"
             ],
             [
              0.2222222222222222,
              "#7201a8"
             ],
             [
              0.3333333333333333,
              "#9c179e"
             ],
             [
              0.4444444444444444,
              "#bd3786"
             ],
             [
              0.5555555555555556,
              "#d8576b"
             ],
             [
              0.6666666666666666,
              "#ed7953"
             ],
             [
              0.7777777777777778,
              "#fb9f3a"
             ],
             [
              0.8888888888888888,
              "#fdca26"
             ],
             [
              1,
              "#f0f921"
             ]
            ],
            "type": "surface"
           }
          ],
          "table": [
           {
            "cells": {
             "fill": {
              "color": "#EBF0F8"
             },
             "line": {
              "color": "white"
             }
            },
            "header": {
             "fill": {
              "color": "#C8D4E3"
             },
             "line": {
              "color": "white"
             }
            },
            "type": "table"
           }
          ]
         },
         "layout": {
          "annotationdefaults": {
           "arrowcolor": "#2a3f5f",
           "arrowhead": 0,
           "arrowwidth": 1
          },
          "autotypenumbers": "strict",
          "coloraxis": {
           "colorbar": {
            "outlinewidth": 0,
            "ticks": ""
           }
          },
          "colorscale": {
           "diverging": [
            [
             0,
             "#8e0152"
            ],
            [
             0.1,
             "#c51b7d"
            ],
            [
             0.2,
             "#de77ae"
            ],
            [
             0.3,
             "#f1b6da"
            ],
            [
             0.4,
             "#fde0ef"
            ],
            [
             0.5,
             "#f7f7f7"
            ],
            [
             0.6,
             "#e6f5d0"
            ],
            [
             0.7,
             "#b8e186"
            ],
            [
             0.8,
             "#7fbc41"
            ],
            [
             0.9,
             "#4d9221"
            ],
            [
             1,
             "#276419"
            ]
           ],
           "sequential": [
            [
             0,
             "#0d0887"
            ],
            [
             0.1111111111111111,
             "#46039f"
            ],
            [
             0.2222222222222222,
             "#7201a8"
            ],
            [
             0.3333333333333333,
             "#9c179e"
            ],
            [
             0.4444444444444444,
             "#bd3786"
            ],
            [
             0.5555555555555556,
             "#d8576b"
            ],
            [
             0.6666666666666666,
             "#ed7953"
            ],
            [
             0.7777777777777778,
             "#fb9f3a"
            ],
            [
             0.8888888888888888,
             "#fdca26"
            ],
            [
             1,
             "#f0f921"
            ]
           ],
           "sequentialminus": [
            [
             0,
             "#0d0887"
            ],
            [
             0.1111111111111111,
             "#46039f"
            ],
            [
             0.2222222222222222,
             "#7201a8"
            ],
            [
             0.3333333333333333,
             "#9c179e"
            ],
            [
             0.4444444444444444,
             "#bd3786"
            ],
            [
             0.5555555555555556,
             "#d8576b"
            ],
            [
             0.6666666666666666,
             "#ed7953"
            ],
            [
             0.7777777777777778,
             "#fb9f3a"
            ],
            [
             0.8888888888888888,
             "#fdca26"
            ],
            [
             1,
             "#f0f921"
            ]
           ]
          },
          "colorway": [
           "#636efa",
           "#EF553B",
           "#00cc96",
           "#ab63fa",
           "#FFA15A",
           "#19d3f3",
           "#FF6692",
           "#B6E880",
           "#FF97FF",
           "#FECB52"
          ],
          "font": {
           "color": "#2a3f5f"
          },
          "geo": {
           "bgcolor": "white",
           "lakecolor": "white",
           "landcolor": "#E5ECF6",
           "showlakes": true,
           "showland": true,
           "subunitcolor": "white"
          },
          "hoverlabel": {
           "align": "left"
          },
          "hovermode": "closest",
          "mapbox": {
           "style": "light"
          },
          "paper_bgcolor": "white",
          "plot_bgcolor": "#E5ECF6",
          "polar": {
           "angularaxis": {
            "gridcolor": "white",
            "linecolor": "white",
            "ticks": ""
           },
           "bgcolor": "#E5ECF6",
           "radialaxis": {
            "gridcolor": "white",
            "linecolor": "white",
            "ticks": ""
           }
          },
          "scene": {
           "xaxis": {
            "backgroundcolor": "#E5ECF6",
            "gridcolor": "white",
            "gridwidth": 2,
            "linecolor": "white",
            "showbackground": true,
            "ticks": "",
            "zerolinecolor": "white"
           },
           "yaxis": {
            "backgroundcolor": "#E5ECF6",
            "gridcolor": "white",
            "gridwidth": 2,
            "linecolor": "white",
            "showbackground": true,
            "ticks": "",
            "zerolinecolor": "white"
           },
           "zaxis": {
            "backgroundcolor": "#E5ECF6",
            "gridcolor": "white",
            "gridwidth": 2,
            "linecolor": "white",
            "showbackground": true,
            "ticks": "",
            "zerolinecolor": "white"
           }
          },
          "shapedefaults": {
           "line": {
            "color": "#2a3f5f"
           }
          },
          "ternary": {
           "aaxis": {
            "gridcolor": "white",
            "linecolor": "white",
            "ticks": ""
           },
           "baxis": {
            "gridcolor": "white",
            "linecolor": "white",
            "ticks": ""
           },
           "bgcolor": "#E5ECF6",
           "caxis": {
            "gridcolor": "white",
            "linecolor": "white",
            "ticks": ""
           }
          },
          "title": {
           "x": 0.05
          },
          "xaxis": {
           "automargin": true,
           "gridcolor": "white",
           "linecolor": "white",
           "ticks": "",
           "title": {
            "standoff": 15
           },
           "zerolinecolor": "white",
           "zerolinewidth": 2
          },
          "yaxis": {
           "automargin": true,
           "gridcolor": "white",
           "linecolor": "white",
           "ticks": "",
           "title": {
            "standoff": 15
           },
           "zerolinecolor": "white",
           "zerolinewidth": 2
          }
         }
        },
        "title": {
         "font": {
          "size": 25
         },
         "text": "<b>Корреляция</b>",
         "x": 0.5
        },
        "width": 800,
        "xaxis": {
         "anchor": "y",
         "constrain": "domain",
         "domain": [
          0,
          1
         ],
         "scaleanchor": "y"
        },
        "yaxis": {
         "anchor": "x",
         "autorange": "reversed",
         "constrain": "domain",
         "domain": [
          0,
          1
         ]
        }
       }
      },
      "text/html": [
       "<div>                            <div id=\"8441698c-3b57-4407-bd70-7a12ca876e79\" class=\"plotly-graph-div\" style=\"height:525px; width:800px;\"></div>            <script type=\"text/javascript\">                require([\"plotly\"], function(Plotly) {                    window.PLOTLYENV=window.PLOTLYENV || {};                                    if (document.getElementById(\"8441698c-3b57-4407-bd70-7a12ca876e79\")) {                    Plotly.newPlot(                        \"8441698c-3b57-4407-bd70-7a12ca876e79\",                        [{\"coloraxis\":\"coloraxis\",\"name\":\"0\",\"texttemplate\":\"%{z:.3f}\",\"x\":[\"\\u0412\\u0412\\u041f\",\"\\u041a\\u043e\\u043d\\u0435\\u0447\\u043d\\u043e\\u0435 \\u043f\\u043e\\u0442\\u0440\\u0435\\u0431\\u043b\\u0435\\u043d\\u0438\\u0435 \\u043f\\u0440\\u0430\\u0432\\u0438\\u0442\\u0435\\u043b\\u044c\\u0441\\u0442\\u0432\\u0430\",\"\\u041a\\u043e\\u043d\\u0435\\u0447\\u043d\\u043e\\u0435 \\u043f\\u043e\\u0442\\u0440\\u0435\\u0431\\u043b\\u0435\\u043d\\u0438\\u0435\",\"\\u0412\\u0430\\u043b\\u043e\\u0432\\u043e\\u0435 \\u043d\\u0430\\u043a\\u043e\\u043f\\u043b\\u0435\\u043d\\u0438\\u0435 \\u043a\\u0430\\u043f\\u0438\\u0442\\u0430\\u043b\\u0430\",\"\\u0423\\u0440\\u043e\\u0432\\u0435\\u043d\\u044c \\u0431\\u0435\\u0437\\u0440\\u0430\\u0431\\u043e\\u0442\\u0438\\u0446\\u044b\",\"\\u0427\\u0438\\u0441\\u0442\\u044b\\u0439 \\u044d\\u043a\\u0441\\u043f\\u043e\\u0440\\u0442\"],\"y\":[\"\\u0412\\u0412\\u041f\",\"\\u041a\\u043e\\u043d\\u0435\\u0447\\u043d\\u043e\\u0435 \\u043f\\u043e\\u0442\\u0440\\u0435\\u0431\\u043b\\u0435\\u043d\\u0438\\u0435 \\u043f\\u0440\\u0430\\u0432\\u0438\\u0442\\u0435\\u043b\\u044c\\u0441\\u0442\\u0432\\u0430\",\"\\u041a\\u043e\\u043d\\u0435\\u0447\\u043d\\u043e\\u0435 \\u043f\\u043e\\u0442\\u0440\\u0435\\u0431\\u043b\\u0435\\u043d\\u0438\\u0435\",\"\\u0412\\u0430\\u043b\\u043e\\u0432\\u043e\\u0435 \\u043d\\u0430\\u043a\\u043e\\u043f\\u043b\\u0435\\u043d\\u0438\\u0435 \\u043a\\u0430\\u043f\\u0438\\u0442\\u0430\\u043b\\u0430\",\"\\u0423\\u0440\\u043e\\u0432\\u0435\\u043d\\u044c \\u0431\\u0435\\u0437\\u0440\\u0430\\u0431\\u043e\\u0442\\u0438\\u0446\\u044b\",\"\\u0427\\u0438\\u0441\\u0442\\u044b\\u0439 \\u044d\\u043a\\u0441\\u043f\\u043e\\u0440\\u0442\"],\"z\":[[1.0,0.9894580506341173,0.9858392514484824,0.9364852518778667,-0.062291031216408,-0.3312057126259699],[0.9894580506341173,1.0,0.9676311072608812,0.9387015005968851,-0.07085016159075423,-0.24936377982645533],[0.9858392514484824,0.9676311072608812,1.0,0.8649955282617623,-0.05286062615189616,-0.4644186412469307],[0.9364852518778667,0.9387015005968851,0.8649955282617623,1.0,-0.06957815448901156,-0.0472661939991575],[-0.062291031216408,-0.07085016159075423,-0.05286062615189616,-0.06957815448901156,1.0,-0.08133902113904015],[-0.3312057126259699,-0.24936377982645533,-0.4644186412469307,-0.0472661939991575,-0.08133902113904015,1.0]],\"type\":\"heatmap\",\"xaxis\":\"x\",\"yaxis\":\"y\",\"hovertemplate\":\"x: %{x}<br>y: %{y}<br>color: %{z}<extra></extra>\"}],                        {\"template\":{\"data\":{\"histogram2dcontour\":[{\"type\":\"histogram2dcontour\",\"colorbar\":{\"outlinewidth\":0,\"ticks\":\"\"},\"colorscale\":[[0.0,\"#0d0887\"],[0.1111111111111111,\"#46039f\"],[0.2222222222222222,\"#7201a8\"],[0.3333333333333333,\"#9c179e\"],[0.4444444444444444,\"#bd3786\"],[0.5555555555555556,\"#d8576b\"],[0.6666666666666666,\"#ed7953\"],[0.7777777777777778,\"#fb9f3a\"],[0.8888888888888888,\"#fdca26\"],[1.0,\"#f0f921\"]]}],\"choropleth\":[{\"type\":\"choropleth\",\"colorbar\":{\"outlinewidth\":0,\"ticks\":\"\"}}],\"histogram2d\":[{\"type\":\"histogram2d\",\"colorbar\":{\"outlinewidth\":0,\"ticks\":\"\"},\"colorscale\":[[0.0,\"#0d0887\"],[0.1111111111111111,\"#46039f\"],[0.2222222222222222,\"#7201a8\"],[0.3333333333333333,\"#9c179e\"],[0.4444444444444444,\"#bd3786\"],[0.5555555555555556,\"#d8576b\"],[0.6666666666666666,\"#ed7953\"],[0.7777777777777778,\"#fb9f3a\"],[0.8888888888888888,\"#fdca26\"],[1.0,\"#f0f921\"]]}],\"heatmap\":[{\"type\":\"heatmap\",\"colorbar\":{\"outlinewidth\":0,\"ticks\":\"\"},\"colorscale\":[[0.0,\"#0d0887\"],[0.1111111111111111,\"#46039f\"],[0.2222222222222222,\"#7201a8\"],[0.3333333333333333,\"#9c179e\"],[0.4444444444444444,\"#bd3786\"],[0.5555555555555556,\"#d8576b\"],[0.6666666666666666,\"#ed7953\"],[0.7777777777777778,\"#fb9f3a\"],[0.8888888888888888,\"#fdca26\"],[1.0,\"#f0f921\"]]}],\"heatmapgl\":[{\"type\":\"heatmapgl\",\"colorbar\":{\"outlinewidth\":0,\"ticks\":\"\"},\"colorscale\":[[0.0,\"#0d0887\"],[0.1111111111111111,\"#46039f\"],[0.2222222222222222,\"#7201a8\"],[0.3333333333333333,\"#9c179e\"],[0.4444444444444444,\"#bd3786\"],[0.5555555555555556,\"#d8576b\"],[0.6666666666666666,\"#ed7953\"],[0.7777777777777778,\"#fb9f3a\"],[0.8888888888888888,\"#fdca26\"],[1.0,\"#f0f921\"]]}],\"contourcarpet\":[{\"type\":\"contourcarpet\",\"colorbar\":{\"outlinewidth\":0,\"ticks\":\"\"}}],\"contour\":[{\"type\":\"contour\",\"colorbar\":{\"outlinewidth\":0,\"ticks\":\"\"},\"colorscale\":[[0.0,\"#0d0887\"],[0.1111111111111111,\"#46039f\"],[0.2222222222222222,\"#7201a8\"],[0.3333333333333333,\"#9c179e\"],[0.4444444444444444,\"#bd3786\"],[0.5555555555555556,\"#d8576b\"],[0.6666666666666666,\"#ed7953\"],[0.7777777777777778,\"#fb9f3a\"],[0.8888888888888888,\"#fdca26\"],[1.0,\"#f0f921\"]]}],\"surface\":[{\"type\":\"surface\",\"colorbar\":{\"outlinewidth\":0,\"ticks\":\"\"},\"colorscale\":[[0.0,\"#0d0887\"],[0.1111111111111111,\"#46039f\"],[0.2222222222222222,\"#7201a8\"],[0.3333333333333333,\"#9c179e\"],[0.4444444444444444,\"#bd3786\"],[0.5555555555555556,\"#d8576b\"],[0.6666666666666666,\"#ed7953\"],[0.7777777777777778,\"#fb9f3a\"],[0.8888888888888888,\"#fdca26\"],[1.0,\"#f0f921\"]]}],\"mesh3d\":[{\"type\":\"mesh3d\",\"colorbar\":{\"outlinewidth\":0,\"ticks\":\"\"}}],\"scatter\":[{\"fillpattern\":{\"fillmode\":\"overlay\",\"size\":10,\"solidity\":0.2},\"type\":\"scatter\"}],\"parcoords\":[{\"type\":\"parcoords\",\"line\":{\"colorbar\":{\"outlinewidth\":0,\"ticks\":\"\"}}}],\"scatterpolargl\":[{\"type\":\"scatterpolargl\",\"marker\":{\"colorbar\":{\"outlinewidth\":0,\"ticks\":\"\"}}}],\"bar\":[{\"error_x\":{\"color\":\"#2a3f5f\"},\"error_y\":{\"color\":\"#2a3f5f\"},\"marker\":{\"line\":{\"color\":\"#E5ECF6\",\"width\":0.5},\"pattern\":{\"fillmode\":\"overlay\",\"size\":10,\"solidity\":0.2}},\"type\":\"bar\"}],\"scattergeo\":[{\"type\":\"scattergeo\",\"marker\":{\"colorbar\":{\"outlinewidth\":0,\"ticks\":\"\"}}}],\"scatterpolar\":[{\"type\":\"scatterpolar\",\"marker\":{\"colorbar\":{\"outlinewidth\":0,\"ticks\":\"\"}}}],\"histogram\":[{\"marker\":{\"pattern\":{\"fillmode\":\"overlay\",\"size\":10,\"solidity\":0.2}},\"type\":\"histogram\"}],\"scattergl\":[{\"type\":\"scattergl\",\"marker\":{\"colorbar\":{\"outlinewidth\":0,\"ticks\":\"\"}}}],\"scatter3d\":[{\"type\":\"scatter3d\",\"line\":{\"colorbar\":{\"outlinewidth\":0,\"ticks\":\"\"}},\"marker\":{\"colorbar\":{\"outlinewidth\":0,\"ticks\":\"\"}}}],\"scattermapbox\":[{\"type\":\"scattermapbox\",\"marker\":{\"colorbar\":{\"outlinewidth\":0,\"ticks\":\"\"}}}],\"scatterternary\":[{\"type\":\"scatterternary\",\"marker\":{\"colorbar\":{\"outlinewidth\":0,\"ticks\":\"\"}}}],\"scattercarpet\":[{\"type\":\"scattercarpet\",\"marker\":{\"colorbar\":{\"outlinewidth\":0,\"ticks\":\"\"}}}],\"carpet\":[{\"aaxis\":{\"endlinecolor\":\"#2a3f5f\",\"gridcolor\":\"white\",\"linecolor\":\"white\",\"minorgridcolor\":\"white\",\"startlinecolor\":\"#2a3f5f\"},\"baxis\":{\"endlinecolor\":\"#2a3f5f\",\"gridcolor\":\"white\",\"linecolor\":\"white\",\"minorgridcolor\":\"white\",\"startlinecolor\":\"#2a3f5f\"},\"type\":\"carpet\"}],\"table\":[{\"cells\":{\"fill\":{\"color\":\"#EBF0F8\"},\"line\":{\"color\":\"white\"}},\"header\":{\"fill\":{\"color\":\"#C8D4E3\"},\"line\":{\"color\":\"white\"}},\"type\":\"table\"}],\"barpolar\":[{\"marker\":{\"line\":{\"color\":\"#E5ECF6\",\"width\":0.5},\"pattern\":{\"fillmode\":\"overlay\",\"size\":10,\"solidity\":0.2}},\"type\":\"barpolar\"}],\"pie\":[{\"automargin\":true,\"type\":\"pie\"}]},\"layout\":{\"autotypenumbers\":\"strict\",\"colorway\":[\"#636efa\",\"#EF553B\",\"#00cc96\",\"#ab63fa\",\"#FFA15A\",\"#19d3f3\",\"#FF6692\",\"#B6E880\",\"#FF97FF\",\"#FECB52\"],\"font\":{\"color\":\"#2a3f5f\"},\"hovermode\":\"closest\",\"hoverlabel\":{\"align\":\"left\"},\"paper_bgcolor\":\"white\",\"plot_bgcolor\":\"#E5ECF6\",\"polar\":{\"bgcolor\":\"#E5ECF6\",\"angularaxis\":{\"gridcolor\":\"white\",\"linecolor\":\"white\",\"ticks\":\"\"},\"radialaxis\":{\"gridcolor\":\"white\",\"linecolor\":\"white\",\"ticks\":\"\"}},\"ternary\":{\"bgcolor\":\"#E5ECF6\",\"aaxis\":{\"gridcolor\":\"white\",\"linecolor\":\"white\",\"ticks\":\"\"},\"baxis\":{\"gridcolor\":\"white\",\"linecolor\":\"white\",\"ticks\":\"\"},\"caxis\":{\"gridcolor\":\"white\",\"linecolor\":\"white\",\"ticks\":\"\"}},\"coloraxis\":{\"colorbar\":{\"outlinewidth\":0,\"ticks\":\"\"}},\"colorscale\":{\"sequential\":[[0.0,\"#0d0887\"],[0.1111111111111111,\"#46039f\"],[0.2222222222222222,\"#7201a8\"],[0.3333333333333333,\"#9c179e\"],[0.4444444444444444,\"#bd3786\"],[0.5555555555555556,\"#d8576b\"],[0.6666666666666666,\"#ed7953\"],[0.7777777777777778,\"#fb9f3a\"],[0.8888888888888888,\"#fdca26\"],[1.0,\"#f0f921\"]],\"sequentialminus\":[[0.0,\"#0d0887\"],[0.1111111111111111,\"#46039f\"],[0.2222222222222222,\"#7201a8\"],[0.3333333333333333,\"#9c179e\"],[0.4444444444444444,\"#bd3786\"],[0.5555555555555556,\"#d8576b\"],[0.6666666666666666,\"#ed7953\"],[0.7777777777777778,\"#fb9f3a\"],[0.8888888888888888,\"#fdca26\"],[1.0,\"#f0f921\"]],\"diverging\":[[0,\"#8e0152\"],[0.1,\"#c51b7d\"],[0.2,\"#de77ae\"],[0.3,\"#f1b6da\"],[0.4,\"#fde0ef\"],[0.5,\"#f7f7f7\"],[0.6,\"#e6f5d0\"],[0.7,\"#b8e186\"],[0.8,\"#7fbc41\"],[0.9,\"#4d9221\"],[1,\"#276419\"]]},\"xaxis\":{\"gridcolor\":\"white\",\"linecolor\":\"white\",\"ticks\":\"\",\"title\":{\"standoff\":15},\"zerolinecolor\":\"white\",\"automargin\":true,\"zerolinewidth\":2},\"yaxis\":{\"gridcolor\":\"white\",\"linecolor\":\"white\",\"ticks\":\"\",\"title\":{\"standoff\":15},\"zerolinecolor\":\"white\",\"automargin\":true,\"zerolinewidth\":2},\"scene\":{\"xaxis\":{\"backgroundcolor\":\"#E5ECF6\",\"gridcolor\":\"white\",\"linecolor\":\"white\",\"showbackground\":true,\"ticks\":\"\",\"zerolinecolor\":\"white\",\"gridwidth\":2},\"yaxis\":{\"backgroundcolor\":\"#E5ECF6\",\"gridcolor\":\"white\",\"linecolor\":\"white\",\"showbackground\":true,\"ticks\":\"\",\"zerolinecolor\":\"white\",\"gridwidth\":2},\"zaxis\":{\"backgroundcolor\":\"#E5ECF6\",\"gridcolor\":\"white\",\"linecolor\":\"white\",\"showbackground\":true,\"ticks\":\"\",\"zerolinecolor\":\"white\",\"gridwidth\":2}},\"shapedefaults\":{\"line\":{\"color\":\"#2a3f5f\"}},\"annotationdefaults\":{\"arrowcolor\":\"#2a3f5f\",\"arrowhead\":0,\"arrowwidth\":1},\"geo\":{\"bgcolor\":\"white\",\"landcolor\":\"#E5ECF6\",\"subunitcolor\":\"white\",\"showland\":true,\"showlakes\":true,\"lakecolor\":\"white\"},\"title\":{\"x\":0.05},\"mapbox\":{\"style\":\"light\"}}},\"xaxis\":{\"anchor\":\"y\",\"domain\":[0.0,1.0],\"scaleanchor\":\"y\",\"constrain\":\"domain\"},\"yaxis\":{\"anchor\":\"x\",\"domain\":[0.0,1.0],\"autorange\":\"reversed\",\"constrain\":\"domain\"},\"coloraxis\":{\"colorscale\":[[0.0,\"rgb(255,255,229)\"],[0.125,\"rgb(247,252,185)\"],[0.25,\"rgb(217,240,163)\"],[0.375,\"rgb(173,221,142)\"],[0.5,\"rgb(120,198,121)\"],[0.625,\"rgb(65,171,93)\"],[0.75,\"rgb(35,132,67)\"],[0.875,\"rgb(0,104,55)\"],[1.0,\"rgb(0,69,41)\"]]},\"title\":{\"text\":\"<b>\\u041a\\u043e\\u0440\\u0440\\u0435\\u043b\\u044f\\u0446\\u0438\\u044f</b>\",\"font\":{\"size\":25},\"x\":0.5},\"width\":800},                        {\"responsive\": true}                    ).then(function(){\n",
       "                            \n",
       "var gd = document.getElementById('8441698c-3b57-4407-bd70-7a12ca876e79');\n",
       "var x = new MutationObserver(function (mutations, observer) {{\n",
       "        var display = window.getComputedStyle(gd).display;\n",
       "        if (!display || display === 'none') {{\n",
       "            console.log([gd, 'removed!']);\n",
       "            Plotly.purge(gd);\n",
       "            observer.disconnect();\n",
       "        }}\n",
       "}});\n",
       "\n",
       "// Listen for the removal of the full notebook cells\n",
       "var notebookContainer = gd.closest('#notebook-container');\n",
       "if (notebookContainer) {{\n",
       "    x.observe(notebookContainer, {childList: true});\n",
       "}}\n",
       "\n",
       "// Listen for the clearing of the current output cell\n",
       "var outputEl = gd.closest('.output');\n",
       "if (outputEl) {{\n",
       "    x.observe(outputEl, {childList: true});\n",
       "}}\n",
       "\n",
       "                        })                };                });            </script>        </div>"
      ]
     },
     "metadata": {},
     "output_type": "display_data"
    }
   ],
   "source": [
    "corr_matrix=df.corr()\n",
    "fig=px.imshow(corr_matrix, text_auto='.3f',\n",
    "              color_continuous_scale='ylgn', title='<b>Корреляция</b>', width=800)\n",
    "fig.update_layout(title_x=0.5, title_font_size=25)\n",
    "fig.show()"
   ]
  },
  {
   "cell_type": "markdown",
   "id": "5174aeaf",
   "metadata": {},
   "source": [
    "## V- Modeling (Моделирование)"
   ]
  },
  {
   "cell_type": "markdown",
   "id": "8a0ff66d",
   "metadata": {},
   "source": [
    "### - зависимая переменная: Y- ВВП(GDP)\n",
    "### - независимые переменные: x1- конечное потребление государства, x2-конечное потребление, x3- валовое накопление капитала, x4-Уровень безработицы , x5- Чистый экспорт\n"
   ]
  },
  {
   "cell_type": "code",
   "execution_count": 22,
   "id": "9413cf5c",
   "metadata": {
    "scrolled": false
   },
   "outputs": [
    {
     "data": {
      "text/plain": [
       "['Конечное потребление правительства',\n",
       " 'Конечное потребление',\n",
       " 'Валовое накопление капитала',\n",
       " 'Уровень безработицы',\n",
       " 'Чистый экспорт']"
      ]
     },
     "execution_count": 22,
     "metadata": {},
     "output_type": "execute_result"
    }
   ],
   "source": [
    "# mean_y=np.mean(df['ВВП'])\n",
    "# disp_y=np.var(df['ВВП'])\n",
    "# sigma_y=np.std(df['ВВП'])\n",
    "\n",
    "# print(\"Среднее значение у=\",mean_y)\n",
    "# print(\"Дисперсия у=\",disp_y)\n",
    "# print(\"Среднее квадратическое отклонение у=\",sigma_y,\"\\n\")\n",
    "\n",
    "#список имен независимых переменных\n",
    "list_X=list(df.columns[3:])\n",
    "list_X"
   ]
  },
  {
   "cell_type": "code",
   "execution_count": 23,
   "id": "476c41e3",
   "metadata": {
    "scrolled": false
   },
   "outputs": [],
   "source": [
    "# зависимая переменная y (ВВП):\n",
    "y=df[['ВВП']]\n",
    "# Government final consumption - конечное потребление государства\n",
    "X1=df[[f'{list_X[0]}']] \n",
    "# Final consumption - конечное потребление\n",
    "X2=df[[f'{list_X[1]}']] \n",
    "# GCF - валовое накопление капитала\n",
    "X3=df[[f'{list_X[2]}']]\n",
    "# Unemployment -безработица\n",
    "X4=df[[f'{list_X[3]}']]\n",
    "#чистый экспорт\n",
    "X5=df[[f'{list_X[4]}']]\n",
    "\n",
    " #конечное потребление, конечное потребление государства, \n",
    "#валовое накопление капитала,чистый экспорт, безработица\n",
    "Z=df[list_X]"
   ]
  },
  {
   "cell_type": "markdown",
   "id": "2e153d88",
   "metadata": {},
   "source": [
    "### 1- Model1: Simple Linear Regression"
   ]
  },
  {
   "cell_type": "code",
   "execution_count": 24,
   "id": "5dab26e3",
   "metadata": {
    "scrolled": false
   },
   "outputs": [],
   "source": [
    "def model(x):\n",
    "    ml=LinearRegression()\n",
    "    ml.fit(x,y)\n",
    "    \n",
    "    #прогнозируемое значение\n",
    "    y_pred = ml.predict(x)\n",
    "    \n",
    "    #Среднеквадратическая ошибка\n",
    "    mse=mean_squared_error(y,y_pred)\n",
    "    \n",
    "    #Root Mean Square Error\n",
    "    rmse= np.sqrt(mse)\n",
    "    \n",
    "    #Коэффициент детерминации \n",
    "    R2=ml.score(x,y)\n",
    "    \n",
    "    f=f'{ml.intercept_[0]:.2f} + {ml.coef_[0][0]:.2f}*x'\n",
    "    \n",
    "    col_x=[f'{R2:.3f}',f'{rmse:.3f}',f]\n",
    "    \n",
    "    return col_x"
   ]
  },
  {
   "cell_type": "code",
   "execution_count": 25,
   "id": "027c52eb",
   "metadata": {
    "scrolled": false
   },
   "outputs": [],
   "source": [
    "model1=model(X1) #- конечное потребление государства\n",
    "model2=model(X2) # Final consumption - конечное потребление\n",
    "model3=model(X3) # GCF - валовое накопление капитала\n",
    "model4=model(X4) # Unemployment -безработица\n",
    "model5=model(X5) #чистый экспорт"
   ]
  },
  {
   "cell_type": "markdown",
   "id": "47a3901e",
   "metadata": {},
   "source": [
    "### Результаты корреляционного анализа"
   ]
  },
  {
   "cell_type": "code",
   "execution_count": 26,
   "id": "eeccc644",
   "metadata": {
    "scrolled": false
   },
   "outputs": [
    {
     "data": {
      "application/vnd.jupyter.widget-view+json": {
       "model_id": "49f139024b8142b7a399b1ed8d859448",
       "version_major": 2,
       "version_minor": 0
      },
      "text/plain": [
       "interactive(children=(Combobox(value='Конечное потребление', description='x', options=('Конечное потребление п…"
      ]
     },
     "metadata": {},
     "output_type": "display_data"
    }
   ],
   "source": [
    "#используйте ползунок, чтобы получить значение лет.\n",
    "def f(x):\n",
    "    try:\n",
    "        fig = px.scatter(\n",
    "        df, x=x, y='ВВП', opacity=0.65,\n",
    "        trendline='ols', trendline_color_override='darkblue',width=500, height=300,\n",
    "             title=f\"<b>Модель с ВВП и {x}</b>\")\n",
    "        fig.update_layout(width=800, height=400,title_x=0.5)\n",
    "        fig.show()\n",
    "        results = px.get_trendline_results(fig)\n",
    "        \n",
    "        plt.figure(figsize=(12,5))\n",
    "        g=sns.residplot(x=df[f'{x}'], y=df['ВВП'], data=df)\n",
    "        g.set_title('График остатков')\n",
    "        plt.show()\n",
    "        \n",
    "        print(f'Результаты корреляционного анализа между ВВП и {x}:')\n",
    "        print(results.px_fit_results.iloc[0].summary())\n",
    "    except:\n",
    "        print('loading...')\n",
    "\n",
    "interact(f, x=widgets.Combobox(options=list_X, value='Конечное потребление'));"
   ]
  },
  {
   "cell_type": "markdown",
   "id": "196626cd",
   "metadata": {},
   "source": [
    "### 2-  Model2: Multiple Linear Simple"
   ]
  },
  {
   "cell_type": "code",
   "execution_count": 27,
   "id": "0a1abdf3",
   "metadata": {
    "scrolled": false
   },
   "outputs": [
    {
     "name": "stdout",
     "output_type": "stream",
     "text": [
      "- Коэффициент детерминации R^2= 0.9999976533727107\n",
      "- Среднеквадратическая ошибка RMSE: 33.67916136260525\n",
      "- Формула уравнения: 0.49 + -0.02*x1 +1.02*x2+0.97*x3 +-0.05*x4 + 1.01*x5\n"
     ]
    }
   ],
   "source": [
    "modelz=LinearRegression()\n",
    "modelz.fit(Z,y)\n",
    "\n",
    "y_pred_z= modelz.predict(Z)\n",
    "#Среднеквадратическая ошибка\n",
    "mse=mean_squared_error(y,y_pred_z)\n",
    "#Root Mean Square Error\n",
    "rmseZ= np.sqrt(mse)\n",
    "#Коэффициент детерминации R^2\n",
    "R2_Z=modelz.score(Z,y)\n",
    "\n",
    "# Формула уравнения\n",
    "fz=f'{modelz.intercept_[0]:.2f} + {modelz.coef_[0][0]:.2f}*x1 +{modelz.coef_[0][1]:.2f}*x2+{modelz.coef_[0][2]:.2f}*x3 +{modelz.coef_[0][3]:.2f}*x4 + {modelz.coef_[0][4]:.2f}*x5'\n",
    "\n",
    "print(\"- Коэффициент детерминации R^2=\",R2_Z)\n",
    "print('- Среднеквадратическая ошибка RMSE:', rmseZ)\n",
    "print(\"- Формула уравнения:\",fz)\n",
    "\n",
    "col_z=[f'{R2_Z:.3f}',f'{rmseZ:.3f}',fz]"
   ]
  },
  {
   "cell_type": "markdown",
   "id": "6c0589f0",
   "metadata": {},
   "source": [
    "### 2.1  Linear regression"
   ]
  },
  {
   "cell_type": "code",
   "execution_count": 28,
   "id": "ad830de1",
   "metadata": {
    "scrolled": false
   },
   "outputs": [
    {
     "data": {
      "image/png": "[encoded data removed]",
      "text/plain": [
       "<Figure size 850x360 with 1 Axes>"
      ]
     },
     "metadata": {},
     "output_type": "display_data"
    }
   ],
   "source": [
    "y_pred=modelz.predict(Z)\n",
    "\n",
    "df[['predict_gdpz']]=y_pred\n",
    "\n",
    "fig=sns.displot({'ВВП фактический':df['ВВП'],\n",
    "                 'Прогноз ВВП':df['predict_gdpz']},\n",
    "                kde=True,palette=['red','green'],\n",
    "                height=5, aspect=2)\n",
    "\n",
    "plt.title('фактическое распределение ВВП и прогнозируемый'\n",
    "          +'ВВП на основе модели линейной регрессии')\n",
    "\n",
    "plt.show()"
   ]
  },
  {
   "cell_type": "markdown",
   "id": "3fc385fb",
   "metadata": {},
   "source": [
    "### 2.2 Log-linear regression"
   ]
  },
  {
   "cell_type": "code",
   "execution_count": 29,
   "id": "4bc67fb1",
   "metadata": {
    "scrolled": false
   },
   "outputs": [
    {
     "data": {
      "image/png": "[encoded data removed]",
      "text/plain": [
       "<Figure size 850x360 with 1 Axes>"
      ]
     },
     "metadata": {},
     "output_type": "display_data"
    }
   ],
   "source": [
    "sns.displot({'ВВП фактический':df['ВВП'],\n",
    "             'Прогноз ВВП':df['predict_gdpz']},\n",
    "            kde=True,palette=['red','green'],\n",
    "            height=5, aspect=2,log_scale=True)\n",
    "\n",
    "plt.title('фактическое распределение ВВП и прогнозируемый ВВП на'+\n",
    "          'основе модели логарифмической линейной регрессии')\n",
    "\n",
    "plt.show()"
   ]
  },
  {
   "cell_type": "markdown",
   "id": "b6b445b9",
   "metadata": {},
   "source": [
    "## 3- Model Summary"
   ]
  },
  {
   "cell_type": "code",
   "execution_count": 30,
   "id": "225d460d",
   "metadata": {},
   "outputs": [],
   "source": [
    "col_index=['Коэффициент детерминации R^2:',\n",
    "           'Среднеквадратическая ошибка RMSE:',\n",
    "           'Формула уравнения:']\n",
    "df_model=pd.DataFrame(data={'Индикаторы оценки регрессии':col_index,\n",
    "                            'X1-конечное потребление государства':model1,\n",
    "                            'X2-конечное потребление':model2,\n",
    "                            'X3-валовое накопление капитала':model3,\n",
    "                            'X4-безработица':model4,\n",
    "                            'X5-чистый экспорт':model5,\n",
    "                               'Z': col_z})"
   ]
  },
  {
   "cell_type": "code",
   "execution_count": 31,
   "id": "4de753c9",
   "metadata": {},
   "outputs": [
    {
     "data": {
      "text/html": [
       "<div>\n",
       "<style scoped>\n",
       "    .dataframe tbody tr th:only-of-type {\n",
       "        vertical-align: middle;\n",
       "    }\n",
       "\n",
       "    .dataframe tbody tr th {\n",
       "        vertical-align: top;\n",
       "    }\n",
       "\n",
       "    .dataframe thead th {\n",
       "        text-align: right;\n",
       "    }\n",
       "</style>\n",
       "<table border=\"1\" class=\"dataframe\">\n",
       "  <thead>\n",
       "    <tr style=\"text-align: right;\">\n",
       "      <th></th>\n",
       "      <th>Индикаторы оценки регрессии</th>\n",
       "      <th>X1-конечное потребление государства</th>\n",
       "      <th>X2-конечное потребление</th>\n",
       "      <th>X3-валовое накопление капитала</th>\n",
       "      <th>X4-безработица</th>\n",
       "      <th>X5-чистый экспорт</th>\n",
       "      <th>Z</th>\n",
       "    </tr>\n",
       "  </thead>\n",
       "  <tbody>\n",
       "    <tr>\n",
       "      <th>0</th>\n",
       "      <td>Коэффициент детерминации R^2:</td>\n",
       "      <td>0.979</td>\n",
       "      <td>0.972</td>\n",
       "      <td>0.877</td>\n",
       "      <td>0.004</td>\n",
       "      <td>0.110</td>\n",
       "      <td>1.000</td>\n",
       "    </tr>\n",
       "    <tr>\n",
       "      <th>1</th>\n",
       "      <td>Среднеквадратическая ошибка RMSE:</td>\n",
       "      <td>3183.956</td>\n",
       "      <td>3686.841</td>\n",
       "      <td>7710.519</td>\n",
       "      <td>21942.949</td>\n",
       "      <td>20744.744</td>\n",
       "      <td>33.679</td>\n",
       "    </tr>\n",
       "    <tr>\n",
       "      <th>2</th>\n",
       "      <td>Формула уравнения:</td>\n",
       "      <td>-534.13 + 6.18*x</td>\n",
       "      <td>162.42 + 1.33*x</td>\n",
       "      <td>997.03 + 3.13*x</td>\n",
       "      <td>7654.90 + -240.37*x</td>\n",
       "      <td>6089.05 + -10.64*x</td>\n",
       "      <td>0.49 + -0.02*x1 +1.02*x2+0.97*x3 +-0.05*x4 + 1...</td>\n",
       "    </tr>\n",
       "  </tbody>\n",
       "</table>\n",
       "</div>"
      ],
      "text/plain": [
       "         Индикаторы оценки регрессии X1-конечное потребление государства  \\\n",
       "0      Коэффициент детерминации R^2:                               0.979   \n",
       "1  Среднеквадратическая ошибка RMSE:                            3183.956   \n",
       "2                 Формула уравнения:                    -534.13 + 6.18*x   \n",
       "\n",
       "  X2-конечное потребление X3-валовое накопление капитала       X4-безработица  \\\n",
       "0                   0.972                          0.877                0.004   \n",
       "1                3686.841                       7710.519            21942.949   \n",
       "2         162.42 + 1.33*x                997.03 + 3.13*x  7654.90 + -240.37*x   \n",
       "\n",
       "    X5-чистый экспорт                                                  Z  \n",
       "0               0.110                                              1.000  \n",
       "1           20744.744                                             33.679  \n",
       "2  6089.05 + -10.64*x  0.49 + -0.02*x1 +1.02*x2+0.97*x3 +-0.05*x4 + 1...  "
      ]
     },
     "execution_count": 31,
     "metadata": {},
     "output_type": "execute_result"
    }
   ],
   "source": [
    "df_model.head()"
   ]
  },
  {
   "cell_type": "code",
   "execution_count": null,
   "id": "8a251e16",
   "metadata": {},
   "outputs": [],
   "source": []
  },
  {
   "cell_type": "code",
   "execution_count": null,
   "id": "a6d4413a",
   "metadata": {},
   "outputs": [],
   "source": []
  },
  {
   "cell_type": "code",
   "execution_count": null,
   "id": "7a79b7db",
   "metadata": {},
   "outputs": [],
   "source": []
  }
 ],
 "metadata": {
  "kernelspec": {
   "display_name": "Python 3 (ipykernel)",
   "language": "python",
   "name": "python3"
  },
  "language_info": {
   "codemirror_mode": {
    "name": "ipython",
    "version": 3
   },
   "file_extension": ".py",
   "mimetype": "text/x-python",
   "name": "python",
   "nbconvert_exporter": "python",
   "pygments_lexer": "ipython3",
   "version": "3.10.2"
  }
 },
 "nbformat": 4,
 "nbformat_minor": 5
}
